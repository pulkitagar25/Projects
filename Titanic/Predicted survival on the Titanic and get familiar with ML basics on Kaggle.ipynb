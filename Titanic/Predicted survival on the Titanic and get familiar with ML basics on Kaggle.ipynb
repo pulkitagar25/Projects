{
 "cells": [
  {
   "cell_type": "code",
   "execution_count": 1,
   "metadata": {
    "_cell_guid": "b1076dfc-b9ad-4769-8c92-a6c4dae69d19",
    "_uuid": "8f2839f25d086af736a60e9eeb907d3b93b6e0e5",
    "execution": {
     "iopub.execute_input": "2021-08-03T20:53:42.599036Z",
     "iopub.status.busy": "2021-08-03T20:53:42.598402Z",
     "iopub.status.idle": "2021-08-03T20:53:42.603984Z",
     "shell.execute_reply": "2021-08-03T20:53:42.603272Z",
     "shell.execute_reply.started": "2021-08-03T20:09:22.632075Z"
    },
    "papermill": {
     "duration": 0.037441,
     "end_time": "2021-08-03T20:53:42.604133",
     "exception": false,
     "start_time": "2021-08-03T20:53:42.566692",
     "status": "completed"
    },
    "tags": []
   },
   "outputs": [],
   "source": [
    "# This Python 3 environment comes with many helpful analytics libraries installed\n",
    "# It is defined by the kaggle/python Docker image: https://github.com/kaggle/docker-python\n",
    "# For example, here's several helpful packages to load\n",
    "\n",
    "import numpy as np # linear algebra\n",
    "import pandas as pd # data processing, CSV file I/O (e.g. pd.read_csv)\n",
    "\n",
    "# Input data files are available in the read-only \"../input/\" directory\n",
    "# For example, running this (by clicking run or pressing Shift+Enter) will list all files under the input directory\n",
    "\n",
    "import os\n",
    "for dirname, _, filenames in os.walk('/kaggle/input'):\n",
    "    for filename in filenames:\n",
    "        print(os.path.join(dirname, filename))\n",
    "\n",
    "# You can write up to 20GB to the current directory (/kaggle/working/) that gets preserved as output when you create a version using \"Save & Run All\" \n",
    "# You can also write temporary files to /kaggle/temp/, but they won't be saved outside of the current session"
   ]
  },
  {
   "cell_type": "code",
   "execution_count": 2,
   "metadata": {
    "execution": {
     "iopub.execute_input": "2021-08-03T20:53:42.646672Z",
     "iopub.status.busy": "2021-08-03T20:53:42.646046Z",
     "iopub.status.idle": "2021-08-03T20:53:42.764189Z",
     "shell.execute_reply": "2021-08-03T20:53:42.763734Z",
     "shell.execute_reply.started": "2021-08-03T20:09:22.644430Z"
    },
    "papermill": {
     "duration": 0.140677,
     "end_time": "2021-08-03T20:53:42.764323",
     "exception": false,
     "start_time": "2021-08-03T20:53:42.623646",
     "status": "completed"
    },
    "tags": []
   },
   "outputs": [
    {
     "data": {
      "text/html": [
       "<div>\n",
       "<style scoped>\n",
       "    .dataframe tbody tr th:only-of-type {\n",
       "        vertical-align: middle;\n",
       "    }\n",
       "\n",
       "    .dataframe tbody tr th {\n",
       "        vertical-align: top;\n",
       "    }\n",
       "\n",
       "    .dataframe thead th {\n",
       "        text-align: right;\n",
       "    }\n",
       "</style>\n",
       "<table border=\"1\" class=\"dataframe\">\n",
       "  <thead>\n",
       "    <tr style=\"text-align: right;\">\n",
       "      <th></th>\n",
       "      <th>PassengerId</th>\n",
       "      <th>Survived</th>\n",
       "      <th>Pclass</th>\n",
       "      <th>Name</th>\n",
       "      <th>Sex</th>\n",
       "      <th>Age</th>\n",
       "      <th>SibSp</th>\n",
       "      <th>Parch</th>\n",
       "      <th>Ticket</th>\n",
       "      <th>Fare</th>\n",
       "      <th>Cabin</th>\n",
       "      <th>Embarked</th>\n",
       "    </tr>\n",
       "  </thead>\n",
       "  <tbody>\n",
       "    <tr>\n",
       "      <th>0</th>\n",
       "      <td>1</td>\n",
       "      <td>0</td>\n",
       "      <td>3</td>\n",
       "      <td>Braund, Mr. Owen Harris</td>\n",
       "      <td>male</td>\n",
       "      <td>22.0</td>\n",
       "      <td>1</td>\n",
       "      <td>0</td>\n",
       "      <td>A/5 21171</td>\n",
       "      <td>7.2500</td>\n",
       "      <td>NaN</td>\n",
       "      <td>S</td>\n",
       "    </tr>\n",
       "    <tr>\n",
       "      <th>1</th>\n",
       "      <td>2</td>\n",
       "      <td>1</td>\n",
       "      <td>1</td>\n",
       "      <td>Cumings, Mrs. John Bradley (Florence Briggs Th...</td>\n",
       "      <td>female</td>\n",
       "      <td>38.0</td>\n",
       "      <td>1</td>\n",
       "      <td>0</td>\n",
       "      <td>PC 17599</td>\n",
       "      <td>71.2833</td>\n",
       "      <td>C85</td>\n",
       "      <td>C</td>\n",
       "    </tr>\n",
       "    <tr>\n",
       "      <th>2</th>\n",
       "      <td>3</td>\n",
       "      <td>1</td>\n",
       "      <td>3</td>\n",
       "      <td>Heikkinen, Miss. Laina</td>\n",
       "      <td>female</td>\n",
       "      <td>26.0</td>\n",
       "      <td>0</td>\n",
       "      <td>0</td>\n",
       "      <td>STON/O2. 3101282</td>\n",
       "      <td>7.9250</td>\n",
       "      <td>NaN</td>\n",
       "      <td>S</td>\n",
       "    </tr>\n",
       "    <tr>\n",
       "      <th>3</th>\n",
       "      <td>4</td>\n",
       "      <td>1</td>\n",
       "      <td>1</td>\n",
       "      <td>Futrelle, Mrs. Jacques Heath (Lily May Peel)</td>\n",
       "      <td>female</td>\n",
       "      <td>35.0</td>\n",
       "      <td>1</td>\n",
       "      <td>0</td>\n",
       "      <td>113803</td>\n",
       "      <td>53.1000</td>\n",
       "      <td>C123</td>\n",
       "      <td>S</td>\n",
       "    </tr>\n",
       "    <tr>\n",
       "      <th>4</th>\n",
       "      <td>5</td>\n",
       "      <td>0</td>\n",
       "      <td>3</td>\n",
       "      <td>Allen, Mr. William Henry</td>\n",
       "      <td>male</td>\n",
       "      <td>35.0</td>\n",
       "      <td>0</td>\n",
       "      <td>0</td>\n",
       "      <td>373450</td>\n",
       "      <td>8.0500</td>\n",
       "      <td>NaN</td>\n",
       "      <td>S</td>\n",
       "    </tr>\n",
       "  </tbody>\n",
       "</table>\n",
       "</div>"
      ],
      "text/plain": [
       "   PassengerId  Survived  Pclass  \\\n",
       "0            1         0       3   \n",
       "1            2         1       1   \n",
       "2            3         1       3   \n",
       "3            4         1       1   \n",
       "4            5         0       3   \n",
       "\n",
       "                                                Name     Sex   Age  SibSp  \\\n",
       "0                            Braund, Mr. Owen Harris    male  22.0      1   \n",
       "1  Cumings, Mrs. John Bradley (Florence Briggs Th...  female  38.0      1   \n",
       "2                             Heikkinen, Miss. Laina  female  26.0      0   \n",
       "3       Futrelle, Mrs. Jacques Heath (Lily May Peel)  female  35.0      1   \n",
       "4                           Allen, Mr. William Henry    male  35.0      0   \n",
       "\n",
       "   Parch            Ticket     Fare Cabin Embarked  \n",
       "0      0         A/5 21171   7.2500   NaN        S  \n",
       "1      0          PC 17599  71.2833   C85        C  \n",
       "2      0  STON/O2. 3101282   7.9250   NaN        S  \n",
       "3      0            113803  53.1000  C123        S  \n",
       "4      0            373450   8.0500   NaN        S  "
      ]
     },
     "execution_count": 2,
     "metadata": {},
     "output_type": "execute_result"
    }
   ],
   "source": [
    "train_data = pd.read_csv(\"train.csv\")\n",
    "train_data.head()"
   ]
  },
  {
   "cell_type": "code",
   "execution_count": 3,
   "metadata": {
    "execution": {
     "iopub.execute_input": "2021-08-03T20:53:42.807523Z",
     "iopub.status.busy": "2021-08-03T20:53:42.806824Z",
     "iopub.status.idle": "2021-08-03T20:53:42.828598Z",
     "shell.execute_reply": "2021-08-03T20:53:42.828131Z",
     "shell.execute_reply.started": "2021-08-03T20:09:22.674548Z"
    },
    "papermill": {
     "duration": 0.044954,
     "end_time": "2021-08-03T20:53:42.828736",
     "exception": false,
     "start_time": "2021-08-03T20:53:42.783782",
     "status": "completed"
    },
    "tags": []
   },
   "outputs": [
    {
     "data": {
      "text/html": [
       "<div>\n",
       "<style scoped>\n",
       "    .dataframe tbody tr th:only-of-type {\n",
       "        vertical-align: middle;\n",
       "    }\n",
       "\n",
       "    .dataframe tbody tr th {\n",
       "        vertical-align: top;\n",
       "    }\n",
       "\n",
       "    .dataframe thead th {\n",
       "        text-align: right;\n",
       "    }\n",
       "</style>\n",
       "<table border=\"1\" class=\"dataframe\">\n",
       "  <thead>\n",
       "    <tr style=\"text-align: right;\">\n",
       "      <th></th>\n",
       "      <th>PassengerId</th>\n",
       "      <th>Pclass</th>\n",
       "      <th>Name</th>\n",
       "      <th>Sex</th>\n",
       "      <th>Age</th>\n",
       "      <th>SibSp</th>\n",
       "      <th>Parch</th>\n",
       "      <th>Ticket</th>\n",
       "      <th>Fare</th>\n",
       "      <th>Cabin</th>\n",
       "      <th>Embarked</th>\n",
       "    </tr>\n",
       "  </thead>\n",
       "  <tbody>\n",
       "    <tr>\n",
       "      <th>0</th>\n",
       "      <td>892</td>\n",
       "      <td>3</td>\n",
       "      <td>Kelly, Mr. James</td>\n",
       "      <td>male</td>\n",
       "      <td>34.5</td>\n",
       "      <td>0</td>\n",
       "      <td>0</td>\n",
       "      <td>330911</td>\n",
       "      <td>7.8292</td>\n",
       "      <td>NaN</td>\n",
       "      <td>Q</td>\n",
       "    </tr>\n",
       "    <tr>\n",
       "      <th>1</th>\n",
       "      <td>893</td>\n",
       "      <td>3</td>\n",
       "      <td>Wilkes, Mrs. James (Ellen Needs)</td>\n",
       "      <td>female</td>\n",
       "      <td>47.0</td>\n",
       "      <td>1</td>\n",
       "      <td>0</td>\n",
       "      <td>363272</td>\n",
       "      <td>7.0000</td>\n",
       "      <td>NaN</td>\n",
       "      <td>S</td>\n",
       "    </tr>\n",
       "    <tr>\n",
       "      <th>2</th>\n",
       "      <td>894</td>\n",
       "      <td>2</td>\n",
       "      <td>Myles, Mr. Thomas Francis</td>\n",
       "      <td>male</td>\n",
       "      <td>62.0</td>\n",
       "      <td>0</td>\n",
       "      <td>0</td>\n",
       "      <td>240276</td>\n",
       "      <td>9.6875</td>\n",
       "      <td>NaN</td>\n",
       "      <td>Q</td>\n",
       "    </tr>\n",
       "    <tr>\n",
       "      <th>3</th>\n",
       "      <td>895</td>\n",
       "      <td>3</td>\n",
       "      <td>Wirz, Mr. Albert</td>\n",
       "      <td>male</td>\n",
       "      <td>27.0</td>\n",
       "      <td>0</td>\n",
       "      <td>0</td>\n",
       "      <td>315154</td>\n",
       "      <td>8.6625</td>\n",
       "      <td>NaN</td>\n",
       "      <td>S</td>\n",
       "    </tr>\n",
       "    <tr>\n",
       "      <th>4</th>\n",
       "      <td>896</td>\n",
       "      <td>3</td>\n",
       "      <td>Hirvonen, Mrs. Alexander (Helga E Lindqvist)</td>\n",
       "      <td>female</td>\n",
       "      <td>22.0</td>\n",
       "      <td>1</td>\n",
       "      <td>1</td>\n",
       "      <td>3101298</td>\n",
       "      <td>12.2875</td>\n",
       "      <td>NaN</td>\n",
       "      <td>S</td>\n",
       "    </tr>\n",
       "  </tbody>\n",
       "</table>\n",
       "</div>"
      ],
      "text/plain": [
       "   PassengerId  Pclass                                          Name     Sex  \\\n",
       "0          892       3                              Kelly, Mr. James    male   \n",
       "1          893       3              Wilkes, Mrs. James (Ellen Needs)  female   \n",
       "2          894       2                     Myles, Mr. Thomas Francis    male   \n",
       "3          895       3                              Wirz, Mr. Albert    male   \n",
       "4          896       3  Hirvonen, Mrs. Alexander (Helga E Lindqvist)  female   \n",
       "\n",
       "    Age  SibSp  Parch   Ticket     Fare Cabin Embarked  \n",
       "0  34.5      0      0   330911   7.8292   NaN        Q  \n",
       "1  47.0      1      0   363272   7.0000   NaN        S  \n",
       "2  62.0      0      0   240276   9.6875   NaN        Q  \n",
       "3  27.0      0      0   315154   8.6625   NaN        S  \n",
       "4  22.0      1      1  3101298  12.2875   NaN        S  "
      ]
     },
     "execution_count": 3,
     "metadata": {},
     "output_type": "execute_result"
    }
   ],
   "source": [
    "test_data = pd.read_csv(\"test.csv\")\n",
    "test_data.head()"
   ]
  },
  {
   "cell_type": "code",
   "execution_count": 4,
   "metadata": {
    "execution": {
     "iopub.execute_input": "2021-08-03T20:53:42.877815Z",
     "iopub.status.busy": "2021-08-03T20:53:42.877022Z",
     "iopub.status.idle": "2021-08-03T20:53:42.880547Z",
     "shell.execute_reply": "2021-08-03T20:53:42.880082Z",
     "shell.execute_reply.started": "2021-08-03T20:09:22.735008Z"
    },
    "papermill": {
     "duration": 0.03121,
     "end_time": "2021-08-03T20:53:42.880675",
     "exception": false,
     "start_time": "2021-08-03T20:53:42.849465",
     "status": "completed"
    },
    "tags": []
   },
   "outputs": [
    {
     "data": {
      "text/plain": [
       "PassengerId      0\n",
       "Survived         0\n",
       "Pclass           0\n",
       "Name             0\n",
       "Sex              0\n",
       "Age            177\n",
       "SibSp            0\n",
       "Parch            0\n",
       "Ticket           0\n",
       "Fare             0\n",
       "Cabin          687\n",
       "Embarked         2\n",
       "dtype: int64"
      ]
     },
     "execution_count": 4,
     "metadata": {},
     "output_type": "execute_result"
    }
   ],
   "source": [
    "train_data.isnull().sum()"
   ]
  },
  {
   "cell_type": "code",
   "execution_count": 5,
   "metadata": {
    "execution": {
     "iopub.execute_input": "2021-08-03T20:53:42.927525Z",
     "iopub.status.busy": "2021-08-03T20:53:42.926580Z",
     "iopub.status.idle": "2021-08-03T20:53:42.930672Z",
     "shell.execute_reply": "2021-08-03T20:53:42.930178Z",
     "shell.execute_reply.started": "2021-08-03T20:09:22.748488Z"
    },
    "papermill": {
     "duration": 0.030046,
     "end_time": "2021-08-03T20:53:42.930807",
     "exception": false,
     "start_time": "2021-08-03T20:53:42.900761",
     "status": "completed"
    },
    "tags": []
   },
   "outputs": [
    {
     "data": {
      "text/plain": [
       "PassengerId      int64\n",
       "Survived         int64\n",
       "Pclass           int64\n",
       "Name            object\n",
       "Sex             object\n",
       "Age            float64\n",
       "SibSp            int64\n",
       "Parch            int64\n",
       "Ticket          object\n",
       "Fare           float64\n",
       "Cabin           object\n",
       "Embarked        object\n",
       "dtype: object"
      ]
     },
     "execution_count": 5,
     "metadata": {},
     "output_type": "execute_result"
    }
   ],
   "source": [
    "train_data.dtypes"
   ]
  },
  {
   "cell_type": "code",
   "execution_count": 6,
   "metadata": {
    "execution": {
     "iopub.execute_input": "2021-08-03T20:53:42.983220Z",
     "iopub.status.busy": "2021-08-03T20:53:42.982349Z",
     "iopub.status.idle": "2021-08-03T20:53:42.986214Z",
     "shell.execute_reply": "2021-08-03T20:53:42.985785Z",
     "shell.execute_reply.started": "2021-08-03T20:09:22.764418Z"
    },
    "papermill": {
     "duration": 0.03501,
     "end_time": "2021-08-03T20:53:42.986342",
     "exception": false,
     "start_time": "2021-08-03T20:53:42.951332",
     "status": "completed"
    },
    "tags": []
   },
   "outputs": [
    {
     "data": {
      "text/plain": [
       "B96 B98        4\n",
       "G6             4\n",
       "C23 C25 C27    4\n",
       "C22 C26        3\n",
       "E101           3\n",
       "              ..\n",
       "A14            1\n",
       "C46            1\n",
       "B39            1\n",
       "B30            1\n",
       "C7             1\n",
       "Name: Cabin, Length: 147, dtype: int64"
      ]
     },
     "execution_count": 6,
     "metadata": {},
     "output_type": "execute_result"
    }
   ],
   "source": [
    "train_data['Cabin'].value_counts()"
   ]
  },
  {
   "cell_type": "code",
   "execution_count": null,
   "metadata": {
    "papermill": {
     "duration": 0.020221,
     "end_time": "2021-08-03T20:53:43.027328",
     "exception": false,
     "start_time": "2021-08-03T20:53:43.007107",
     "status": "completed"
    },
    "tags": []
   },
   "outputs": [],
   "source": []
  },
  {
   "cell_type": "code",
   "execution_count": 7,
   "metadata": {
    "execution": {
     "iopub.execute_input": "2021-08-03T20:53:43.074174Z",
     "iopub.status.busy": "2021-08-03T20:53:43.073321Z",
     "iopub.status.idle": "2021-08-03T20:53:43.090996Z",
     "shell.execute_reply": "2021-08-03T20:53:43.090409Z",
     "shell.execute_reply.started": "2021-08-03T20:09:22.783067Z"
    },
    "papermill": {
     "duration": 0.042438,
     "end_time": "2021-08-03T20:53:43.091133",
     "exception": false,
     "start_time": "2021-08-03T20:53:43.048695",
     "status": "completed"
    },
    "tags": []
   },
   "outputs": [],
   "source": [
    "df=train_data[train_data['Survived']==0]"
   ]
  },
  {
   "cell_type": "code",
   "execution_count": 8,
   "metadata": {
    "execution": {
     "iopub.execute_input": "2021-08-03T20:53:43.139205Z",
     "iopub.status.busy": "2021-08-03T20:53:43.138154Z",
     "iopub.status.idle": "2021-08-03T20:53:43.151117Z",
     "shell.execute_reply": "2021-08-03T20:53:43.150636Z",
     "shell.execute_reply.started": "2021-08-03T20:09:22.798314Z"
    },
    "papermill": {
     "duration": 0.039536,
     "end_time": "2021-08-03T20:53:43.151248",
     "exception": false,
     "start_time": "2021-08-03T20:53:43.111712",
     "status": "completed"
    },
    "tags": []
   },
   "outputs": [
    {
     "data": {
      "text/html": [
       "<div>\n",
       "<style scoped>\n",
       "    .dataframe tbody tr th:only-of-type {\n",
       "        vertical-align: middle;\n",
       "    }\n",
       "\n",
       "    .dataframe tbody tr th {\n",
       "        vertical-align: top;\n",
       "    }\n",
       "\n",
       "    .dataframe thead th {\n",
       "        text-align: right;\n",
       "    }\n",
       "</style>\n",
       "<table border=\"1\" class=\"dataframe\">\n",
       "  <thead>\n",
       "    <tr style=\"text-align: right;\">\n",
       "      <th></th>\n",
       "      <th>PassengerId</th>\n",
       "      <th>Survived</th>\n",
       "      <th>Pclass</th>\n",
       "      <th>Age</th>\n",
       "      <th>SibSp</th>\n",
       "      <th>Parch</th>\n",
       "      <th>Fare</th>\n",
       "    </tr>\n",
       "  </thead>\n",
       "  <tbody>\n",
       "    <tr>\n",
       "      <th>PassengerId</th>\n",
       "      <td>1.000000</td>\n",
       "      <td>NaN</td>\n",
       "      <td>0.051184</td>\n",
       "      <td>0.017284</td>\n",
       "      <td>-0.067959</td>\n",
       "      <td>-0.015871</td>\n",
       "      <td>-0.084730</td>\n",
       "    </tr>\n",
       "    <tr>\n",
       "      <th>Survived</th>\n",
       "      <td>NaN</td>\n",
       "      <td>NaN</td>\n",
       "      <td>NaN</td>\n",
       "      <td>NaN</td>\n",
       "      <td>NaN</td>\n",
       "      <td>NaN</td>\n",
       "      <td>NaN</td>\n",
       "    </tr>\n",
       "    <tr>\n",
       "      <th>Pclass</th>\n",
       "      <td>0.051184</td>\n",
       "      <td>NaN</td>\n",
       "      <td>1.000000</td>\n",
       "      <td>-0.434168</td>\n",
       "      <td>0.125714</td>\n",
       "      <td>0.068482</td>\n",
       "      <td>-0.517378</td>\n",
       "    </tr>\n",
       "    <tr>\n",
       "      <th>Age</th>\n",
       "      <td>0.017284</td>\n",
       "      <td>NaN</td>\n",
       "      <td>-0.434168</td>\n",
       "      <td>1.000000</td>\n",
       "      <td>-0.403734</td>\n",
       "      <td>-0.096298</td>\n",
       "      <td>0.076852</td>\n",
       "    </tr>\n",
       "    <tr>\n",
       "      <th>SibSp</th>\n",
       "      <td>-0.067959</td>\n",
       "      <td>NaN</td>\n",
       "      <td>0.125714</td>\n",
       "      <td>-0.403734</td>\n",
       "      <td>1.000000</td>\n",
       "      <td>0.477940</td>\n",
       "      <td>0.282108</td>\n",
       "    </tr>\n",
       "    <tr>\n",
       "      <th>Parch</th>\n",
       "      <td>-0.015871</td>\n",
       "      <td>NaN</td>\n",
       "      <td>0.068482</td>\n",
       "      <td>-0.096298</td>\n",
       "      <td>0.477940</td>\n",
       "      <td>1.000000</td>\n",
       "      <td>0.347307</td>\n",
       "    </tr>\n",
       "    <tr>\n",
       "      <th>Fare</th>\n",
       "      <td>-0.084730</td>\n",
       "      <td>NaN</td>\n",
       "      <td>-0.517378</td>\n",
       "      <td>0.076852</td>\n",
       "      <td>0.282108</td>\n",
       "      <td>0.347307</td>\n",
       "      <td>1.000000</td>\n",
       "    </tr>\n",
       "  </tbody>\n",
       "</table>\n",
       "</div>"
      ],
      "text/plain": [
       "             PassengerId  Survived    Pclass       Age     SibSp     Parch  \\\n",
       "PassengerId     1.000000       NaN  0.051184  0.017284 -0.067959 -0.015871   \n",
       "Survived             NaN       NaN       NaN       NaN       NaN       NaN   \n",
       "Pclass          0.051184       NaN  1.000000 -0.434168  0.125714  0.068482   \n",
       "Age             0.017284       NaN -0.434168  1.000000 -0.403734 -0.096298   \n",
       "SibSp          -0.067959       NaN  0.125714 -0.403734  1.000000  0.477940   \n",
       "Parch          -0.015871       NaN  0.068482 -0.096298  0.477940  1.000000   \n",
       "Fare           -0.084730       NaN -0.517378  0.076852  0.282108  0.347307   \n",
       "\n",
       "                 Fare  \n",
       "PassengerId -0.084730  \n",
       "Survived          NaN  \n",
       "Pclass      -0.517378  \n",
       "Age          0.076852  \n",
       "SibSp        0.282108  \n",
       "Parch        0.347307  \n",
       "Fare         1.000000  "
      ]
     },
     "execution_count": 8,
     "metadata": {},
     "output_type": "execute_result"
    }
   ],
   "source": [
    "df.corr()"
   ]
  },
  {
   "cell_type": "code",
   "execution_count": 9,
   "metadata": {
    "execution": {
     "iopub.execute_input": "2021-08-03T20:53:43.201062Z",
     "iopub.status.busy": "2021-08-03T20:53:43.200311Z",
     "iopub.status.idle": "2021-08-03T20:53:43.872980Z",
     "shell.execute_reply": "2021-08-03T20:53:43.872322Z",
     "shell.execute_reply.started": "2021-08-03T20:09:22.827626Z"
    },
    "papermill": {
     "duration": 0.700875,
     "end_time": "2021-08-03T20:53:43.873119",
     "exception": false,
     "start_time": "2021-08-03T20:53:43.172244",
     "status": "completed"
    },
    "tags": []
   },
   "outputs": [],
   "source": [
    "import matplotlib.pyplot as plt\n",
    "%matplotlib inline\n",
    "import seaborn as sb\n",
    "sb.set(style=\"whitegrid\", color_codes=True)"
   ]
  },
  {
   "cell_type": "code",
   "execution_count": 10,
   "metadata": {
    "execution": {
     "iopub.execute_input": "2021-08-03T20:53:43.938093Z",
     "iopub.status.busy": "2021-08-03T20:53:43.937372Z",
     "iopub.status.idle": "2021-08-03T20:53:44.170842Z",
     "shell.execute_reply": "2021-08-03T20:53:44.170262Z",
     "shell.execute_reply.started": "2021-08-03T20:09:22.836778Z"
    },
    "papermill": {
     "duration": 0.276849,
     "end_time": "2021-08-03T20:53:44.170968",
     "exception": false,
     "start_time": "2021-08-03T20:53:43.894119",
     "status": "completed"
    },
    "tags": []
   },
   "outputs": [
    {
     "data": {
      "image/png": "[encoded data removed]",
      "text/plain": [
       "<Figure size 1440x720 with 1 Axes>"
      ]
     },
     "metadata": {},
     "output_type": "display_data"
    }
   ],
   "source": [
    "relation = train_data[train_data['Survived']==0]['Pclass'].value_counts()\n",
    "\n",
    "plt.style.use('bmh')\n",
    "plt.figure(figsize=(20, 10))\n",
    "plt.pie(relation.values, labels=relation.index,\n",
    "        startangle=50, autopct='%1.1f%%')\n",
    "centre_circle = plt.Circle((0, 0), 0.7, fc='white')\n",
    "fig = plt.gcf()\n",
    "fig.gca().add_artist(centre_circle)\n",
    "plt.title('Relationship distribution', fontdict={\n",
    "          'fontname': 'Monospace', 'fontsize': 30, 'fontweight': 'bold'})\n",
    "plt.axis('equal')\n",
    "plt.legend(prop={'size': 15})\n",
    "plt.show()"
   ]
  },
  {
   "cell_type": "code",
   "execution_count": 11,
   "metadata": {
    "execution": {
     "iopub.execute_input": "2021-08-03T20:53:44.245028Z",
     "iopub.status.busy": "2021-08-03T20:53:44.241339Z",
     "iopub.status.idle": "2021-08-03T20:53:44.419399Z",
     "shell.execute_reply": "2021-08-03T20:53:44.418918Z",
     "shell.execute_reply.started": "2021-08-03T20:09:23.061501Z"
    },
    "papermill": {
     "duration": 0.225521,
     "end_time": "2021-08-03T20:53:44.419546",
     "exception": false,
     "start_time": "2021-08-03T20:53:44.194025",
     "status": "completed"
    },
    "tags": []
   },
   "outputs": [
    {
     "data": {
      "image/png": "[encoded data removed]",
      "text/plain": [
       "<Figure size 1440x720 with 1 Axes>"
      ]
     },
     "metadata": {},
     "output_type": "display_data"
    }
   ],
   "source": [
    "relation = train_data[train_data['Survived']==1]['Pclass'].value_counts()\n",
    "\n",
    "plt.style.use('bmh')\n",
    "plt.figure(figsize=(20, 10))\n",
    "plt.pie(relation.values, labels=relation.index,\n",
    "        startangle=50, autopct='%1.1f%%')\n",
    "centre_circle = plt.Circle((0, 0), 0.7, fc='white')\n",
    "fig = plt.gcf()\n",
    "fig.gca().add_artist(centre_circle)\n",
    "plt.title('Relationship distribution', fontdict={\n",
    "          'fontname': 'Monospace', 'fontsize': 30, 'fontweight': 'bold'})\n",
    "plt.axis('equal')\n",
    "plt.legend(prop={'size': 15})\n",
    "plt.show()"
   ]
  },
  {
   "cell_type": "code",
   "execution_count": 12,
   "metadata": {
    "execution": {
     "iopub.execute_input": "2021-08-03T20:53:44.502649Z",
     "iopub.status.busy": "2021-08-03T20:53:44.497755Z",
     "iopub.status.idle": "2021-08-03T20:53:44.667887Z",
     "shell.execute_reply": "2021-08-03T20:53:44.667394Z",
     "shell.execute_reply.started": "2021-08-03T20:09:23.415213Z"
    },
    "papermill": {
     "duration": 0.224383,
     "end_time": "2021-08-03T20:53:44.668073",
     "exception": false,
     "start_time": "2021-08-03T20:53:44.443690",
     "status": "completed"
    },
    "tags": []
   },
   "outputs": [
    {
     "data": {
      "image/png": "[encoded data removed]",
      "text/plain": [
       "<Figure size 1440x720 with 1 Axes>"
      ]
     },
     "metadata": {},
     "output_type": "display_data"
    }
   ],
   "source": [
    "relation = train_data['Pclass'].value_counts()\n",
    "\n",
    "plt.style.use('bmh')\n",
    "plt.figure(figsize=(20, 10))\n",
    "plt.pie(relation.values, labels=relation.index,\n",
    "        startangle=50, autopct='%1.1f%%')\n",
    "centre_circle = plt.Circle((0, 0), 0.7, fc='white')\n",
    "fig = plt.gcf()\n",
    "fig.gca().add_artist(centre_circle)\n",
    "plt.title('Relationship distribution', fontdict={\n",
    "          'fontname': 'Monospace', 'fontsize': 30, 'fontweight': 'bold'})\n",
    "plt.axis('equal')\n",
    "plt.legend(prop={'size': 15})\n",
    "plt.show()"
   ]
  },
  {
   "cell_type": "code",
   "execution_count": 13,
   "metadata": {
    "execution": {
     "iopub.execute_input": "2021-08-03T20:53:44.728181Z",
     "iopub.status.busy": "2021-08-03T20:53:44.727578Z",
     "iopub.status.idle": "2021-08-03T20:53:44.730592Z",
     "shell.execute_reply": "2021-08-03T20:53:44.730020Z",
     "shell.execute_reply.started": "2021-08-03T20:09:23.634509Z"
    },
    "papermill": {
     "duration": 0.035006,
     "end_time": "2021-08-03T20:53:44.730722",
     "exception": false,
     "start_time": "2021-08-03T20:53:44.695716",
     "status": "completed"
    },
    "tags": []
   },
   "outputs": [
    {
     "data": {
      "text/plain": [
       "3    491\n",
       "1    216\n",
       "2    184\n",
       "Name: Pclass, dtype: int64"
      ]
     },
     "execution_count": 13,
     "metadata": {},
     "output_type": "execute_result"
    }
   ],
   "source": [
    "train_data['Pclass'].value_counts()"
   ]
  },
  {
   "cell_type": "code",
   "execution_count": 14,
   "metadata": {
    "execution": {
     "iopub.execute_input": "2021-08-03T20:53:44.789946Z",
     "iopub.status.busy": "2021-08-03T20:53:44.789293Z",
     "iopub.status.idle": "2021-08-03T20:53:44.792260Z",
     "shell.execute_reply": "2021-08-03T20:53:44.791814Z",
     "shell.execute_reply.started": "2021-08-03T20:09:23.644959Z"
    },
    "papermill": {
     "duration": 0.035728,
     "end_time": "2021-08-03T20:53:44.792395",
     "exception": false,
     "start_time": "2021-08-03T20:53:44.756667",
     "status": "completed"
    },
    "tags": []
   },
   "outputs": [],
   "source": [
    "def Sex_to_numeric(x):\n",
    " if x =='male':\n",
    "     return 1\n",
    " if x =='female':\n",
    "     return 0\n",
    "\n",
    "train_data['Sex'] = train_data['Sex'].apply(Sex_to_numeric)"
   ]
  },
  {
   "cell_type": "code",
   "execution_count": 15,
   "metadata": {
    "execution": {
     "iopub.execute_input": "2021-08-03T20:53:44.849492Z",
     "iopub.status.busy": "2021-08-03T20:53:44.848932Z",
     "iopub.status.idle": "2021-08-03T20:53:44.853629Z",
     "shell.execute_reply": "2021-08-03T20:53:44.854072Z",
     "shell.execute_reply.started": "2021-08-03T20:09:23.658148Z"
    },
    "papermill": {
     "duration": 0.035882,
     "end_time": "2021-08-03T20:53:44.854223",
     "exception": false,
     "start_time": "2021-08-03T20:53:44.818341",
     "status": "completed"
    },
    "tags": []
   },
   "outputs": [
    {
     "data": {
      "text/plain": [
       "28.0"
      ]
     },
     "execution_count": 15,
     "metadata": {},
     "output_type": "execute_result"
    }
   ],
   "source": [
    "train_data['Age'].median()"
   ]
  },
  {
   "cell_type": "code",
   "execution_count": 16,
   "metadata": {
    "execution": {
     "iopub.execute_input": "2021-08-03T20:53:44.913630Z",
     "iopub.status.busy": "2021-08-03T20:53:44.912767Z",
     "iopub.status.idle": "2021-08-03T20:53:44.915712Z",
     "shell.execute_reply": "2021-08-03T20:53:44.915239Z",
     "shell.execute_reply.started": "2021-08-03T20:09:23.671684Z"
    },
    "papermill": {
     "duration": 0.034882,
     "end_time": "2021-08-03T20:53:44.915840",
     "exception": false,
     "start_time": "2021-08-03T20:53:44.880958",
     "status": "completed"
    },
    "tags": []
   },
   "outputs": [],
   "source": [
    "train_data['Age'] = train_data['Age'].fillna(train_data['Age'].median())"
   ]
  },
  {
   "cell_type": "code",
   "execution_count": 17,
   "metadata": {
    "execution": {
     "iopub.execute_input": "2021-08-03T20:53:44.973663Z",
     "iopub.status.busy": "2021-08-03T20:53:44.973063Z",
     "iopub.status.idle": "2021-08-03T20:53:44.979654Z",
     "shell.execute_reply": "2021-08-03T20:53:44.979184Z",
     "shell.execute_reply.started": "2021-08-03T20:09:23.681988Z"
    },
    "papermill": {
     "duration": 0.037368,
     "end_time": "2021-08-03T20:53:44.979791",
     "exception": false,
     "start_time": "2021-08-03T20:53:44.942423",
     "status": "completed"
    },
    "tags": []
   },
   "outputs": [
    {
     "data": {
      "text/plain": [
       "PassengerId      0\n",
       "Survived         0\n",
       "Pclass           0\n",
       "Name             0\n",
       "Sex              0\n",
       "Age              0\n",
       "SibSp            0\n",
       "Parch            0\n",
       "Ticket           0\n",
       "Fare             0\n",
       "Cabin          687\n",
       "Embarked         2\n",
       "dtype: int64"
      ]
     },
     "execution_count": 17,
     "metadata": {},
     "output_type": "execute_result"
    }
   ],
   "source": [
    "train_data.isnull().sum()"
   ]
  },
  {
   "cell_type": "code",
   "execution_count": 18,
   "metadata": {
    "execution": {
     "iopub.execute_input": "2021-08-03T20:53:45.040331Z",
     "iopub.status.busy": "2021-08-03T20:53:45.039572Z",
     "iopub.status.idle": "2021-08-03T20:53:45.043190Z",
     "shell.execute_reply": "2021-08-03T20:53:45.042658Z",
     "shell.execute_reply.started": "2021-08-03T20:09:23.700480Z"
    },
    "papermill": {
     "duration": 0.037164,
     "end_time": "2021-08-03T20:53:45.043326",
     "exception": false,
     "start_time": "2021-08-03T20:53:45.006162",
     "status": "completed"
    },
    "tags": []
   },
   "outputs": [
    {
     "data": {
      "text/plain": [
       "0        B96 B98\n",
       "1    C23 C25 C27\n",
       "2             G6\n",
       "dtype: object"
      ]
     },
     "execution_count": 18,
     "metadata": {},
     "output_type": "execute_result"
    }
   ],
   "source": [
    "train_data['Cabin'].mode()"
   ]
  },
  {
   "cell_type": "code",
   "execution_count": 19,
   "metadata": {
    "execution": {
     "iopub.execute_input": "2021-08-03T20:53:45.100993Z",
     "iopub.status.busy": "2021-08-03T20:53:45.100391Z",
     "iopub.status.idle": "2021-08-03T20:53:45.103250Z",
     "shell.execute_reply": "2021-08-03T20:53:45.103646Z",
     "shell.execute_reply.started": "2021-08-03T20:09:23.712179Z"
    },
    "papermill": {
     "duration": 0.033906,
     "end_time": "2021-08-03T20:53:45.103810",
     "exception": false,
     "start_time": "2021-08-03T20:53:45.069904",
     "status": "completed"
    },
    "tags": []
   },
   "outputs": [],
   "source": [
    "train_data= train_data.drop(['Name', 'Ticket','Cabin','Embarked'], axis = 1)"
   ]
  },
  {
   "cell_type": "code",
   "execution_count": 20,
   "metadata": {
    "execution": {
     "iopub.execute_input": "2021-08-03T20:53:45.159732Z",
     "iopub.status.busy": "2021-08-03T20:53:45.159189Z",
     "iopub.status.idle": "2021-08-03T20:53:45.175553Z",
     "shell.execute_reply": "2021-08-03T20:53:45.176077Z",
     "shell.execute_reply.started": "2021-08-03T20:09:23.727503Z"
    },
    "papermill": {
     "duration": 0.045757,
     "end_time": "2021-08-03T20:53:45.176236",
     "exception": false,
     "start_time": "2021-08-03T20:53:45.130479",
     "status": "completed"
    },
    "tags": []
   },
   "outputs": [
    {
     "data": {
      "text/html": [
       "<div>\n",
       "<style scoped>\n",
       "    .dataframe tbody tr th:only-of-type {\n",
       "        vertical-align: middle;\n",
       "    }\n",
       "\n",
       "    .dataframe tbody tr th {\n",
       "        vertical-align: top;\n",
       "    }\n",
       "\n",
       "    .dataframe thead th {\n",
       "        text-align: right;\n",
       "    }\n",
       "</style>\n",
       "<table border=\"1\" class=\"dataframe\">\n",
       "  <thead>\n",
       "    <tr style=\"text-align: right;\">\n",
       "      <th></th>\n",
       "      <th>PassengerId</th>\n",
       "      <th>Survived</th>\n",
       "      <th>Pclass</th>\n",
       "      <th>Sex</th>\n",
       "      <th>Age</th>\n",
       "      <th>SibSp</th>\n",
       "      <th>Parch</th>\n",
       "      <th>Fare</th>\n",
       "    </tr>\n",
       "  </thead>\n",
       "  <tbody>\n",
       "    <tr>\n",
       "      <th>0</th>\n",
       "      <td>1</td>\n",
       "      <td>0</td>\n",
       "      <td>3</td>\n",
       "      <td>1</td>\n",
       "      <td>22.0</td>\n",
       "      <td>1</td>\n",
       "      <td>0</td>\n",
       "      <td>7.2500</td>\n",
       "    </tr>\n",
       "    <tr>\n",
       "      <th>1</th>\n",
       "      <td>2</td>\n",
       "      <td>1</td>\n",
       "      <td>1</td>\n",
       "      <td>0</td>\n",
       "      <td>38.0</td>\n",
       "      <td>1</td>\n",
       "      <td>0</td>\n",
       "      <td>71.2833</td>\n",
       "    </tr>\n",
       "    <tr>\n",
       "      <th>2</th>\n",
       "      <td>3</td>\n",
       "      <td>1</td>\n",
       "      <td>3</td>\n",
       "      <td>0</td>\n",
       "      <td>26.0</td>\n",
       "      <td>0</td>\n",
       "      <td>0</td>\n",
       "      <td>7.9250</td>\n",
       "    </tr>\n",
       "    <tr>\n",
       "      <th>3</th>\n",
       "      <td>4</td>\n",
       "      <td>1</td>\n",
       "      <td>1</td>\n",
       "      <td>0</td>\n",
       "      <td>35.0</td>\n",
       "      <td>1</td>\n",
       "      <td>0</td>\n",
       "      <td>53.1000</td>\n",
       "    </tr>\n",
       "    <tr>\n",
       "      <th>4</th>\n",
       "      <td>5</td>\n",
       "      <td>0</td>\n",
       "      <td>3</td>\n",
       "      <td>1</td>\n",
       "      <td>35.0</td>\n",
       "      <td>0</td>\n",
       "      <td>0</td>\n",
       "      <td>8.0500</td>\n",
       "    </tr>\n",
       "    <tr>\n",
       "      <th>...</th>\n",
       "      <td>...</td>\n",
       "      <td>...</td>\n",
       "      <td>...</td>\n",
       "      <td>...</td>\n",
       "      <td>...</td>\n",
       "      <td>...</td>\n",
       "      <td>...</td>\n",
       "      <td>...</td>\n",
       "    </tr>\n",
       "    <tr>\n",
       "      <th>886</th>\n",
       "      <td>887</td>\n",
       "      <td>0</td>\n",
       "      <td>2</td>\n",
       "      <td>1</td>\n",
       "      <td>27.0</td>\n",
       "      <td>0</td>\n",
       "      <td>0</td>\n",
       "      <td>13.0000</td>\n",
       "    </tr>\n",
       "    <tr>\n",
       "      <th>887</th>\n",
       "      <td>888</td>\n",
       "      <td>1</td>\n",
       "      <td>1</td>\n",
       "      <td>0</td>\n",
       "      <td>19.0</td>\n",
       "      <td>0</td>\n",
       "      <td>0</td>\n",
       "      <td>30.0000</td>\n",
       "    </tr>\n",
       "    <tr>\n",
       "      <th>888</th>\n",
       "      <td>889</td>\n",
       "      <td>0</td>\n",
       "      <td>3</td>\n",
       "      <td>0</td>\n",
       "      <td>28.0</td>\n",
       "      <td>1</td>\n",
       "      <td>2</td>\n",
       "      <td>23.4500</td>\n",
       "    </tr>\n",
       "    <tr>\n",
       "      <th>889</th>\n",
       "      <td>890</td>\n",
       "      <td>1</td>\n",
       "      <td>1</td>\n",
       "      <td>1</td>\n",
       "      <td>26.0</td>\n",
       "      <td>0</td>\n",
       "      <td>0</td>\n",
       "      <td>30.0000</td>\n",
       "    </tr>\n",
       "    <tr>\n",
       "      <th>890</th>\n",
       "      <td>891</td>\n",
       "      <td>0</td>\n",
       "      <td>3</td>\n",
       "      <td>1</td>\n",
       "      <td>32.0</td>\n",
       "      <td>0</td>\n",
       "      <td>0</td>\n",
       "      <td>7.7500</td>\n",
       "    </tr>\n",
       "  </tbody>\n",
       "</table>\n",
       "<p>891 rows × 8 columns</p>\n",
       "</div>"
      ],
      "text/plain": [
       "     PassengerId  Survived  Pclass  Sex   Age  SibSp  Parch     Fare\n",
       "0              1         0       3    1  22.0      1      0   7.2500\n",
       "1              2         1       1    0  38.0      1      0  71.2833\n",
       "2              3         1       3    0  26.0      0      0   7.9250\n",
       "3              4         1       1    0  35.0      1      0  53.1000\n",
       "4              5         0       3    1  35.0      0      0   8.0500\n",
       "..           ...       ...     ...  ...   ...    ...    ...      ...\n",
       "886          887         0       2    1  27.0      0      0  13.0000\n",
       "887          888         1       1    0  19.0      0      0  30.0000\n",
       "888          889         0       3    0  28.0      1      2  23.4500\n",
       "889          890         1       1    1  26.0      0      0  30.0000\n",
       "890          891         0       3    1  32.0      0      0   7.7500\n",
       "\n",
       "[891 rows x 8 columns]"
      ]
     },
     "execution_count": 20,
     "metadata": {},
     "output_type": "execute_result"
    }
   ],
   "source": [
    "train_data"
   ]
  },
  {
   "cell_type": "code",
   "execution_count": null,
   "metadata": {
    "papermill": {
     "duration": 0.026765,
     "end_time": "2021-08-03T20:53:45.230671",
     "exception": false,
     "start_time": "2021-08-03T20:53:45.203906",
     "status": "completed"
    },
    "tags": []
   },
   "outputs": [],
   "source": []
  },
  {
   "cell_type": "code",
   "execution_count": 21,
   "metadata": {
    "execution": {
     "iopub.execute_input": "2021-08-03T20:53:45.292006Z",
     "iopub.status.busy": "2021-08-03T20:53:45.291101Z",
     "iopub.status.idle": "2021-08-03T20:53:45.297825Z",
     "shell.execute_reply": "2021-08-03T20:53:45.297100Z",
     "shell.execute_reply.started": "2021-08-03T20:09:23.757428Z"
    },
    "papermill": {
     "duration": 0.039418,
     "end_time": "2021-08-03T20:53:45.298010",
     "exception": false,
     "start_time": "2021-08-03T20:53:45.258592",
     "status": "completed"
    },
    "tags": []
   },
   "outputs": [],
   "source": [
    "\n",
    "test_data= test_data.drop(['Name', 'Ticket','Cabin','Embarked'], axis = 1)"
   ]
  },
  {
   "cell_type": "code",
   "execution_count": 22,
   "metadata": {
    "execution": {
     "iopub.execute_input": "2021-08-03T20:53:45.368237Z",
     "iopub.status.busy": "2021-08-03T20:53:45.367660Z",
     "iopub.status.idle": "2021-08-03T20:53:45.372252Z",
     "shell.execute_reply": "2021-08-03T20:53:45.371827Z",
     "shell.execute_reply.started": "2021-08-03T20:09:23.768516Z"
    },
    "papermill": {
     "duration": 0.039132,
     "end_time": "2021-08-03T20:53:45.372381",
     "exception": false,
     "start_time": "2021-08-03T20:53:45.333249",
     "status": "completed"
    },
    "tags": []
   },
   "outputs": [
    {
     "data": {
      "text/plain": [
       "35.6271884892086"
      ]
     },
     "execution_count": 22,
     "metadata": {},
     "output_type": "execute_result"
    }
   ],
   "source": [
    "test_data['Fare'].mean()"
   ]
  },
  {
   "cell_type": "code",
   "execution_count": 23,
   "metadata": {
    "execution": {
     "iopub.execute_input": "2021-08-03T20:53:45.433617Z",
     "iopub.status.busy": "2021-08-03T20:53:45.431354Z",
     "iopub.status.idle": "2021-08-03T20:53:45.436163Z",
     "shell.execute_reply": "2021-08-03T20:53:45.436711Z",
     "shell.execute_reply.started": "2021-08-03T20:09:23.782893Z"
    },
    "papermill": {
     "duration": 0.037082,
     "end_time": "2021-08-03T20:53:45.436882",
     "exception": false,
     "start_time": "2021-08-03T20:53:45.399800",
     "status": "completed"
    },
    "tags": []
   },
   "outputs": [
    {
     "data": {
      "text/plain": [
       "PassengerId     0\n",
       "Pclass          0\n",
       "Sex             0\n",
       "Age            86\n",
       "SibSp           0\n",
       "Parch           0\n",
       "Fare            1\n",
       "dtype: int64"
      ]
     },
     "execution_count": 23,
     "metadata": {},
     "output_type": "execute_result"
    }
   ],
   "source": [
    "test_data.isnull().sum()"
   ]
  },
  {
   "cell_type": "code",
   "execution_count": 24,
   "metadata": {
    "execution": {
     "iopub.execute_input": "2021-08-03T20:53:45.495297Z",
     "iopub.status.busy": "2021-08-03T20:53:45.494720Z",
     "iopub.status.idle": "2021-08-03T20:53:45.498727Z",
     "shell.execute_reply": "2021-08-03T20:53:45.499236Z",
     "shell.execute_reply.started": "2021-08-03T20:09:23.799228Z"
    },
    "papermill": {
     "duration": 0.034632,
     "end_time": "2021-08-03T20:53:45.499388",
     "exception": false,
     "start_time": "2021-08-03T20:53:45.464756",
     "status": "completed"
    },
    "tags": []
   },
   "outputs": [],
   "source": [
    "test_data['Age'] = test_data['Age'].fillna(28)"
   ]
  },
  {
   "cell_type": "code",
   "execution_count": 25,
   "metadata": {
    "execution": {
     "iopub.execute_input": "2021-08-03T20:53:45.557561Z",
     "iopub.status.busy": "2021-08-03T20:53:45.556975Z",
     "iopub.status.idle": "2021-08-03T20:53:45.561835Z",
     "shell.execute_reply": "2021-08-03T20:53:45.561356Z",
     "shell.execute_reply.started": "2021-08-03T20:09:23.812616Z"
    },
    "papermill": {
     "duration": 0.03481,
     "end_time": "2021-08-03T20:53:45.561964",
     "exception": false,
     "start_time": "2021-08-03T20:53:45.527154",
     "status": "completed"
    },
    "tags": []
   },
   "outputs": [],
   "source": [
    "test_data['Fare'] = test_data['Fare'].fillna(35.627)"
   ]
  },
  {
   "cell_type": "code",
   "execution_count": 26,
   "metadata": {
    "execution": {
     "iopub.execute_input": "2021-08-03T20:53:45.619684Z",
     "iopub.status.busy": "2021-08-03T20:53:45.619124Z",
     "iopub.status.idle": "2021-08-03T20:53:45.624388Z",
     "shell.execute_reply": "2021-08-03T20:53:45.624884Z",
     "shell.execute_reply.started": "2021-08-03T20:09:23.825989Z"
    },
    "papermill": {
     "duration": 0.035473,
     "end_time": "2021-08-03T20:53:45.625042",
     "exception": false,
     "start_time": "2021-08-03T20:53:45.589569",
     "status": "completed"
    },
    "tags": []
   },
   "outputs": [],
   "source": [
    "def Sex_to_numeric(x):\n",
    " if x =='male':\n",
    "     return 1\n",
    " if x =='female':\n",
    "     return 0\n",
    "\n",
    "test_data['Sex'] = test_data['Sex'].apply(Sex_to_numeric)"
   ]
  },
  {
   "cell_type": "code",
   "execution_count": 27,
   "metadata": {
    "execution": {
     "iopub.execute_input": "2021-08-03T20:53:45.682908Z",
     "iopub.status.busy": "2021-08-03T20:53:45.682335Z",
     "iopub.status.idle": "2021-08-03T20:53:45.688945Z",
     "shell.execute_reply": "2021-08-03T20:53:45.689458Z",
     "shell.execute_reply.started": "2021-08-03T20:09:23.839374Z"
    },
    "papermill": {
     "duration": 0.037007,
     "end_time": "2021-08-03T20:53:45.689634",
     "exception": false,
     "start_time": "2021-08-03T20:53:45.652627",
     "status": "completed"
    },
    "tags": []
   },
   "outputs": [
    {
     "data": {
      "text/plain": [
       "PassengerId    0\n",
       "Pclass         0\n",
       "Sex            0\n",
       "Age            0\n",
       "SibSp          0\n",
       "Parch          0\n",
       "Fare           0\n",
       "dtype: int64"
      ]
     },
     "execution_count": 27,
     "metadata": {},
     "output_type": "execute_result"
    }
   ],
   "source": [
    "test_data.isnull().sum()"
   ]
  },
  {
   "cell_type": "code",
   "execution_count": 28,
   "metadata": {
    "execution": {
     "iopub.execute_input": "2021-08-03T20:53:45.748624Z",
     "iopub.status.busy": "2021-08-03T20:53:45.748016Z",
     "iopub.status.idle": "2021-08-03T20:53:46.329459Z",
     "shell.execute_reply": "2021-08-03T20:53:46.329923Z",
     "shell.execute_reply.started": "2021-08-03T20:09:23.858305Z"
    },
    "papermill": {
     "duration": 0.612421,
     "end_time": "2021-08-03T20:53:46.330085",
     "exception": false,
     "start_time": "2021-08-03T20:53:45.717664",
     "status": "completed"
    },
    "tags": []
   },
   "outputs": [
    {
     "name": "stdout",
     "output_type": "stream",
     "text": [
      "Your submission was successfully saved!\n"
     ]
    }
   ],
   "source": [
    "from sklearn.ensemble import RandomForestClassifier\n",
    "\n",
    "\n",
    "\n",
    "features = [\"Pclass\", \"Sex\", \"SibSp\", \"Parch\"]\n",
    "X = train_data.drop(['Survived'],axis=1)\n",
    "y = train_data[\"Survived\"]\n",
    "X_test = test_data\n",
    "\n",
    "model = RandomForestClassifier(n_estimators=100, max_depth=5, random_state=1)\n",
    "model.fit(X, y)\n",
    "predictions = model.predict(X_test)\n",
    "\n",
    "output = pd.DataFrame({'PassengerId': test_data.PassengerId, 'Survived': predictions})\n",
    "output.to_csv('my_submission.csv', index=False)\n",
    "print(\"Your submission was successfully saved!\")"
   ]
  },
  {
   "cell_type": "markdown",
   "metadata": {
    "papermill": {
     "duration": 0.028149,
     "end_time": "2021-08-03T20:53:46.386888",
     "exception": false,
     "start_time": "2021-08-03T20:53:46.358739",
     "status": "completed"
    },
    "tags": []
   },
   "source": []
  },
  {
   "cell_type": "code",
   "execution_count": null,
   "metadata": {},
   "outputs": [],
   "source": []
  }
 ],
 "metadata": {
  "kernelspec": {
   "display_name": "Python 3",
   "language": "python",
   "name": "python3"
  },
  "language_info": {
   "codemirror_mode": {
    "name": "ipython",
    "version": 3
   },
   "file_extension": ".py",
   "mimetype": "text/x-python",
   "name": "python",
   "nbconvert_exporter": "python",
   "pygments_lexer": "ipython3",
   "version": "3.8.5"
  },
  "papermill": {
   "default_parameters": {},
   "duration": 11.652553,
   "end_time": "2021-08-03T20:53:47.845543",
   "environment_variables": {},
   "exception": null,
   "input_path": "__notebook__.ipynb",
   "output_path": "__notebook__.ipynb",
   "parameters": {},
   "start_time": "2021-08-03T20:53:36.192990",
   "version": "2.3.3"
  }
 },
 "nbformat": 4,
 "nbformat_minor": 5
}
