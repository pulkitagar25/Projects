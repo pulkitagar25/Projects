{
 "cells": [
  {
   "cell_type": "code",
   "execution_count": 1,
   "metadata": {},
   "outputs": [],
   "source": [
    "import numpy as np\n",
    "import pandas as pd\n",
    "import matplotlib.pyplot as plt\n",
    "from matplotlib import style\n",
    "import seaborn as sns\n",
    "from sklearn import preprocessing\n",
    "from sklearn.model_selection import train_test_split\n",
    "from datetime import datetime, timedelta\n",
    "import sklearn.metrics as metrics\n",
    "%matplotlib inline\n",
    "plt.style.use('fivethirtyeight')"
   ]
  },
  {
   "cell_type": "code",
   "execution_count": 2,
   "metadata": {},
   "outputs": [],
   "source": [
    "data=pd.read_csv(\"AAPL.csv\")\n",
    "data.set_index('Date', inplace=True)"
   ]
  },
  {
   "cell_type": "code",
   "execution_count": 3,
   "metadata": {},
   "outputs": [
    {
     "data": {
      "text/html": [
       "<div>\n",
       "<style scoped>\n",
       "    .dataframe tbody tr th:only-of-type {\n",
       "        vertical-align: middle;\n",
       "    }\n",
       "\n",
       "    .dataframe tbody tr th {\n",
       "        vertical-align: top;\n",
       "    }\n",
       "\n",
       "    .dataframe thead th {\n",
       "        text-align: right;\n",
       "    }\n",
       "</style>\n",
       "<table border=\"1\" class=\"dataframe\">\n",
       "  <thead>\n",
       "    <tr style=\"text-align: right;\">\n",
       "      <th></th>\n",
       "      <th>Open</th>\n",
       "      <th>High</th>\n",
       "      <th>Low</th>\n",
       "      <th>Close</th>\n",
       "      <th>Adj Close</th>\n",
       "      <th>Volume</th>\n",
       "    </tr>\n",
       "    <tr>\n",
       "      <th>Date</th>\n",
       "      <th></th>\n",
       "      <th></th>\n",
       "      <th></th>\n",
       "      <th></th>\n",
       "      <th></th>\n",
       "      <th></th>\n",
       "    </tr>\n",
       "  </thead>\n",
       "  <tbody>\n",
       "    <tr>\n",
       "      <th>2017-08-01</th>\n",
       "      <td>37.275002</td>\n",
       "      <td>37.555000</td>\n",
       "      <td>37.102501</td>\n",
       "      <td>37.512501</td>\n",
       "      <td>35.609295</td>\n",
       "      <td>141474400</td>\n",
       "    </tr>\n",
       "    <tr>\n",
       "      <th>2017-08-02</th>\n",
       "      <td>39.820000</td>\n",
       "      <td>39.937500</td>\n",
       "      <td>39.040001</td>\n",
       "      <td>39.285000</td>\n",
       "      <td>37.291874</td>\n",
       "      <td>279747200</td>\n",
       "    </tr>\n",
       "    <tr>\n",
       "      <th>2017-08-03</th>\n",
       "      <td>39.262501</td>\n",
       "      <td>39.302502</td>\n",
       "      <td>38.755001</td>\n",
       "      <td>38.892502</td>\n",
       "      <td>36.919292</td>\n",
       "      <td>108389200</td>\n",
       "    </tr>\n",
       "    <tr>\n",
       "      <th>2017-08-04</th>\n",
       "      <td>39.017502</td>\n",
       "      <td>39.349998</td>\n",
       "      <td>38.922501</td>\n",
       "      <td>39.097500</td>\n",
       "      <td>37.113876</td>\n",
       "      <td>82239600</td>\n",
       "    </tr>\n",
       "    <tr>\n",
       "      <th>2017-08-07</th>\n",
       "      <td>39.264999</td>\n",
       "      <td>39.730000</td>\n",
       "      <td>39.167500</td>\n",
       "      <td>39.702499</td>\n",
       "      <td>37.688194</td>\n",
       "      <td>87481200</td>\n",
       "    </tr>\n",
       "  </tbody>\n",
       "</table>\n",
       "</div>"
      ],
      "text/plain": [
       "                 Open       High        Low      Close  Adj Close     Volume\n",
       "Date                                                                        \n",
       "2017-08-01  37.275002  37.555000  37.102501  37.512501  35.609295  141474400\n",
       "2017-08-02  39.820000  39.937500  39.040001  39.285000  37.291874  279747200\n",
       "2017-08-03  39.262501  39.302502  38.755001  38.892502  36.919292  108389200\n",
       "2017-08-04  39.017502  39.349998  38.922501  39.097500  37.113876   82239600\n",
       "2017-08-07  39.264999  39.730000  39.167500  39.702499  37.688194   87481200"
      ]
     },
     "execution_count": 3,
     "metadata": {},
     "output_type": "execute_result"
    }
   ],
   "source": [
    "data.head()"
   ]
  },
  {
   "cell_type": "code",
   "execution_count": 4,
   "metadata": {},
   "outputs": [
    {
     "data": {
      "text/plain": [
       "Open         0\n",
       "High         0\n",
       "Low          0\n",
       "Close        0\n",
       "Adj Close    0\n",
       "Volume       0\n",
       "dtype: int64"
      ]
     },
     "execution_count": 4,
     "metadata": {},
     "output_type": "execute_result"
    }
   ],
   "source": [
    "data.isnull().sum()"
   ]
  },
  {
   "cell_type": "code",
   "execution_count": 5,
   "metadata": {
    "scrolled": true
   },
   "outputs": [
    {
     "name": "stdout",
     "output_type": "stream",
     "text": [
      "<class 'pandas.core.frame.DataFrame'>\n",
      "Index: 1113 entries, 2017-08-01 to 2021-12-30\n",
      "Data columns (total 6 columns):\n",
      " #   Column     Non-Null Count  Dtype  \n",
      "---  ------     --------------  -----  \n",
      " 0   Open       1113 non-null   float64\n",
      " 1   High       1113 non-null   float64\n",
      " 2   Low        1113 non-null   float64\n",
      " 3   Close      1113 non-null   float64\n",
      " 4   Adj Close  1113 non-null   float64\n",
      " 5   Volume     1113 non-null   int64  \n",
      "dtypes: float64(5), int64(1)\n",
      "memory usage: 60.9+ KB\n"
     ]
    }
   ],
   "source": [
    "data.info()"
   ]
  },
  {
   "cell_type": "code",
   "execution_count": 6,
   "metadata": {},
   "outputs": [],
   "source": [
    "df1=data.reset_index()['High']"
   ]
  },
  {
   "cell_type": "code",
   "execution_count": 7,
   "metadata": {},
   "outputs": [
    {
     "data": {
      "text/plain": [
       "[<matplotlib.lines.Line2D at 0x15f592931f0>]"
      ]
     },
     "execution_count": 7,
     "metadata": {},
     "output_type": "execute_result"
    },
    {
     "data": {
      "image/png": "[encoded data removed]",
      "text/plain": [
       "<Figure size 432x288 with 1 Axes>"
      ]
     },
     "metadata": {},
     "output_type": "display_data"
    }
   ],
   "source": [
    "plt.plot(df1)"
   ]
  },
  {
   "cell_type": "code",
   "execution_count": 8,
   "metadata": {},
   "outputs": [],
   "source": [
    "from sklearn.preprocessing import MinMaxScaler\n",
    "scaler=MinMaxScaler(feature_range=(0,1))\n",
    "df1=scaler.fit_transform(np.array(df1).reshape(-1,1))"
   ]
  },
  {
   "cell_type": "code",
   "execution_count": 9,
   "metadata": {},
   "outputs": [],
   "source": [
    "training_size=int(len(df1)*0.65)\n",
    "test_size=len(df1)-training_size\n",
    "train_data,test_data=df1[0:training_size,:],df1[training_size:len(df1),:1]"
   ]
  },
  {
   "cell_type": "code",
   "execution_count": 10,
   "metadata": {},
   "outputs": [],
   "source": [
    "import numpy\n",
    "def create_dataset(dataset, time_step=1):\n",
    "    dataX, dataY = [], []\n",
    "    for i in range(len(dataset)-time_step-1):\n",
    "        a = dataset[i:(i+time_step), 0] \n",
    "        dataX.append(a)\n",
    "        dataY.append(dataset[i + time_step, 0])\n",
    "    return numpy.array(dataX), numpy.array(dataY)"
   ]
  },
  {
   "cell_type": "code",
   "execution_count": 11,
   "metadata": {},
   "outputs": [],
   "source": [
    "time_step = 100\n",
    "X_train, y_train = create_dataset(train_data, time_step)\n",
    "X_test, ytest = create_dataset(test_data, time_step)"
   ]
  },
  {
   "cell_type": "code",
   "execution_count": 12,
   "metadata": {},
   "outputs": [],
   "source": [
    "X_train =X_train.reshape(X_train.shape[0],X_train.shape[1] , 1)\n",
    "X_test = X_test.reshape(X_test.shape[0],X_test.shape[1] , 1)"
   ]
  },
  {
   "cell_type": "code",
   "execution_count": 13,
   "metadata": {},
   "outputs": [],
   "source": [
    "from tensorflow.keras.models import Sequential\n",
    "from tensorflow.keras.layers import Dense\n",
    "from tensorflow.keras.layers import LSTM"
   ]
  },
  {
   "cell_type": "code",
   "execution_count": 14,
   "metadata": {},
   "outputs": [],
   "source": [
    "model=Sequential()\n",
    "model.add(LSTM(50,return_sequences=True,input_shape=(100,1)))\n",
    "model.add(LSTM(50,return_sequences=True))\n",
    "model.add(LSTM(50))\n",
    "model.add(Dense(1))\n",
    "model.compile(loss='mean_squared_error',optimizer='adam')"
   ]
  },
  {
   "cell_type": "code",
   "execution_count": 15,
   "metadata": {},
   "outputs": [
    {
     "name": "stdout",
     "output_type": "stream",
     "text": [
      "Model: \"sequential\"\n",
      "_________________________________________________________________\n",
      "Layer (type)                 Output Shape              Param #   \n",
      "=================================================================\n",
      "lstm (LSTM)                  (None, 100, 50)           10400     \n",
      "_________________________________________________________________\n",
      "lstm_1 (LSTM)                (None, 100, 50)           20200     \n",
      "_________________________________________________________________\n",
      "lstm_2 (LSTM)                (None, 50)                20200     \n",
      "_________________________________________________________________\n",
      "dense (Dense)                (None, 1)                 51        \n",
      "=================================================================\n",
      "Total params: 50,851\n",
      "Trainable params: 50,851\n",
      "Non-trainable params: 0\n",
      "_________________________________________________________________\n"
     ]
    }
   ],
   "source": [
    "model.summary()"
   ]
  },
  {
   "cell_type": "code",
   "execution_count": 16,
   "metadata": {},
   "outputs": [
    {
     "name": "stdout",
     "output_type": "stream",
     "text": [
      "Epoch 1/100\n",
      "10/10 [==============================] - 11s 265ms/step - loss: 0.0065 - val_loss: 0.1278\n",
      "Epoch 2/100\n",
      "10/10 [==============================] - 1s 136ms/step - loss: 0.0017 - val_loss: 0.0044\n",
      "Epoch 3/100\n",
      "10/10 [==============================] - 1s 137ms/step - loss: 7.9169e-04 - val_loss: 0.0048\n",
      "Epoch 4/100\n",
      "10/10 [==============================] - 1s 135ms/step - loss: 6.5228e-04 - val_loss: 0.0073\n",
      "Epoch 5/100\n",
      "10/10 [==============================] - 1s 136ms/step - loss: 5.7331e-04 - val_loss: 0.0078\n",
      "Epoch 6/100\n",
      "10/10 [==============================] - 1s 139ms/step - loss: 5.1311e-04 - val_loss: 0.0026\n",
      "Epoch 7/100\n",
      "10/10 [==============================] - 1s 137ms/step - loss: 4.7235e-04 - val_loss: 0.0023\n",
      "Epoch 8/100\n",
      "10/10 [==============================] - 1s 143ms/step - loss: 4.3539e-04 - val_loss: 0.0034\n",
      "Epoch 9/100\n",
      "10/10 [==============================] - 1s 136ms/step - loss: 3.9561e-04 - val_loss: 0.0042\n",
      "Epoch 10/100\n",
      "10/10 [==============================] - 1s 131ms/step - loss: 3.5999e-04 - val_loss: 0.0031\n",
      "Epoch 11/100\n",
      "10/10 [==============================] - 1s 127ms/step - loss: 3.2630e-04 - val_loss: 0.0038\n",
      "Epoch 12/100\n",
      "10/10 [==============================] - 1s 127ms/step - loss: 2.9149e-04 - val_loss: 0.0111\n",
      "Epoch 13/100\n",
      "10/10 [==============================] - 1s 135ms/step - loss: 2.7962e-04 - val_loss: 0.0092\n",
      "Epoch 14/100\n",
      "10/10 [==============================] - 1s 143ms/step - loss: 2.8696e-04 - val_loss: 0.0134\n",
      "Epoch 15/100\n",
      "10/10 [==============================] - 1s 128ms/step - loss: 2.7498e-04 - val_loss: 0.0074\n",
      "Epoch 16/100\n",
      "10/10 [==============================] - 1s 127ms/step - loss: 2.8210e-04 - val_loss: 0.0221\n",
      "Epoch 17/100\n",
      "10/10 [==============================] - 1s 128ms/step - loss: 3.0730e-04 - val_loss: 0.0052\n",
      "Epoch 18/100\n",
      "10/10 [==============================] - 1s 129ms/step - loss: 2.3722e-04 - val_loss: 0.0109\n",
      "Epoch 19/100\n",
      "10/10 [==============================] - 1s 142ms/step - loss: 2.3234e-04 - val_loss: 0.0077\n",
      "Epoch 20/100\n",
      "10/10 [==============================] - 1s 127ms/step - loss: 2.4623e-04 - val_loss: 0.0167\n",
      "Epoch 21/100\n",
      "10/10 [==============================] - 1s 127ms/step - loss: 2.4624e-04 - val_loss: 0.0094\n",
      "Epoch 22/100\n",
      "10/10 [==============================] - 1s 129ms/step - loss: 2.2259e-04 - val_loss: 0.0078\n",
      "Epoch 23/100\n",
      "10/10 [==============================] - 1s 127ms/step - loss: 2.3002e-04 - val_loss: 0.0158\n",
      "Epoch 24/100\n",
      "10/10 [==============================] - 1s 127ms/step - loss: 2.3632e-04 - val_loss: 0.0100\n",
      "Epoch 25/100\n",
      "10/10 [==============================] - 1s 147ms/step - loss: 2.3009e-04 - val_loss: 0.0041\n",
      "Epoch 26/100\n",
      "10/10 [==============================] - 2s 160ms/step - loss: 2.0736e-04 - val_loss: 0.0120\n",
      "Epoch 27/100\n",
      "10/10 [==============================] - 2s 159ms/step - loss: 2.0828e-04 - val_loss: 0.0085\n",
      "Epoch 28/100\n",
      "10/10 [==============================] - 2s 162ms/step - loss: 1.9878e-04 - val_loss: 0.0061\n",
      "Epoch 29/100\n",
      "10/10 [==============================] - 2s 159ms/step - loss: 1.9986e-04 - val_loss: 0.0081\n",
      "Epoch 30/100\n",
      "10/10 [==============================] - 2s 163ms/step - loss: 1.9014e-04 - val_loss: 0.0129\n",
      "Epoch 31/100\n",
      "10/10 [==============================] - 2s 159ms/step - loss: 1.8430e-04 - val_loss: 0.0083\n",
      "Epoch 32/100\n",
      "10/10 [==============================] - 2s 168ms/step - loss: 1.8872e-04 - val_loss: 0.0069\n",
      "Epoch 33/100\n",
      "10/10 [==============================] - 2s 172ms/step - loss: 1.8109e-04 - val_loss: 0.0109\n",
      "Epoch 34/100\n",
      "10/10 [==============================] - 2s 172ms/step - loss: 1.8865e-04 - val_loss: 0.0065\n",
      "Epoch 35/100\n",
      "10/10 [==============================] - 2s 176ms/step - loss: 1.9354e-04 - val_loss: 0.0106\n",
      "Epoch 36/100\n",
      "10/10 [==============================] - 2s 174ms/step - loss: 1.8758e-04 - val_loss: 0.0058\n",
      "Epoch 37/100\n",
      "10/10 [==============================] - 2s 174ms/step - loss: 1.8479e-04 - val_loss: 0.0050\n",
      "Epoch 38/100\n",
      "10/10 [==============================] - 2s 165ms/step - loss: 1.8158e-04 - val_loss: 0.0047\n",
      "Epoch 39/100\n",
      "10/10 [==============================] - 2s 161ms/step - loss: 1.9859e-04 - val_loss: 0.0089\n",
      "Epoch 40/100\n",
      "10/10 [==============================] - 2s 156ms/step - loss: 1.8103e-04 - val_loss: 0.0076\n",
      "Epoch 41/100\n",
      "10/10 [==============================] - 2s 155ms/step - loss: 1.7803e-04 - val_loss: 0.0079\n",
      "Epoch 42/100\n",
      "10/10 [==============================] - 2s 165ms/step - loss: 1.7574e-04 - val_loss: 0.0063\n",
      "Epoch 43/100\n",
      "10/10 [==============================] - 2s 168ms/step - loss: 1.9288e-04 - val_loss: 0.0045\n",
      "Epoch 44/100\n",
      "10/10 [==============================] - 2s 154ms/step - loss: 1.6763e-04 - val_loss: 0.0064\n",
      "Epoch 45/100\n",
      "10/10 [==============================] - 2s 163ms/step - loss: 1.6611e-04 - val_loss: 0.0077\n",
      "Epoch 46/100\n",
      "10/10 [==============================] - 2s 167ms/step - loss: 1.6196e-04 - val_loss: 0.0119\n",
      "Epoch 47/100\n",
      "10/10 [==============================] - 2s 158ms/step - loss: 1.9031e-04 - val_loss: 0.0044\n",
      "Epoch 48/100\n",
      "10/10 [==============================] - 2s 159ms/step - loss: 1.6685e-04 - val_loss: 0.0051\n",
      "Epoch 49/100\n",
      "10/10 [==============================] - 2s 155ms/step - loss: 1.6878e-04 - val_loss: 0.0053\n",
      "Epoch 50/100\n",
      "10/10 [==============================] - 2s 158ms/step - loss: 1.6171e-04 - val_loss: 0.0038\n",
      "Epoch 51/100\n",
      "10/10 [==============================] - 2s 157ms/step - loss: 1.8403e-04 - val_loss: 0.0097\n",
      "Epoch 52/100\n",
      "10/10 [==============================] - 2s 154ms/step - loss: 1.7848e-04 - val_loss: 0.0070\n",
      "Epoch 53/100\n",
      "10/10 [==============================] - 2s 156ms/step - loss: 1.6383e-04 - val_loss: 0.0030\n",
      "Epoch 54/100\n",
      "10/10 [==============================] - 2s 153ms/step - loss: 2.0037e-04 - val_loss: 0.0103\n",
      "Epoch 55/100\n",
      "10/10 [==============================] - 2s 156ms/step - loss: 1.9077e-04 - val_loss: 0.0052\n",
      "Epoch 56/100\n",
      "10/10 [==============================] - 2s 154ms/step - loss: 1.8828e-04 - val_loss: 0.0061\n",
      "Epoch 57/100\n",
      "10/10 [==============================] - 2s 157ms/step - loss: 1.7593e-04 - val_loss: 0.0103\n",
      "Epoch 58/100\n",
      "10/10 [==============================] - 2s 155ms/step - loss: 1.6393e-04 - val_loss: 0.0036\n",
      "Epoch 59/100\n",
      "10/10 [==============================] - 2s 154ms/step - loss: 1.8884e-04 - val_loss: 0.0056\n",
      "Epoch 60/100\n",
      "10/10 [==============================] - 2s 155ms/step - loss: 1.6718e-04 - val_loss: 0.0077\n",
      "Epoch 61/100\n",
      "10/10 [==============================] - 2s 155ms/step - loss: 1.5148e-04 - val_loss: 0.0051\n",
      "Epoch 62/100\n",
      "10/10 [==============================] - 2s 154ms/step - loss: 1.4715e-04 - val_loss: 0.0072\n",
      "Epoch 63/100\n",
      "10/10 [==============================] - 2s 153ms/step - loss: 1.6205e-04 - val_loss: 0.0036\n",
      "Epoch 64/100\n",
      "10/10 [==============================] - 2s 153ms/step - loss: 1.5842e-04 - val_loss: 0.0077\n",
      "Epoch 65/100\n",
      "10/10 [==============================] - 2s 154ms/step - loss: 1.5637e-04 - val_loss: 0.0115\n",
      "Epoch 66/100\n",
      "10/10 [==============================] - 2s 158ms/step - loss: 1.6359e-04 - val_loss: 0.0045\n",
      "Epoch 67/100\n",
      "10/10 [==============================] - 2s 156ms/step - loss: 1.7815e-04 - val_loss: 0.0039\n",
      "Epoch 68/100\n",
      "10/10 [==============================] - 2s 155ms/step - loss: 1.4728e-04 - val_loss: 0.0098\n",
      "Epoch 69/100\n",
      "10/10 [==============================] - 2s 162ms/step - loss: 1.4223e-04 - val_loss: 0.0079\n",
      "Epoch 70/100\n",
      "10/10 [==============================] - 2s 188ms/step - loss: 1.4284e-04 - val_loss: 0.0088\n",
      "Epoch 71/100\n",
      "10/10 [==============================] - 2s 192ms/step - loss: 1.4394e-04 - val_loss: 0.0078\n",
      "Epoch 72/100\n",
      "10/10 [==============================] - 2s 182ms/step - loss: 1.5571e-04 - val_loss: 0.0128\n",
      "Epoch 73/100\n",
      "10/10 [==============================] - 3s 269ms/step - loss: 1.5487e-04 - val_loss: 0.0094\n",
      "Epoch 74/100\n",
      "10/10 [==============================] - 2s 211ms/step - loss: 1.3956e-04 - val_loss: 0.0050\n",
      "Epoch 75/100\n",
      "10/10 [==============================] - 2s 166ms/step - loss: 1.5834e-04 - val_loss: 0.0119\n",
      "Epoch 76/100\n",
      "10/10 [==============================] - 2s 196ms/step - loss: 1.4767e-04 - val_loss: 0.0072\n",
      "Epoch 77/100\n",
      "10/10 [==============================] - 2s 176ms/step - loss: 1.4170e-04 - val_loss: 0.0043\n",
      "Epoch 78/100\n"
     ]
    },
    {
     "name": "stdout",
     "output_type": "stream",
     "text": [
      "10/10 [==============================] - 2s 205ms/step - loss: 1.4186e-04 - val_loss: 0.0080\n",
      "Epoch 79/100\n",
      "10/10 [==============================] - 2s 164ms/step - loss: 1.4402e-04 - val_loss: 0.0117\n",
      "Epoch 80/100\n",
      "10/10 [==============================] - 2s 158ms/step - loss: 1.3960e-04 - val_loss: 0.0069\n",
      "Epoch 81/100\n",
      "10/10 [==============================] - 2s 177ms/step - loss: 1.3672e-04 - val_loss: 0.0130\n",
      "Epoch 82/100\n",
      "10/10 [==============================] - 2s 156ms/step - loss: 1.4631e-04 - val_loss: 0.0089\n",
      "Epoch 83/100\n",
      "10/10 [==============================] - 2s 178ms/step - loss: 1.7738e-04 - val_loss: 0.0063\n",
      "Epoch 84/100\n",
      "10/10 [==============================] - 2s 173ms/step - loss: 1.4188e-04 - val_loss: 0.0144\n",
      "Epoch 85/100\n",
      "10/10 [==============================] - 2s 172ms/step - loss: 1.3511e-04 - val_loss: 0.0088\n",
      "Epoch 86/100\n",
      "10/10 [==============================] - 2s 168ms/step - loss: 1.3816e-04 - val_loss: 0.0094\n",
      "Epoch 87/100\n",
      "10/10 [==============================] - 2s 172ms/step - loss: 1.3796e-04 - val_loss: 0.0048\n",
      "Epoch 88/100\n",
      "10/10 [==============================] - 2s 174ms/step - loss: 1.4344e-04 - val_loss: 0.0112\n",
      "Epoch 89/100\n",
      "10/10 [==============================] - 2s 170ms/step - loss: 1.3783e-04 - val_loss: 0.0124\n",
      "Epoch 90/100\n",
      "10/10 [==============================] - 2s 174ms/step - loss: 1.2434e-04 - val_loss: 0.0135\n",
      "Epoch 91/100\n",
      "10/10 [==============================] - 2s 177ms/step - loss: 1.2441e-04 - val_loss: 0.0117\n",
      "Epoch 92/100\n",
      "10/10 [==============================] - 2s 171ms/step - loss: 1.3080e-04 - val_loss: 0.0169\n",
      "Epoch 93/100\n",
      "10/10 [==============================] - 2s 157ms/step - loss: 1.6295e-04 - val_loss: 0.0142\n",
      "Epoch 94/100\n",
      "10/10 [==============================] - 2s 169ms/step - loss: 1.6995e-04 - val_loss: 0.0074\n",
      "Epoch 95/100\n",
      "10/10 [==============================] - 2s 164ms/step - loss: 1.3834e-04 - val_loss: 0.0110\n",
      "Epoch 96/100\n",
      "10/10 [==============================] - 2s 165ms/step - loss: 1.4700e-04 - val_loss: 0.0235\n",
      "Epoch 97/100\n",
      "10/10 [==============================] - 2s 156ms/step - loss: 1.2526e-04 - val_loss: 0.0092\n",
      "Epoch 98/100\n",
      "10/10 [==============================] - 2s 168ms/step - loss: 1.2149e-04 - val_loss: 0.0163\n",
      "Epoch 99/100\n",
      "10/10 [==============================] - 2s 171ms/step - loss: 1.2073e-04 - val_loss: 0.0138\n",
      "Epoch 100/100\n",
      "10/10 [==============================] - 2s 159ms/step - loss: 1.1934e-04 - val_loss: 0.0096\n"
     ]
    }
   ],
   "source": [
    "model.fit(X_train,y_train,validation_data=(X_test,ytest),epochs=100,batch_size=64,verbose=1)\n",
    "import tensorflow as tf"
   ]
  },
  {
   "cell_type": "code",
   "execution_count": 17,
   "metadata": {},
   "outputs": [],
   "source": [
    "import tensorflow as tf"
   ]
  },
  {
   "cell_type": "code",
   "execution_count": 18,
   "metadata": {},
   "outputs": [],
   "source": [
    "train_predict=model.predict(X_train)\n",
    "test_predict=model.predict(X_test)"
   ]
  },
  {
   "cell_type": "code",
   "execution_count": 19,
   "metadata": {},
   "outputs": [],
   "source": [
    "train_predict=scaler.inverse_transform(train_predict)\n",
    "test_predict=scaler.inverse_transform(test_predict)"
   ]
  },
  {
   "cell_type": "code",
   "execution_count": 20,
   "metadata": {},
   "outputs": [
    {
     "data": {
      "text/plain": [
       "55.765911230015966"
      ]
     },
     "execution_count": 20,
     "metadata": {},
     "output_type": "execute_result"
    }
   ],
   "source": [
    "import math\n",
    "from sklearn.metrics import mean_squared_error\n",
    "math.sqrt(mean_squared_error(y_train,train_predict))"
   ]
  },
  {
   "cell_type": "code",
   "execution_count": 21,
   "metadata": {},
   "outputs": [
    {
     "data": {
      "text/plain": [
       "126.5858883493218"
      ]
     },
     "execution_count": 21,
     "metadata": {},
     "output_type": "execute_result"
    }
   ],
   "source": [
    "math.sqrt(mean_squared_error(ytest,test_predict))"
   ]
  },
  {
   "cell_type": "code",
   "execution_count": 22,
   "metadata": {},
   "outputs": [
    {
     "data": {
      "image/png": "[encoded data removed]",
      "text/plain": [
       "<Figure size 432x288 with 1 Axes>"
      ]
     },
     "metadata": {},
     "output_type": "display_data"
    }
   ],
   "source": [
    "look_back=100\n",
    "trainPredictPlot = numpy.empty_like(df1)\n",
    "trainPredictPlot[:, :] = np.nan\n",
    "trainPredictPlot[look_back:len(train_predict)+look_back, :] = train_predict\n",
    "# shift test predictions for plotting\n",
    "testPredictPlot = numpy.empty_like(df1)\n",
    "testPredictPlot[:, :] = numpy.nan\n",
    "testPredictPlot[len(train_predict)+(look_back*2)+1:len(df1)-1, :] = test_predict\n",
    "# plot baseline and predictions\n",
    "plt.plot(scaler.inverse_transform(df1))\n",
    "plt.plot(trainPredictPlot)\n",
    "plt.plot(testPredictPlot)\n",
    "plt.show()"
   ]
  },
  {
   "cell_type": "code",
   "execution_count": 23,
   "metadata": {},
   "outputs": [
    {
     "data": {
      "text/plain": [
       "390"
      ]
     },
     "execution_count": 23,
     "metadata": {},
     "output_type": "execute_result"
    }
   ],
   "source": [
    "len(test_data)"
   ]
  },
  {
   "cell_type": "code",
   "execution_count": 24,
   "metadata": {},
   "outputs": [
    {
     "data": {
      "text/plain": [
       "(1, 100)"
      ]
     },
     "execution_count": 24,
     "metadata": {},
     "output_type": "execute_result"
    }
   ],
   "source": [
    "x_input=test_data[290:].reshape(1,-1)\n",
    "x_input.shape"
   ]
  },
  {
   "cell_type": "code",
   "execution_count": 25,
   "metadata": {},
   "outputs": [],
   "source": [
    "temp_input=list(x_input)\n",
    "temp_input=temp_input[0].tolist()"
   ]
  },
  {
   "cell_type": "code",
   "execution_count": 26,
   "metadata": {},
   "outputs": [
    {
     "name": "stdout",
     "output_type": "stream",
     "text": [
      "[0.7946081]\n",
      "101\n",
      "1 day input [0.75696635 0.77295813 0.77563485 0.78764583 0.79100885 0.78442002\n",
      " 0.76575152 0.76918323 0.78078242 0.7853809  0.7816747  0.77343851\n",
      " 0.77089908 0.80343172 0.79869594 0.81365815 0.81187369 0.81125601\n",
      " 0.82930673 0.82779677 0.82141384 0.81708986 0.78922439 0.78682226\n",
      " 0.77563485 0.77240904 0.77137957 0.74406309 0.74241594 0.7549759\n",
      " 0.75943719 0.76211391 0.75175019 0.74344541 0.74138636 0.74090598\n",
      " 0.73088534 0.72601238 0.72621827 0.72560048 0.73980781 0.73953321\n",
      " 0.7438572  0.73315028 0.72045292 0.73747427 0.74447488 0.75778993\n",
      " 0.7737817  0.7777625  0.77700752 0.78071372 0.77515437 0.7852436\n",
      " 0.7776252  0.80123537 0.77906656 0.77741931 0.79025397 0.79299929\n",
      " 0.79615641 0.79457785 0.79025397 0.78929299 0.78037063 0.77556616\n",
      " 0.78222368 0.79238161 0.78970488 0.81379544 0.83898417 0.85511324\n",
      " 0.88723399 0.8604667  0.86280024 0.85120105 0.85628001 0.88599862\n",
      " 0.91880575 0.87693886 0.88215513 0.9021963  0.92759092 0.95765273\n",
      " 0.96307478 0.98284146 1.         0.9698696  0.98194918 0.99320518\n",
      " 0.94056277 0.9207275  0.93870962 0.95696634 0.96376116 0.98826351\n",
      " 0.99450925 0.98970487 0.98929308 0.79460812]\n",
      "1 day output [[0.76226485]]\n",
      "2 day input [0.77295813 0.77563485 0.78764583 0.79100885 0.78442002 0.76575152\n",
      " 0.76918323 0.78078242 0.7853809  0.7816747  0.77343851 0.77089908\n",
      " 0.80343172 0.79869594 0.81365815 0.81187369 0.81125601 0.82930673\n",
      " 0.82779677 0.82141384 0.81708986 0.78922439 0.78682226 0.77563485\n",
      " 0.77240904 0.77137957 0.74406309 0.74241594 0.7549759  0.75943719\n",
      " 0.76211391 0.75175019 0.74344541 0.74138636 0.74090598 0.73088534\n",
      " 0.72601238 0.72621827 0.72560048 0.73980781 0.73953321 0.7438572\n",
      " 0.73315028 0.72045292 0.73747427 0.74447488 0.75778993 0.7737817\n",
      " 0.7777625  0.77700752 0.78071372 0.77515437 0.7852436  0.7776252\n",
      " 0.80123537 0.77906656 0.77741931 0.79025397 0.79299929 0.79615641\n",
      " 0.79457785 0.79025397 0.78929299 0.78037063 0.77556616 0.78222368\n",
      " 0.79238161 0.78970488 0.81379544 0.83898417 0.85511324 0.88723399\n",
      " 0.8604667  0.86280024 0.85120105 0.85628001 0.88599862 0.91880575\n",
      " 0.87693886 0.88215513 0.9021963  0.92759092 0.95765273 0.96307478\n",
      " 0.98284146 1.         0.9698696  0.98194918 0.99320518 0.94056277\n",
      " 0.9207275  0.93870962 0.95696634 0.96376116 0.98826351 0.99450925\n",
      " 0.98970487 0.98929308 0.79460812 0.76226485]\n",
      "2 day output [[0.70065033]]\n",
      "3 day input [0.77563485 0.78764583 0.79100885 0.78442002 0.76575152 0.76918323\n",
      " 0.78078242 0.7853809  0.7816747  0.77343851 0.77089908 0.80343172\n",
      " 0.79869594 0.81365815 0.81187369 0.81125601 0.82930673 0.82779677\n",
      " 0.82141384 0.81708986 0.78922439 0.78682226 0.77563485 0.77240904\n",
      " 0.77137957 0.74406309 0.74241594 0.7549759  0.75943719 0.76211391\n",
      " 0.75175019 0.74344541 0.74138636 0.74090598 0.73088534 0.72601238\n",
      " 0.72621827 0.72560048 0.73980781 0.73953321 0.7438572  0.73315028\n",
      " 0.72045292 0.73747427 0.74447488 0.75778993 0.7737817  0.7777625\n",
      " 0.77700752 0.78071372 0.77515437 0.7852436  0.7776252  0.80123537\n",
      " 0.77906656 0.77741931 0.79025397 0.79299929 0.79615641 0.79457785\n",
      " 0.79025397 0.78929299 0.78037063 0.77556616 0.78222368 0.79238161\n",
      " 0.78970488 0.81379544 0.83898417 0.85511324 0.88723399 0.8604667\n",
      " 0.86280024 0.85120105 0.85628001 0.88599862 0.91880575 0.87693886\n",
      " 0.88215513 0.9021963  0.92759092 0.95765273 0.96307478 0.98284146\n",
      " 1.         0.9698696  0.98194918 0.99320518 0.94056277 0.9207275\n",
      " 0.93870962 0.95696634 0.96376116 0.98826351 0.99450925 0.98970487\n",
      " 0.98929308 0.79460812 0.76226485 0.70065033]\n",
      "3 day output [[0.62078303]]\n",
      "4 day input [0.78764583 0.79100885 0.78442002 0.76575152 0.76918323 0.78078242\n",
      " 0.7853809  0.7816747  0.77343851 0.77089908 0.80343172 0.79869594\n",
      " 0.81365815 0.81187369 0.81125601 0.82930673 0.82779677 0.82141384\n",
      " 0.81708986 0.78922439 0.78682226 0.77563485 0.77240904 0.77137957\n",
      " 0.74406309 0.74241594 0.7549759  0.75943719 0.76211391 0.75175019\n",
      " 0.74344541 0.74138636 0.74090598 0.73088534 0.72601238 0.72621827\n",
      " 0.72560048 0.73980781 0.73953321 0.7438572  0.73315028 0.72045292\n",
      " 0.73747427 0.74447488 0.75778993 0.7737817  0.7777625  0.77700752\n",
      " 0.78071372 0.77515437 0.7852436  0.7776252  0.80123537 0.77906656\n",
      " 0.77741931 0.79025397 0.79299929 0.79615641 0.79457785 0.79025397\n",
      " 0.78929299 0.78037063 0.77556616 0.78222368 0.79238161 0.78970488\n",
      " 0.81379544 0.83898417 0.85511324 0.88723399 0.8604667  0.86280024\n",
      " 0.85120105 0.85628001 0.88599862 0.91880575 0.87693886 0.88215513\n",
      " 0.9021963  0.92759092 0.95765273 0.96307478 0.98284146 1.\n",
      " 0.9698696  0.98194918 0.99320518 0.94056277 0.9207275  0.93870962\n",
      " 0.95696634 0.96376116 0.98826351 0.99450925 0.98970487 0.98929308\n",
      " 0.79460812 0.76226485 0.70065033 0.62078303]\n",
      "4 day output [[0.53030825]]\n",
      "5 day input [0.79100885 0.78442002 0.76575152 0.76918323 0.78078242 0.7853809\n",
      " 0.7816747  0.77343851 0.77089908 0.80343172 0.79869594 0.81365815\n",
      " 0.81187369 0.81125601 0.82930673 0.82779677 0.82141384 0.81708986\n",
      " 0.78922439 0.78682226 0.77563485 0.77240904 0.77137957 0.74406309\n",
      " 0.74241594 0.7549759  0.75943719 0.76211391 0.75175019 0.74344541\n",
      " 0.74138636 0.74090598 0.73088534 0.72601238 0.72621827 0.72560048\n",
      " 0.73980781 0.73953321 0.7438572  0.73315028 0.72045292 0.73747427\n",
      " 0.74447488 0.75778993 0.7737817  0.7777625  0.77700752 0.78071372\n",
      " 0.77515437 0.7852436  0.7776252  0.80123537 0.77906656 0.77741931\n",
      " 0.79025397 0.79299929 0.79615641 0.79457785 0.79025397 0.78929299\n",
      " 0.78037063 0.77556616 0.78222368 0.79238161 0.78970488 0.81379544\n",
      " 0.83898417 0.85511324 0.88723399 0.8604667  0.86280024 0.85120105\n",
      " 0.85628001 0.88599862 0.91880575 0.87693886 0.88215513 0.9021963\n",
      " 0.92759092 0.95765273 0.96307478 0.98284146 1.         0.9698696\n",
      " 0.98194918 0.99320518 0.94056277 0.9207275  0.93870962 0.95696634\n",
      " 0.96376116 0.98826351 0.99450925 0.98970487 0.98929308 0.79460812\n",
      " 0.76226485 0.70065033 0.62078303 0.53030825]\n",
      "5 day output [[0.43414807]]\n",
      "6 day input [0.78442002 0.76575152 0.76918323 0.78078242 0.7853809  0.7816747\n",
      " 0.77343851 0.77089908 0.80343172 0.79869594 0.81365815 0.81187369\n",
      " 0.81125601 0.82930673 0.82779677 0.82141384 0.81708986 0.78922439\n",
      " 0.78682226 0.77563485 0.77240904 0.77137957 0.74406309 0.74241594\n",
      " 0.7549759  0.75943719 0.76211391 0.75175019 0.74344541 0.74138636\n",
      " 0.74090598 0.73088534 0.72601238 0.72621827 0.72560048 0.73980781\n",
      " 0.73953321 0.7438572  0.73315028 0.72045292 0.73747427 0.74447488\n",
      " 0.75778993 0.7737817  0.7777625  0.77700752 0.78071372 0.77515437\n",
      " 0.7852436  0.7776252  0.80123537 0.77906656 0.77741931 0.79025397\n",
      " 0.79299929 0.79615641 0.79457785 0.79025397 0.78929299 0.78037063\n",
      " 0.77556616 0.78222368 0.79238161 0.78970488 0.81379544 0.83898417\n",
      " 0.85511324 0.88723399 0.8604667  0.86280024 0.85120105 0.85628001\n",
      " 0.88599862 0.91880575 0.87693886 0.88215513 0.9021963  0.92759092\n",
      " 0.95765273 0.96307478 0.98284146 1.         0.9698696  0.98194918\n",
      " 0.99320518 0.94056277 0.9207275  0.93870962 0.95696634 0.96376116\n",
      " 0.98826351 0.99450925 0.98970487 0.98929308 0.79460812 0.76226485\n",
      " 0.70065033 0.62078303 0.53030825 0.43414807]\n",
      "6 day output [[0.33563173]]\n",
      "7 day input [0.76575152 0.76918323 0.78078242 0.7853809  0.7816747  0.77343851\n",
      " 0.77089908 0.80343172 0.79869594 0.81365815 0.81187369 0.81125601\n",
      " 0.82930673 0.82779677 0.82141384 0.81708986 0.78922439 0.78682226\n",
      " 0.77563485 0.77240904 0.77137957 0.74406309 0.74241594 0.7549759\n",
      " 0.75943719 0.76211391 0.75175019 0.74344541 0.74138636 0.74090598\n",
      " 0.73088534 0.72601238 0.72621827 0.72560048 0.73980781 0.73953321\n",
      " 0.7438572  0.73315028 0.72045292 0.73747427 0.74447488 0.75778993\n",
      " 0.7737817  0.7777625  0.77700752 0.78071372 0.77515437 0.7852436\n",
      " 0.7776252  0.80123537 0.77906656 0.77741931 0.79025397 0.79299929\n",
      " 0.79615641 0.79457785 0.79025397 0.78929299 0.78037063 0.77556616\n",
      " 0.78222368 0.79238161 0.78970488 0.81379544 0.83898417 0.85511324\n",
      " 0.88723399 0.8604667  0.86280024 0.85120105 0.85628001 0.88599862\n",
      " 0.91880575 0.87693886 0.88215513 0.9021963  0.92759092 0.95765273\n",
      " 0.96307478 0.98284146 1.         0.9698696  0.98194918 0.99320518\n",
      " 0.94056277 0.9207275  0.93870962 0.95696634 0.96376116 0.98826351\n",
      " 0.99450925 0.98970487 0.98929308 0.79460812 0.76226485 0.70065033\n",
      " 0.62078303 0.53030825 0.43414807 0.33563173]\n",
      "7 day output [[0.23720273]]\n",
      "8 day input [0.76918323 0.78078242 0.7853809  0.7816747  0.77343851 0.77089908\n",
      " 0.80343172 0.79869594 0.81365815 0.81187369 0.81125601 0.82930673\n",
      " 0.82779677 0.82141384 0.81708986 0.78922439 0.78682226 0.77563485\n",
      " 0.77240904 0.77137957 0.74406309 0.74241594 0.7549759  0.75943719\n",
      " 0.76211391 0.75175019 0.74344541 0.74138636 0.74090598 0.73088534\n",
      " 0.72601238 0.72621827 0.72560048 0.73980781 0.73953321 0.7438572\n",
      " 0.73315028 0.72045292 0.73747427 0.74447488 0.75778993 0.7737817\n",
      " 0.7777625  0.77700752 0.78071372 0.77515437 0.7852436  0.7776252\n",
      " 0.80123537 0.77906656 0.77741931 0.79025397 0.79299929 0.79615641\n",
      " 0.79457785 0.79025397 0.78929299 0.78037063 0.77556616 0.78222368\n",
      " 0.79238161 0.78970488 0.81379544 0.83898417 0.85511324 0.88723399\n",
      " 0.8604667  0.86280024 0.85120105 0.85628001 0.88599862 0.91880575\n",
      " 0.87693886 0.88215513 0.9021963  0.92759092 0.95765273 0.96307478\n",
      " 0.98284146 1.         0.9698696  0.98194918 0.99320518 0.94056277\n",
      " 0.9207275  0.93870962 0.95696634 0.96376116 0.98826351 0.99450925\n",
      " 0.98970487 0.98929308 0.79460812 0.76226485 0.70065033 0.62078303\n",
      " 0.53030825 0.43414807 0.33563173 0.23720273]\n",
      "8 day output [[0.1409018]]\n",
      "9 day input [0.78078242 0.7853809  0.7816747  0.77343851 0.77089908 0.80343172\n",
      " 0.79869594 0.81365815 0.81187369 0.81125601 0.82930673 0.82779677\n",
      " 0.82141384 0.81708986 0.78922439 0.78682226 0.77563485 0.77240904\n",
      " 0.77137957 0.74406309 0.74241594 0.7549759  0.75943719 0.76211391\n",
      " 0.75175019 0.74344541 0.74138636 0.74090598 0.73088534 0.72601238\n",
      " 0.72621827 0.72560048 0.73980781 0.73953321 0.7438572  0.73315028\n",
      " 0.72045292 0.73747427 0.74447488 0.75778993 0.7737817  0.7777625\n",
      " 0.77700752 0.78071372 0.77515437 0.7852436  0.7776252  0.80123537\n",
      " 0.77906656 0.77741931 0.79025397 0.79299929 0.79615641 0.79457785\n",
      " 0.79025397 0.78929299 0.78037063 0.77556616 0.78222368 0.79238161\n",
      " 0.78970488 0.81379544 0.83898417 0.85511324 0.88723399 0.8604667\n",
      " 0.86280024 0.85120105 0.85628001 0.88599862 0.91880575 0.87693886\n",
      " 0.88215513 0.9021963  0.92759092 0.95765273 0.96307478 0.98284146\n",
      " 1.         0.9698696  0.98194918 0.99320518 0.94056277 0.9207275\n",
      " 0.93870962 0.95696634 0.96376116 0.98826351 0.99450925 0.98970487\n",
      " 0.98929308 0.79460812 0.76226485 0.70065033 0.62078303 0.53030825\n",
      " 0.43414807 0.33563173 0.23720273 0.1409018 ]\n"
     ]
    },
    {
     "name": "stdout",
     "output_type": "stream",
     "text": [
      "9 day output [[0.04888034]]\n",
      "10 day input [0.7853809  0.7816747  0.77343851 0.77089908 0.80343172 0.79869594\n",
      " 0.81365815 0.81187369 0.81125601 0.82930673 0.82779677 0.82141384\n",
      " 0.81708986 0.78922439 0.78682226 0.77563485 0.77240904 0.77137957\n",
      " 0.74406309 0.74241594 0.7549759  0.75943719 0.76211391 0.75175019\n",
      " 0.74344541 0.74138636 0.74090598 0.73088534 0.72601238 0.72621827\n",
      " 0.72560048 0.73980781 0.73953321 0.7438572  0.73315028 0.72045292\n",
      " 0.73747427 0.74447488 0.75778993 0.7737817  0.7777625  0.77700752\n",
      " 0.78071372 0.77515437 0.7852436  0.7776252  0.80123537 0.77906656\n",
      " 0.77741931 0.79025397 0.79299929 0.79615641 0.79457785 0.79025397\n",
      " 0.78929299 0.78037063 0.77556616 0.78222368 0.79238161 0.78970488\n",
      " 0.81379544 0.83898417 0.85511324 0.88723399 0.8604667  0.86280024\n",
      " 0.85120105 0.85628001 0.88599862 0.91880575 0.87693886 0.88215513\n",
      " 0.9021963  0.92759092 0.95765273 0.96307478 0.98284146 1.\n",
      " 0.9698696  0.98194918 0.99320518 0.94056277 0.9207275  0.93870962\n",
      " 0.95696634 0.96376116 0.98826351 0.99450925 0.98970487 0.98929308\n",
      " 0.79460812 0.76226485 0.70065033 0.62078303 0.53030825 0.43414807\n",
      " 0.33563173 0.23720273 0.1409018  0.04888034]\n",
      "10 day output [[-0.03635924]]\n",
      "11 day input [ 0.7816747   0.77343851  0.77089908  0.80343172  0.79869594  0.81365815\n",
      "  0.81187369  0.81125601  0.82930673  0.82779677  0.82141384  0.81708986\n",
      "  0.78922439  0.78682226  0.77563485  0.77240904  0.77137957  0.74406309\n",
      "  0.74241594  0.7549759   0.75943719  0.76211391  0.75175019  0.74344541\n",
      "  0.74138636  0.74090598  0.73088534  0.72601238  0.72621827  0.72560048\n",
      "  0.73980781  0.73953321  0.7438572   0.73315028  0.72045292  0.73747427\n",
      "  0.74447488  0.75778993  0.7737817   0.7777625   0.77700752  0.78071372\n",
      "  0.77515437  0.7852436   0.7776252   0.80123537  0.77906656  0.77741931\n",
      "  0.79025397  0.79299929  0.79615641  0.79457785  0.79025397  0.78929299\n",
      "  0.78037063  0.77556616  0.78222368  0.79238161  0.78970488  0.81379544\n",
      "  0.83898417  0.85511324  0.88723399  0.8604667   0.86280024  0.85120105\n",
      "  0.85628001  0.88599862  0.91880575  0.87693886  0.88215513  0.9021963\n",
      "  0.92759092  0.95765273  0.96307478  0.98284146  1.          0.9698696\n",
      "  0.98194918  0.99320518  0.94056277  0.9207275   0.93870962  0.95696634\n",
      "  0.96376116  0.98826351  0.99450925  0.98970487  0.98929308  0.79460812\n",
      "  0.76226485  0.70065033  0.62078303  0.53030825  0.43414807  0.33563173\n",
      "  0.23720273  0.1409018   0.04888034 -0.03635924]\n",
      "11 day output [[-0.11240418]]\n",
      "12 day input [ 0.77343851  0.77089908  0.80343172  0.79869594  0.81365815  0.81187369\n",
      "  0.81125601  0.82930673  0.82779677  0.82141384  0.81708986  0.78922439\n",
      "  0.78682226  0.77563485  0.77240904  0.77137957  0.74406309  0.74241594\n",
      "  0.7549759   0.75943719  0.76211391  0.75175019  0.74344541  0.74138636\n",
      "  0.74090598  0.73088534  0.72601238  0.72621827  0.72560048  0.73980781\n",
      "  0.73953321  0.7438572   0.73315028  0.72045292  0.73747427  0.74447488\n",
      "  0.75778993  0.7737817   0.7777625   0.77700752  0.78071372  0.77515437\n",
      "  0.7852436   0.7776252   0.80123537  0.77906656  0.77741931  0.79025397\n",
      "  0.79299929  0.79615641  0.79457785  0.79025397  0.78929299  0.78037063\n",
      "  0.77556616  0.78222368  0.79238161  0.78970488  0.81379544  0.83898417\n",
      "  0.85511324  0.88723399  0.8604667   0.86280024  0.85120105  0.85628001\n",
      "  0.88599862  0.91880575  0.87693886  0.88215513  0.9021963   0.92759092\n",
      "  0.95765273  0.96307478  0.98284146  1.          0.9698696   0.98194918\n",
      "  0.99320518  0.94056277  0.9207275   0.93870962  0.95696634  0.96376116\n",
      "  0.98826351  0.99450925  0.98970487  0.98929308  0.79460812  0.76226485\n",
      "  0.70065033  0.62078303  0.53030825  0.43414807  0.33563173  0.23720273\n",
      "  0.1409018   0.04888034 -0.03635924 -0.11240418]\n",
      "12 day output [[-0.17728801]]\n",
      "13 day input [ 0.77089908  0.80343172  0.79869594  0.81365815  0.81187369  0.81125601\n",
      "  0.82930673  0.82779677  0.82141384  0.81708986  0.78922439  0.78682226\n",
      "  0.77563485  0.77240904  0.77137957  0.74406309  0.74241594  0.7549759\n",
      "  0.75943719  0.76211391  0.75175019  0.74344541  0.74138636  0.74090598\n",
      "  0.73088534  0.72601238  0.72621827  0.72560048  0.73980781  0.73953321\n",
      "  0.7438572   0.73315028  0.72045292  0.73747427  0.74447488  0.75778993\n",
      "  0.7737817   0.7777625   0.77700752  0.78071372  0.77515437  0.7852436\n",
      "  0.7776252   0.80123537  0.77906656  0.77741931  0.79025397  0.79299929\n",
      "  0.79615641  0.79457785  0.79025397  0.78929299  0.78037063  0.77556616\n",
      "  0.78222368  0.79238161  0.78970488  0.81379544  0.83898417  0.85511324\n",
      "  0.88723399  0.8604667   0.86280024  0.85120105  0.85628001  0.88599862\n",
      "  0.91880575  0.87693886  0.88215513  0.9021963   0.92759092  0.95765273\n",
      "  0.96307478  0.98284146  1.          0.9698696   0.98194918  0.99320518\n",
      "  0.94056277  0.9207275   0.93870962  0.95696634  0.96376116  0.98826351\n",
      "  0.99450925  0.98970487  0.98929308  0.79460812  0.76226485  0.70065033\n",
      "  0.62078303  0.53030825  0.43414807  0.33563173  0.23720273  0.1409018\n",
      "  0.04888034 -0.03635924 -0.11240418 -0.17728801]\n",
      "13 day output [[-0.22894976]]\n",
      "14 day input [ 0.80343172  0.79869594  0.81365815  0.81187369  0.81125601  0.82930673\n",
      "  0.82779677  0.82141384  0.81708986  0.78922439  0.78682226  0.77563485\n",
      "  0.77240904  0.77137957  0.74406309  0.74241594  0.7549759   0.75943719\n",
      "  0.76211391  0.75175019  0.74344541  0.74138636  0.74090598  0.73088534\n",
      "  0.72601238  0.72621827  0.72560048  0.73980781  0.73953321  0.7438572\n",
      "  0.73315028  0.72045292  0.73747427  0.74447488  0.75778993  0.7737817\n",
      "  0.7777625   0.77700752  0.78071372  0.77515437  0.7852436   0.7776252\n",
      "  0.80123537  0.77906656  0.77741931  0.79025397  0.79299929  0.79615641\n",
      "  0.79457785  0.79025397  0.78929299  0.78037063  0.77556616  0.78222368\n",
      "  0.79238161  0.78970488  0.81379544  0.83898417  0.85511324  0.88723399\n",
      "  0.8604667   0.86280024  0.85120105  0.85628001  0.88599862  0.91880575\n",
      "  0.87693886  0.88215513  0.9021963   0.92759092  0.95765273  0.96307478\n",
      "  0.98284146  1.          0.9698696   0.98194918  0.99320518  0.94056277\n",
      "  0.9207275   0.93870962  0.95696634  0.96376116  0.98826351  0.99450925\n",
      "  0.98970487  0.98929308  0.79460812  0.76226485  0.70065033  0.62078303\n",
      "  0.53030825  0.43414807  0.33563173  0.23720273  0.1409018   0.04888034\n",
      " -0.03635924 -0.11240418 -0.17728801 -0.22894976]\n",
      "14 day output [[-0.26535147]]\n",
      "15 day input [ 0.79869594  0.81365815  0.81187369  0.81125601  0.82930673  0.82779677\n",
      "  0.82141384  0.81708986  0.78922439  0.78682226  0.77563485  0.77240904\n",
      "  0.77137957  0.74406309  0.74241594  0.7549759   0.75943719  0.76211391\n",
      "  0.75175019  0.74344541  0.74138636  0.74090598  0.73088534  0.72601238\n",
      "  0.72621827  0.72560048  0.73980781  0.73953321  0.7438572   0.73315028\n",
      "  0.72045292  0.73747427  0.74447488  0.75778993  0.7737817   0.7777625\n",
      "  0.77700752  0.78071372  0.77515437  0.7852436   0.7776252   0.80123537\n",
      "  0.77906656  0.77741931  0.79025397  0.79299929  0.79615641  0.79457785\n",
      "  0.79025397  0.78929299  0.78037063  0.77556616  0.78222368  0.79238161\n",
      "  0.78970488  0.81379544  0.83898417  0.85511324  0.88723399  0.8604667\n",
      "  0.86280024  0.85120105  0.85628001  0.88599862  0.91880575  0.87693886\n",
      "  0.88215513  0.9021963   0.92759092  0.95765273  0.96307478  0.98284146\n",
      "  1.          0.9698696   0.98194918  0.99320518  0.94056277  0.9207275\n",
      "  0.93870962  0.95696634  0.96376116  0.98826351  0.99450925  0.98970487\n",
      "  0.98929308  0.79460812  0.76226485  0.70065033  0.62078303  0.53030825\n",
      "  0.43414807  0.33563173  0.23720273  0.1409018   0.04888034 -0.03635924\n",
      " -0.11240418 -0.17728801 -0.22894976 -0.26535147]\n",
      "15 day output [[-0.2861795]]\n",
      "16 day input [ 0.81365815  0.81187369  0.81125601  0.82930673  0.82779677  0.82141384\n",
      "  0.81708986  0.78922439  0.78682226  0.77563485  0.77240904  0.77137957\n",
      "  0.74406309  0.74241594  0.7549759   0.75943719  0.76211391  0.75175019\n",
      "  0.74344541  0.74138636  0.74090598  0.73088534  0.72601238  0.72621827\n",
      "  0.72560048  0.73980781  0.73953321  0.7438572   0.73315028  0.72045292\n",
      "  0.73747427  0.74447488  0.75778993  0.7737817   0.7777625   0.77700752\n",
      "  0.78071372  0.77515437  0.7852436   0.7776252   0.80123537  0.77906656\n",
      "  0.77741931  0.79025397  0.79299929  0.79615641  0.79457785  0.79025397\n",
      "  0.78929299  0.78037063  0.77556616  0.78222368  0.79238161  0.78970488\n",
      "  0.81379544  0.83898417  0.85511324  0.88723399  0.8604667   0.86280024\n",
      "  0.85120105  0.85628001  0.88599862  0.91880575  0.87693886  0.88215513\n",
      "  0.9021963   0.92759092  0.95765273  0.96307478  0.98284146  1.\n",
      "  0.9698696   0.98194918  0.99320518  0.94056277  0.9207275   0.93870962\n",
      "  0.95696634  0.96376116  0.98826351  0.99450925  0.98970487  0.98929308\n",
      "  0.79460812  0.76226485  0.70065033  0.62078303  0.53030825  0.43414807\n",
      "  0.33563173  0.23720273  0.1409018   0.04888034 -0.03635924 -0.11240418\n",
      " -0.17728801 -0.22894976 -0.26535147 -0.28617951]\n",
      "16 day output [[-0.2936398]]\n",
      "17 day input [ 0.81187369  0.81125601  0.82930673  0.82779677  0.82141384  0.81708986\n",
      "  0.78922439  0.78682226  0.77563485  0.77240904  0.77137957  0.74406309\n",
      "  0.74241594  0.7549759   0.75943719  0.76211391  0.75175019  0.74344541\n",
      "  0.74138636  0.74090598  0.73088534  0.72601238  0.72621827  0.72560048\n",
      "  0.73980781  0.73953321  0.7438572   0.73315028  0.72045292  0.73747427\n",
      "  0.74447488  0.75778993  0.7737817   0.7777625   0.77700752  0.78071372\n",
      "  0.77515437  0.7852436   0.7776252   0.80123537  0.77906656  0.77741931\n",
      "  0.79025397  0.79299929  0.79615641  0.79457785  0.79025397  0.78929299\n",
      "  0.78037063  0.77556616  0.78222368  0.79238161  0.78970488  0.81379544\n",
      "  0.83898417  0.85511324  0.88723399  0.8604667   0.86280024  0.85120105\n",
      "  0.85628001  0.88599862  0.91880575  0.87693886  0.88215513  0.9021963\n",
      "  0.92759092  0.95765273  0.96307478  0.98284146  1.          0.9698696\n",
      "  0.98194918  0.99320518  0.94056277  0.9207275   0.93870962  0.95696634\n",
      "  0.96376116  0.98826351  0.99450925  0.98970487  0.98929308  0.79460812\n",
      "  0.76226485  0.70065033  0.62078303  0.53030825  0.43414807  0.33563173\n",
      "  0.23720273  0.1409018   0.04888034 -0.03635924 -0.11240418 -0.17728801\n",
      " -0.22894976 -0.26535147 -0.28617951 -0.29363981]\n",
      "17 day output [[-0.29125658]]\n",
      "18 day input [ 0.81125601  0.82930673  0.82779677  0.82141384  0.81708986  0.78922439\n",
      "  0.78682226  0.77563485  0.77240904  0.77137957  0.74406309  0.74241594\n",
      "  0.7549759   0.75943719  0.76211391  0.75175019  0.74344541  0.74138636\n",
      "  0.74090598  0.73088534  0.72601238  0.72621827  0.72560048  0.73980781\n",
      "  0.73953321  0.7438572   0.73315028  0.72045292  0.73747427  0.74447488\n",
      "  0.75778993  0.7737817   0.7777625   0.77700752  0.78071372  0.77515437\n",
      "  0.7852436   0.7776252   0.80123537  0.77906656  0.77741931  0.79025397\n",
      "  0.79299929  0.79615641  0.79457785  0.79025397  0.78929299  0.78037063\n",
      "  0.77556616  0.78222368  0.79238161  0.78970488  0.81379544  0.83898417\n",
      "  0.85511324  0.88723399  0.8604667   0.86280024  0.85120105  0.85628001\n",
      "  0.88599862  0.91880575  0.87693886  0.88215513  0.9021963   0.92759092\n",
      "  0.95765273  0.96307478  0.98284146  1.          0.9698696   0.98194918\n",
      "  0.99320518  0.94056277  0.9207275   0.93870962  0.95696634  0.96376116\n",
      "  0.98826351  0.99450925  0.98970487  0.98929308  0.79460812  0.76226485\n",
      "  0.70065033  0.62078303  0.53030825  0.43414807  0.33563173  0.23720273\n",
      "  0.1409018   0.04888034 -0.03635924 -0.11240418 -0.17728801 -0.22894976\n",
      " -0.26535147 -0.28617951 -0.29363981 -0.29125658]\n",
      "18 day output [[-0.28238335]]\n",
      "19 day input [ 0.82930673  0.82779677  0.82141384  0.81708986  0.78922439  0.78682226\n",
      "  0.77563485  0.77240904  0.77137957  0.74406309  0.74241594  0.7549759\n",
      "  0.75943719  0.76211391  0.75175019  0.74344541  0.74138636  0.74090598\n",
      "  0.73088534  0.72601238  0.72621827  0.72560048  0.73980781  0.73953321\n",
      "  0.7438572   0.73315028  0.72045292  0.73747427  0.74447488  0.75778993\n",
      "  0.7737817   0.7777625   0.77700752  0.78071372  0.77515437  0.7852436\n",
      "  0.7776252   0.80123537  0.77906656  0.77741931  0.79025397  0.79299929\n",
      "  0.79615641  0.79457785  0.79025397  0.78929299  0.78037063  0.77556616\n",
      "  0.78222368  0.79238161  0.78970488  0.81379544  0.83898417  0.85511324\n",
      "  0.88723399  0.8604667   0.86280024  0.85120105  0.85628001  0.88599862\n",
      "  0.91880575  0.87693886  0.88215513  0.9021963   0.92759092  0.95765273\n",
      "  0.96307478  0.98284146  1.          0.9698696   0.98194918  0.99320518\n",
      "  0.94056277  0.9207275   0.93870962  0.95696634  0.96376116  0.98826351\n",
      "  0.99450925  0.98970487  0.98929308  0.79460812  0.76226485  0.70065033\n",
      "  0.62078303  0.53030825  0.43414807  0.33563173  0.23720273  0.1409018\n",
      "  0.04888034 -0.03635924 -0.11240418 -0.17728801 -0.22894976 -0.26535147\n",
      " -0.28617951 -0.29363981 -0.29125658 -0.28238335]\n"
     ]
    },
    {
     "name": "stdout",
     "output_type": "stream",
     "text": [
      "19 day output [[-0.2695738]]\n",
      "20 day input [ 0.82779677  0.82141384  0.81708986  0.78922439  0.78682226  0.77563485\n",
      "  0.77240904  0.77137957  0.74406309  0.74241594  0.7549759   0.75943719\n",
      "  0.76211391  0.75175019  0.74344541  0.74138636  0.74090598  0.73088534\n",
      "  0.72601238  0.72621827  0.72560048  0.73980781  0.73953321  0.7438572\n",
      "  0.73315028  0.72045292  0.73747427  0.74447488  0.75778993  0.7737817\n",
      "  0.7777625   0.77700752  0.78071372  0.77515437  0.7852436   0.7776252\n",
      "  0.80123537  0.77906656  0.77741931  0.79025397  0.79299929  0.79615641\n",
      "  0.79457785  0.79025397  0.78929299  0.78037063  0.77556616  0.78222368\n",
      "  0.79238161  0.78970488  0.81379544  0.83898417  0.85511324  0.88723399\n",
      "  0.8604667   0.86280024  0.85120105  0.85628001  0.88599862  0.91880575\n",
      "  0.87693886  0.88215513  0.9021963   0.92759092  0.95765273  0.96307478\n",
      "  0.98284146  1.          0.9698696   0.98194918  0.99320518  0.94056277\n",
      "  0.9207275   0.93870962  0.95696634  0.96376116  0.98826351  0.99450925\n",
      "  0.98970487  0.98929308  0.79460812  0.76226485  0.70065033  0.62078303\n",
      "  0.53030825  0.43414807  0.33563173  0.23720273  0.1409018   0.04888034\n",
      " -0.03635924 -0.11240418 -0.17728801 -0.22894976 -0.26535147 -0.28617951\n",
      " -0.29363981 -0.29125658 -0.28238335 -0.26957381]\n",
      "20 day output [[-0.25458702]]\n",
      "21 day input [ 0.82141384  0.81708986  0.78922439  0.78682226  0.77563485  0.77240904\n",
      "  0.77137957  0.74406309  0.74241594  0.7549759   0.75943719  0.76211391\n",
      "  0.75175019  0.74344541  0.74138636  0.74090598  0.73088534  0.72601238\n",
      "  0.72621827  0.72560048  0.73980781  0.73953321  0.7438572   0.73315028\n",
      "  0.72045292  0.73747427  0.74447488  0.75778993  0.7737817   0.7777625\n",
      "  0.77700752  0.78071372  0.77515437  0.7852436   0.7776252   0.80123537\n",
      "  0.77906656  0.77741931  0.79025397  0.79299929  0.79615641  0.79457785\n",
      "  0.79025397  0.78929299  0.78037063  0.77556616  0.78222368  0.79238161\n",
      "  0.78970488  0.81379544  0.83898417  0.85511324  0.88723399  0.8604667\n",
      "  0.86280024  0.85120105  0.85628001  0.88599862  0.91880575  0.87693886\n",
      "  0.88215513  0.9021963   0.92759092  0.95765273  0.96307478  0.98284146\n",
      "  1.          0.9698696   0.98194918  0.99320518  0.94056277  0.9207275\n",
      "  0.93870962  0.95696634  0.96376116  0.98826351  0.99450925  0.98970487\n",
      "  0.98929308  0.79460812  0.76226485  0.70065033  0.62078303  0.53030825\n",
      "  0.43414807  0.33563173  0.23720273  0.1409018   0.04888034 -0.03635924\n",
      " -0.11240418 -0.17728801 -0.22894976 -0.26535147 -0.28617951 -0.29363981\n",
      " -0.29125658 -0.28238335 -0.26957381 -0.25458702]\n",
      "21 day output [[-0.23859505]]\n",
      "22 day input [ 0.81708986  0.78922439  0.78682226  0.77563485  0.77240904  0.77137957\n",
      "  0.74406309  0.74241594  0.7549759   0.75943719  0.76211391  0.75175019\n",
      "  0.74344541  0.74138636  0.74090598  0.73088534  0.72601238  0.72621827\n",
      "  0.72560048  0.73980781  0.73953321  0.7438572   0.73315028  0.72045292\n",
      "  0.73747427  0.74447488  0.75778993  0.7737817   0.7777625   0.77700752\n",
      "  0.78071372  0.77515437  0.7852436   0.7776252   0.80123537  0.77906656\n",
      "  0.77741931  0.79025397  0.79299929  0.79615641  0.79457785  0.79025397\n",
      "  0.78929299  0.78037063  0.77556616  0.78222368  0.79238161  0.78970488\n",
      "  0.81379544  0.83898417  0.85511324  0.88723399  0.8604667   0.86280024\n",
      "  0.85120105  0.85628001  0.88599862  0.91880575  0.87693886  0.88215513\n",
      "  0.9021963   0.92759092  0.95765273  0.96307478  0.98284146  1.\n",
      "  0.9698696   0.98194918  0.99320518  0.94056277  0.9207275   0.93870962\n",
      "  0.95696634  0.96376116  0.98826351  0.99450925  0.98970487  0.98929308\n",
      "  0.79460812  0.76226485  0.70065033  0.62078303  0.53030825  0.43414807\n",
      "  0.33563173  0.23720273  0.1409018   0.04888034 -0.03635924 -0.11240418\n",
      " -0.17728801 -0.22894976 -0.26535147 -0.28617951 -0.29363981 -0.29125658\n",
      " -0.28238335 -0.26957381 -0.25458702 -0.23859505]\n",
      "22 day output [[-0.22239102]]\n",
      "23 day input [ 0.78922439  0.78682226  0.77563485  0.77240904  0.77137957  0.74406309\n",
      "  0.74241594  0.7549759   0.75943719  0.76211391  0.75175019  0.74344541\n",
      "  0.74138636  0.74090598  0.73088534  0.72601238  0.72621827  0.72560048\n",
      "  0.73980781  0.73953321  0.7438572   0.73315028  0.72045292  0.73747427\n",
      "  0.74447488  0.75778993  0.7737817   0.7777625   0.77700752  0.78071372\n",
      "  0.77515437  0.7852436   0.7776252   0.80123537  0.77906656  0.77741931\n",
      "  0.79025397  0.79299929  0.79615641  0.79457785  0.79025397  0.78929299\n",
      "  0.78037063  0.77556616  0.78222368  0.79238161  0.78970488  0.81379544\n",
      "  0.83898417  0.85511324  0.88723399  0.8604667   0.86280024  0.85120105\n",
      "  0.85628001  0.88599862  0.91880575  0.87693886  0.88215513  0.9021963\n",
      "  0.92759092  0.95765273  0.96307478  0.98284146  1.          0.9698696\n",
      "  0.98194918  0.99320518  0.94056277  0.9207275   0.93870962  0.95696634\n",
      "  0.96376116  0.98826351  0.99450925  0.98970487  0.98929308  0.79460812\n",
      "  0.76226485  0.70065033  0.62078303  0.53030825  0.43414807  0.33563173\n",
      "  0.23720273  0.1409018   0.04888034 -0.03635924 -0.11240418 -0.17728801\n",
      " -0.22894976 -0.26535147 -0.28617951 -0.29363981 -0.29125658 -0.28238335\n",
      " -0.26957381 -0.25458702 -0.23859505 -0.22239102]\n",
      "23 day output [[-0.20652543]]\n",
      "24 day input [ 0.78682226  0.77563485  0.77240904  0.77137957  0.74406309  0.74241594\n",
      "  0.7549759   0.75943719  0.76211391  0.75175019  0.74344541  0.74138636\n",
      "  0.74090598  0.73088534  0.72601238  0.72621827  0.72560048  0.73980781\n",
      "  0.73953321  0.7438572   0.73315028  0.72045292  0.73747427  0.74447488\n",
      "  0.75778993  0.7737817   0.7777625   0.77700752  0.78071372  0.77515437\n",
      "  0.7852436   0.7776252   0.80123537  0.77906656  0.77741931  0.79025397\n",
      "  0.79299929  0.79615641  0.79457785  0.79025397  0.78929299  0.78037063\n",
      "  0.77556616  0.78222368  0.79238161  0.78970488  0.81379544  0.83898417\n",
      "  0.85511324  0.88723399  0.8604667   0.86280024  0.85120105  0.85628001\n",
      "  0.88599862  0.91880575  0.87693886  0.88215513  0.9021963   0.92759092\n",
      "  0.95765273  0.96307478  0.98284146  1.          0.9698696   0.98194918\n",
      "  0.99320518  0.94056277  0.9207275   0.93870962  0.95696634  0.96376116\n",
      "  0.98826351  0.99450925  0.98970487  0.98929308  0.79460812  0.76226485\n",
      "  0.70065033  0.62078303  0.53030825  0.43414807  0.33563173  0.23720273\n",
      "  0.1409018   0.04888034 -0.03635924 -0.11240418 -0.17728801 -0.22894976\n",
      " -0.26535147 -0.28617951 -0.29363981 -0.29125658 -0.28238335 -0.26957381\n",
      " -0.25458702 -0.23859505 -0.22239102 -0.20652543]\n",
      "24 day output [[-0.19138417]]\n",
      "25 day input [ 0.77563485  0.77240904  0.77137957  0.74406309  0.74241594  0.7549759\n",
      "  0.75943719  0.76211391  0.75175019  0.74344541  0.74138636  0.74090598\n",
      "  0.73088534  0.72601238  0.72621827  0.72560048  0.73980781  0.73953321\n",
      "  0.7438572   0.73315028  0.72045292  0.73747427  0.74447488  0.75778993\n",
      "  0.7737817   0.7777625   0.77700752  0.78071372  0.77515437  0.7852436\n",
      "  0.7776252   0.80123537  0.77906656  0.77741931  0.79025397  0.79299929\n",
      "  0.79615641  0.79457785  0.79025397  0.78929299  0.78037063  0.77556616\n",
      "  0.78222368  0.79238161  0.78970488  0.81379544  0.83898417  0.85511324\n",
      "  0.88723399  0.8604667   0.86280024  0.85120105  0.85628001  0.88599862\n",
      "  0.91880575  0.87693886  0.88215513  0.9021963   0.92759092  0.95765273\n",
      "  0.96307478  0.98284146  1.          0.9698696   0.98194918  0.99320518\n",
      "  0.94056277  0.9207275   0.93870962  0.95696634  0.96376116  0.98826351\n",
      "  0.99450925  0.98970487  0.98929308  0.79460812  0.76226485  0.70065033\n",
      "  0.62078303  0.53030825  0.43414807  0.33563173  0.23720273  0.1409018\n",
      "  0.04888034 -0.03635924 -0.11240418 -0.17728801 -0.22894976 -0.26535147\n",
      " -0.28617951 -0.29363981 -0.29125658 -0.28238335 -0.26957381 -0.25458702\n",
      " -0.23859505 -0.22239102 -0.20652543 -0.19138417]\n",
      "25 day output [[-0.1772362]]\n",
      "26 day input [ 0.77240904  0.77137957  0.74406309  0.74241594  0.7549759   0.75943719\n",
      "  0.76211391  0.75175019  0.74344541  0.74138636  0.74090598  0.73088534\n",
      "  0.72601238  0.72621827  0.72560048  0.73980781  0.73953321  0.7438572\n",
      "  0.73315028  0.72045292  0.73747427  0.74447488  0.75778993  0.7737817\n",
      "  0.7777625   0.77700752  0.78071372  0.77515437  0.7852436   0.7776252\n",
      "  0.80123537  0.77906656  0.77741931  0.79025397  0.79299929  0.79615641\n",
      "  0.79457785  0.79025397  0.78929299  0.78037063  0.77556616  0.78222368\n",
      "  0.79238161  0.78970488  0.81379544  0.83898417  0.85511324  0.88723399\n",
      "  0.8604667   0.86280024  0.85120105  0.85628001  0.88599862  0.91880575\n",
      "  0.87693886  0.88215513  0.9021963   0.92759092  0.95765273  0.96307478\n",
      "  0.98284146  1.          0.9698696   0.98194918  0.99320518  0.94056277\n",
      "  0.9207275   0.93870962  0.95696634  0.96376116  0.98826351  0.99450925\n",
      "  0.98970487  0.98929308  0.79460812  0.76226485  0.70065033  0.62078303\n",
      "  0.53030825  0.43414807  0.33563173  0.23720273  0.1409018   0.04888034\n",
      " -0.03635924 -0.11240418 -0.17728801 -0.22894976 -0.26535147 -0.28617951\n",
      " -0.29363981 -0.29125658 -0.28238335 -0.26957381 -0.25458702 -0.23859505\n",
      " -0.22239102 -0.20652543 -0.19138417 -0.1772362 ]\n",
      "26 day output [[-0.16425283]]\n",
      "27 day input [ 0.77137957  0.74406309  0.74241594  0.7549759   0.75943719  0.76211391\n",
      "  0.75175019  0.74344541  0.74138636  0.74090598  0.73088534  0.72601238\n",
      "  0.72621827  0.72560048  0.73980781  0.73953321  0.7438572   0.73315028\n",
      "  0.72045292  0.73747427  0.74447488  0.75778993  0.7737817   0.7777625\n",
      "  0.77700752  0.78071372  0.77515437  0.7852436   0.7776252   0.80123537\n",
      "  0.77906656  0.77741931  0.79025397  0.79299929  0.79615641  0.79457785\n",
      "  0.79025397  0.78929299  0.78037063  0.77556616  0.78222368  0.79238161\n",
      "  0.78970488  0.81379544  0.83898417  0.85511324  0.88723399  0.8604667\n",
      "  0.86280024  0.85120105  0.85628001  0.88599862  0.91880575  0.87693886\n",
      "  0.88215513  0.9021963   0.92759092  0.95765273  0.96307478  0.98284146\n",
      "  1.          0.9698696   0.98194918  0.99320518  0.94056277  0.9207275\n",
      "  0.93870962  0.95696634  0.96376116  0.98826351  0.99450925  0.98970487\n",
      "  0.98929308  0.79460812  0.76226485  0.70065033  0.62078303  0.53030825\n",
      "  0.43414807  0.33563173  0.23720273  0.1409018   0.04888034 -0.03635924\n",
      " -0.11240418 -0.17728801 -0.22894976 -0.26535147 -0.28617951 -0.29363981\n",
      " -0.29125658 -0.28238335 -0.26957381 -0.25458702 -0.23859505 -0.22239102\n",
      " -0.20652543 -0.19138417 -0.1772362  -0.16425283]\n"
     ]
    },
    {
     "name": "stdout",
     "output_type": "stream",
     "text": [
      "27 day output [[-0.15252806]]\n",
      "28 day input [ 0.74406309  0.74241594  0.7549759   0.75943719  0.76211391  0.75175019\n",
      "  0.74344541  0.74138636  0.74090598  0.73088534  0.72601238  0.72621827\n",
      "  0.72560048  0.73980781  0.73953321  0.7438572   0.73315028  0.72045292\n",
      "  0.73747427  0.74447488  0.75778993  0.7737817   0.7777625   0.77700752\n",
      "  0.78071372  0.77515437  0.7852436   0.7776252   0.80123537  0.77906656\n",
      "  0.77741931  0.79025397  0.79299929  0.79615641  0.79457785  0.79025397\n",
      "  0.78929299  0.78037063  0.77556616  0.78222368  0.79238161  0.78970488\n",
      "  0.81379544  0.83898417  0.85511324  0.88723399  0.8604667   0.86280024\n",
      "  0.85120105  0.85628001  0.88599862  0.91880575  0.87693886  0.88215513\n",
      "  0.9021963   0.92759092  0.95765273  0.96307478  0.98284146  1.\n",
      "  0.9698696   0.98194918  0.99320518  0.94056277  0.9207275   0.93870962\n",
      "  0.95696634  0.96376116  0.98826351  0.99450925  0.98970487  0.98929308\n",
      "  0.79460812  0.76226485  0.70065033  0.62078303  0.53030825  0.43414807\n",
      "  0.33563173  0.23720273  0.1409018   0.04888034 -0.03635924 -0.11240418\n",
      " -0.17728801 -0.22894976 -0.26535147 -0.28617951 -0.29363981 -0.29125658\n",
      " -0.28238335 -0.26957381 -0.25458702 -0.23859505 -0.22239102 -0.20652543\n",
      " -0.19138417 -0.1772362  -0.16425283 -0.15252806]\n",
      "28 day output [[-0.14209215]]\n",
      "29 day input [ 0.74241594  0.7549759   0.75943719  0.76211391  0.75175019  0.74344541\n",
      "  0.74138636  0.74090598  0.73088534  0.72601238  0.72621827  0.72560048\n",
      "  0.73980781  0.73953321  0.7438572   0.73315028  0.72045292  0.73747427\n",
      "  0.74447488  0.75778993  0.7737817   0.7777625   0.77700752  0.78071372\n",
      "  0.77515437  0.7852436   0.7776252   0.80123537  0.77906656  0.77741931\n",
      "  0.79025397  0.79299929  0.79615641  0.79457785  0.79025397  0.78929299\n",
      "  0.78037063  0.77556616  0.78222368  0.79238161  0.78970488  0.81379544\n",
      "  0.83898417  0.85511324  0.88723399  0.8604667   0.86280024  0.85120105\n",
      "  0.85628001  0.88599862  0.91880575  0.87693886  0.88215513  0.9021963\n",
      "  0.92759092  0.95765273  0.96307478  0.98284146  1.          0.9698696\n",
      "  0.98194918  0.99320518  0.94056277  0.9207275   0.93870962  0.95696634\n",
      "  0.96376116  0.98826351  0.99450925  0.98970487  0.98929308  0.79460812\n",
      "  0.76226485  0.70065033  0.62078303  0.53030825  0.43414807  0.33563173\n",
      "  0.23720273  0.1409018   0.04888034 -0.03635924 -0.11240418 -0.17728801\n",
      " -0.22894976 -0.26535147 -0.28617951 -0.29363981 -0.29125658 -0.28238335\n",
      " -0.26957381 -0.25458702 -0.23859505 -0.22239102 -0.20652543 -0.19138417\n",
      " -0.1772362  -0.16425283 -0.15252806 -0.14209215]\n",
      "29 day output [[-0.13292542]]\n",
      "[[0.7946081161499023], [0.7622648477554321], [0.7006503343582153], [0.6207830309867859], [0.5303082466125488], [0.43414807319641113], [0.33563172817230225], [0.2372027337551117], [0.14090180397033691], [0.04888034239411354], [-0.03635924309492111], [-0.11240417510271072], [-0.1772880107164383], [-0.22894975543022156], [-0.26535147428512573], [-0.2861795127391815], [-0.29363980889320374], [-0.2912565767765045], [-0.28238335251808167], [-0.26957380771636963], [-0.2545870244503021], [-0.23859505355358124], [-0.2223910242319107], [-0.20652543008327484], [-0.19138416647911072], [-0.17723619937896729], [-0.16425283253192902], [-0.1525280624628067], [-0.14209215342998505], [-0.13292542099952698]]\n"
     ]
    }
   ],
   "source": [
    "from numpy import array\n",
    "\n",
    "lst_output=[]\n",
    "n_steps=100\n",
    "i=0\n",
    "while(i<30):\n",
    "    \n",
    "    if(len(temp_input)>100):\n",
    "        #print(temp_input)\n",
    "        x_input=np.array(temp_input[1:])\n",
    "        print(\"{} day input {}\".format(i,x_input))\n",
    "        x_input=x_input.reshape(1,-1)\n",
    "        x_input = x_input.reshape((1, n_steps, 1))\n",
    "        #print(x_input)\n",
    "        yhat = model.predict(x_input, verbose=0)\n",
    "        print(\"{} day output {}\".format(i,yhat))\n",
    "        temp_input.extend(yhat[0].tolist())\n",
    "        temp_input=temp_input[1:]\n",
    "        #print(temp_input)\n",
    "        lst_output.extend(yhat.tolist())\n",
    "        i=i+1\n",
    "    else:\n",
    "        x_input = x_input.reshape((1, n_steps,1))\n",
    "        yhat = model.predict(x_input, verbose=0)\n",
    "        print(yhat[0])\n",
    "        temp_input.extend(yhat[0].tolist())\n",
    "        print(len(temp_input))\n",
    "        lst_output.extend(yhat.tolist())\n",
    "        i=i+1\n",
    "    \n",
    "\n",
    "print(lst_output)"
   ]
  },
  {
   "cell_type": "code",
   "execution_count": 27,
   "metadata": {},
   "outputs": [],
   "source": [
    "day_new=np.arange(1,101)\n",
    "day_pred=np.arange(101,131)"
   ]
  },
  {
   "cell_type": "code",
   "execution_count": 28,
   "metadata": {},
   "outputs": [
    {
     "data": {
      "text/plain": [
       "array([[152.2044065 ],\n",
       "       [147.49199213],\n",
       "       [138.51475722],\n",
       "       [126.87809072],\n",
       "       [113.69591418],\n",
       "       [ 99.68537644],\n",
       "       [ 85.33154447],\n",
       "       [ 70.99043949],\n",
       "       [ 56.95939354],\n",
       "       [ 43.55186613],\n",
       "       [ 31.1324581 ],\n",
       "       [ 20.05271113],\n",
       "       [ 10.59913595],\n",
       "       [  3.07201949],\n",
       "       [ -2.23171113],\n",
       "       [ -5.26635644],\n",
       "       [ -6.35332162],\n",
       "       [ -6.00608469],\n",
       "       [ -4.71325587],\n",
       "       [ -2.84690513],\n",
       "       [ -0.66333074],\n",
       "       [  1.6666995 ],\n",
       "       [  4.02762666],\n",
       "       [  6.3392438 ],\n",
       "       [  8.54532599],\n",
       "       [ 10.60668486],\n",
       "       [ 12.49836148],\n",
       "       [ 14.20666054],\n",
       "       [ 15.72717253],\n",
       "       [ 17.0627655 ]])"
      ]
     },
     "execution_count": 28,
     "metadata": {},
     "output_type": "execute_result"
    }
   ],
   "source": [
    "scaler.inverse_transform(lst_output)\n"
   ]
  },
  {
   "cell_type": "code",
   "execution_count": 29,
   "metadata": {},
   "outputs": [
    {
     "data": {
      "text/plain": [
       "1113"
      ]
     },
     "execution_count": 29,
     "metadata": {},
     "output_type": "execute_result"
    }
   ],
   "source": [
    "len(df1)"
   ]
  },
  {
   "cell_type": "code",
   "execution_count": 30,
   "metadata": {},
   "outputs": [
    {
     "data": {
      "image/png": "[encoded data removed]",
      "text/plain": [
       "<Figure size 432x288 with 1 Axes>"
      ]
     },
     "metadata": {},
     "output_type": "display_data"
    }
   ],
   "source": [
    "plt.plot(day_new,scaler.inverse_transform(df1[1013:]))\n",
    "plt.plot(day_pred,scaler.inverse_transform(lst_output))\n",
    "plt.savefig('30daypredict.png')"
   ]
  },
  {
   "cell_type": "code",
   "execution_count": 31,
   "metadata": {},
   "outputs": [
    {
     "data": {
      "text/plain": [
       "[<matplotlib.lines.Line2D at 0x15f6f849a00>]"
      ]
     },
     "execution_count": 31,
     "metadata": {},
     "output_type": "execute_result"
    },
    {
     "data": {
      "image/png": "[encoded data removed]",
      "text/plain": [
       "<Figure size 432x288 with 1 Axes>"
      ]
     },
     "metadata": {},
     "output_type": "display_data"
    }
   ],
   "source": [
    "df3=df1.tolist()\n",
    "df3.extend(lst_output)\n",
    "plt.plot(df3[900:])"
   ]
  },
  {
   "cell_type": "code",
   "execution_count": 32,
   "metadata": {},
   "outputs": [],
   "source": [
    "df3=scaler.inverse_transform(df3).tolist()"
   ]
  },
  {
   "cell_type": "code",
   "execution_count": 33,
   "metadata": {},
   "outputs": [
    {
     "data": {
      "text/plain": [
       "[<matplotlib.lines.Line2D at 0x15f6f85f8e0>]"
      ]
     },
     "execution_count": 33,
     "metadata": {},
     "output_type": "execute_result"
    },
    {
     "data": {
      "image/png": "[encoded data removed]",
      "text/plain": [
       "<Figure size 432x288 with 1 Axes>"
      ]
     },
     "metadata": {},
     "output_type": "display_data"
    }
   ],
   "source": [
    "plt.plot(df3)"
   ]
  },
  {
   "cell_type": "code",
   "execution_count": 38,
   "metadata": {},
   "outputs": [
    {
     "name": "stdout",
     "output_type": "stream",
     "text": [
      "Note: you may need to restart the kernel to use updated packages.\n"
     ]
    }
   ],
   "source": [
    "pip freeze > requirements.txt"
   ]
  },
  {
   "cell_type": "code",
   "execution_count": null,
   "metadata": {},
   "outputs": [],
   "source": []
  }
 ],
 "metadata": {
  "kernelspec": {
   "display_name": "Python 3",
   "language": "python",
   "name": "python3"
  },
  "language_info": {
   "codemirror_mode": {
    "name": "ipython",
    "version": 3
   },
   "file_extension": ".py",
   "mimetype": "text/x-python",
   "name": "python",
   "nbconvert_exporter": "python",
   "pygments_lexer": "ipython3",
   "version": "3.8.10"
  }
 },
 "nbformat": 4,
 "nbformat_minor": 4
}
