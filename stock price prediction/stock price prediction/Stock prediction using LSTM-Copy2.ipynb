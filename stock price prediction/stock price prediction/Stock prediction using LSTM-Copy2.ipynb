{
 "cells": [
  {
   "cell_type": "code",
   "execution_count": 1,
   "metadata": {},
   "outputs": [],
   "source": [
    "import numpy as np\n",
    "import pandas as pd\n",
    "import matplotlib.pyplot as plt\n",
    "from matplotlib import style\n",
    "import seaborn as sns\n",
    "from sklearn import preprocessing\n",
    "from sklearn.model_selection import train_test_split\n",
    "from datetime import datetime, timedelta\n",
    "import sklearn.metrics as metrics\n",
    "%matplotlib inline\n",
    "plt.style.use('fivethirtyeight')"
   ]
  },
  {
   "cell_type": "code",
   "execution_count": 2,
   "metadata": {},
   "outputs": [],
   "source": [
    "data=pd.read_csv(\"AAPL.csv\")\n",
    "data.set_index('Date', inplace=True)"
   ]
  },
  {
   "cell_type": "code",
   "execution_count": 3,
   "metadata": {},
   "outputs": [
    {
     "data": {
      "text/html": [
       "<div>\n",
       "<style scoped>\n",
       "    .dataframe tbody tr th:only-of-type {\n",
       "        vertical-align: middle;\n",
       "    }\n",
       "\n",
       "    .dataframe tbody tr th {\n",
       "        vertical-align: top;\n",
       "    }\n",
       "\n",
       "    .dataframe thead th {\n",
       "        text-align: right;\n",
       "    }\n",
       "</style>\n",
       "<table border=\"1\" class=\"dataframe\">\n",
       "  <thead>\n",
       "    <tr style=\"text-align: right;\">\n",
       "      <th></th>\n",
       "      <th>Open</th>\n",
       "      <th>High</th>\n",
       "      <th>Low</th>\n",
       "      <th>Close</th>\n",
       "      <th>Adj Close</th>\n",
       "      <th>Volume</th>\n",
       "    </tr>\n",
       "    <tr>\n",
       "      <th>Date</th>\n",
       "      <th></th>\n",
       "      <th></th>\n",
       "      <th></th>\n",
       "      <th></th>\n",
       "      <th></th>\n",
       "      <th></th>\n",
       "    </tr>\n",
       "  </thead>\n",
       "  <tbody>\n",
       "    <tr>\n",
       "      <th>2017-08-01</th>\n",
       "      <td>37.275002</td>\n",
       "      <td>37.555000</td>\n",
       "      <td>37.102501</td>\n",
       "      <td>37.512501</td>\n",
       "      <td>35.609295</td>\n",
       "      <td>141474400</td>\n",
       "    </tr>\n",
       "    <tr>\n",
       "      <th>2017-08-02</th>\n",
       "      <td>39.820000</td>\n",
       "      <td>39.937500</td>\n",
       "      <td>39.040001</td>\n",
       "      <td>39.285000</td>\n",
       "      <td>37.291874</td>\n",
       "      <td>279747200</td>\n",
       "    </tr>\n",
       "    <tr>\n",
       "      <th>2017-08-03</th>\n",
       "      <td>39.262501</td>\n",
       "      <td>39.302502</td>\n",
       "      <td>38.755001</td>\n",
       "      <td>38.892502</td>\n",
       "      <td>36.919292</td>\n",
       "      <td>108389200</td>\n",
       "    </tr>\n",
       "    <tr>\n",
       "      <th>2017-08-04</th>\n",
       "      <td>39.017502</td>\n",
       "      <td>39.349998</td>\n",
       "      <td>38.922501</td>\n",
       "      <td>39.097500</td>\n",
       "      <td>37.113876</td>\n",
       "      <td>82239600</td>\n",
       "    </tr>\n",
       "    <tr>\n",
       "      <th>2017-08-07</th>\n",
       "      <td>39.264999</td>\n",
       "      <td>39.730000</td>\n",
       "      <td>39.167500</td>\n",
       "      <td>39.702499</td>\n",
       "      <td>37.688194</td>\n",
       "      <td>87481200</td>\n",
       "    </tr>\n",
       "  </tbody>\n",
       "</table>\n",
       "</div>"
      ],
      "text/plain": [
       "                 Open       High        Low      Close  Adj Close     Volume\n",
       "Date                                                                        \n",
       "2017-08-01  37.275002  37.555000  37.102501  37.512501  35.609295  141474400\n",
       "2017-08-02  39.820000  39.937500  39.040001  39.285000  37.291874  279747200\n",
       "2017-08-03  39.262501  39.302502  38.755001  38.892502  36.919292  108389200\n",
       "2017-08-04  39.017502  39.349998  38.922501  39.097500  37.113876   82239600\n",
       "2017-08-07  39.264999  39.730000  39.167500  39.702499  37.688194   87481200"
      ]
     },
     "execution_count": 3,
     "metadata": {},
     "output_type": "execute_result"
    }
   ],
   "source": [
    "data.head()"
   ]
  },
  {
   "cell_type": "code",
   "execution_count": 4,
   "metadata": {},
   "outputs": [
    {
     "data": {
      "text/plain": [
       "Open         0\n",
       "High         0\n",
       "Low          0\n",
       "Close        0\n",
       "Adj Close    0\n",
       "Volume       0\n",
       "dtype: int64"
      ]
     },
     "execution_count": 4,
     "metadata": {},
     "output_type": "execute_result"
    }
   ],
   "source": [
    "data.isnull().sum()"
   ]
  },
  {
   "cell_type": "code",
   "execution_count": 5,
   "metadata": {
    "scrolled": true
   },
   "outputs": [
    {
     "name": "stdout",
     "output_type": "stream",
     "text": [
      "<class 'pandas.core.frame.DataFrame'>\n",
      "Index: 1113 entries, 2017-08-01 to 2021-12-30\n",
      "Data columns (total 6 columns):\n",
      " #   Column     Non-Null Count  Dtype  \n",
      "---  ------     --------------  -----  \n",
      " 0   Open       1113 non-null   float64\n",
      " 1   High       1113 non-null   float64\n",
      " 2   Low        1113 non-null   float64\n",
      " 3   Close      1113 non-null   float64\n",
      " 4   Adj Close  1113 non-null   float64\n",
      " 5   Volume     1113 non-null   int64  \n",
      "dtypes: float64(5), int64(1)\n",
      "memory usage: 60.9+ KB\n"
     ]
    }
   ],
   "source": [
    "data.info()"
   ]
  },
  {
   "cell_type": "code",
   "execution_count": 6,
   "metadata": {},
   "outputs": [],
   "source": [
    "df1=data.reset_index()['High']"
   ]
  },
  {
   "cell_type": "code",
   "execution_count": 7,
   "metadata": {},
   "outputs": [
    {
     "data": {
      "text/plain": [
       "[<matplotlib.lines.Line2D at 0x22abcc3e700>]"
      ]
     },
     "execution_count": 7,
     "metadata": {},
     "output_type": "execute_result"
    },
    {
     "data": {
      "image/png": "[encoded data removed]",
      "text/plain": [
       "<Figure size 432x288 with 1 Axes>"
      ]
     },
     "metadata": {},
     "output_type": "display_data"
    }
   ],
   "source": [
    "plt.plot(df1)"
   ]
  },
  {
   "cell_type": "code",
   "execution_count": 8,
   "metadata": {},
   "outputs": [],
   "source": [
    "from sklearn.preprocessing import MinMaxScaler\n",
    "scaler=MinMaxScaler(feature_range=(0,1))\n",
    "df1=scaler.fit_transform(np.array(df1).reshape(-1,1))"
   ]
  },
  {
   "cell_type": "code",
   "execution_count": 9,
   "metadata": {},
   "outputs": [],
   "source": [
    "training_size=int(len(df1)*0.65)\n",
    "test_size=len(df1)-training_size\n",
    "train_data,test_data=df1[0:training_size,:],df1[training_size:len(df1),:1]"
   ]
  },
  {
   "cell_type": "code",
   "execution_count": 10,
   "metadata": {},
   "outputs": [],
   "source": [
    "import numpy\n",
    "def create_dataset(dataset, time_step=1):\n",
    "    dataX, dataY = [], []\n",
    "    for i in range(len(dataset)-time_step-1):\n",
    "        a = dataset[i:(i+time_step), 0] \n",
    "        dataX.append(a)\n",
    "        dataY.append(dataset[i + time_step, 0])\n",
    "    return numpy.array(dataX), numpy.array(dataY)"
   ]
  },
  {
   "cell_type": "code",
   "execution_count": 11,
   "metadata": {},
   "outputs": [],
   "source": [
    "time_step = 100\n",
    "X_train, y_train = create_dataset(train_data, time_step)\n",
    "X_test, ytest = create_dataset(test_data, time_step)"
   ]
  },
  {
   "cell_type": "code",
   "execution_count": 12,
   "metadata": {},
   "outputs": [],
   "source": [
    "X_train =X_train.reshape(X_train.shape[0],X_train.shape[1] , 1)\n",
    "X_test = X_test.reshape(X_test.shape[0],X_test.shape[1] , 1)"
   ]
  },
  {
   "cell_type": "code",
   "execution_count": 13,
   "metadata": {},
   "outputs": [],
   "source": [
    "from tensorflow.keras.models import Sequential\n",
    "from tensorflow.keras.layers import Dense\n",
    "from tensorflow.keras.layers import LSTM"
   ]
  },
  {
   "cell_type": "code",
   "execution_count": 14,
   "metadata": {},
   "outputs": [],
   "source": [
    "model=Sequential()\n",
    "model.add(LSTM(50,return_sequences=True,input_shape=(100,1)))\n",
    "model.add(LSTM(50,return_sequences=True))\n",
    "model.add(LSTM(50))\n",
    "model.add(Dense(1))\n",
    "model.compile(loss='mean_squared_error',optimizer='adam')"
   ]
  },
  {
   "cell_type": "code",
   "execution_count": 15,
   "metadata": {},
   "outputs": [
    {
     "name": "stdout",
     "output_type": "stream",
     "text": [
      "Model: \"sequential\"\n",
      "_________________________________________________________________\n",
      "Layer (type)                 Output Shape              Param #   \n",
      "=================================================================\n",
      "lstm (LSTM)                  (None, 100, 50)           10400     \n",
      "_________________________________________________________________\n",
      "lstm_1 (LSTM)                (None, 100, 50)           20200     \n",
      "_________________________________________________________________\n",
      "lstm_2 (LSTM)                (None, 50)                20200     \n",
      "_________________________________________________________________\n",
      "dense (Dense)                (None, 1)                 51        \n",
      "=================================================================\n",
      "Total params: 50,851\n",
      "Trainable params: 50,851\n",
      "Non-trainable params: 0\n",
      "_________________________________________________________________\n"
     ]
    }
   ],
   "source": [
    "model.summary()"
   ]
  },
  {
   "cell_type": "code",
   "execution_count": 16,
   "metadata": {
    "scrolled": true
   },
   "outputs": [
    {
     "name": "stdout",
     "output_type": "stream",
     "text": [
      "Epoch 1/100\n",
      "10/10 [==============================] - 26s 753ms/step - loss: 0.0072 - val_loss: 0.0942\n",
      "Epoch 2/100\n",
      "10/10 [==============================] - 4s 353ms/step - loss: 0.0021 - val_loss: 0.0023\n",
      "Epoch 3/100\n",
      "10/10 [==============================] - 4s 361ms/step - loss: 8.3617e-04 - val_loss: 0.0034\n",
      "Epoch 4/100\n",
      "10/10 [==============================] - 3s 326ms/step - loss: 6.1008e-04 - val_loss: 0.0027\n",
      "Epoch 5/100\n",
      "10/10 [==============================] - 3s 347ms/step - loss: 5.2568e-04 - val_loss: 0.0023\n",
      "Epoch 6/100\n",
      "10/10 [==============================] - 4s 359ms/step - loss: 4.8754e-04 - val_loss: 0.0018\n",
      "Epoch 7/100\n",
      "10/10 [==============================] - 3s 338ms/step - loss: 4.5479e-04 - val_loss: 0.0017\n",
      "Epoch 8/100\n",
      "10/10 [==============================] - 3s 350ms/step - loss: 4.4435e-04 - val_loss: 0.0018\n",
      "Epoch 9/100\n",
      "10/10 [==============================] - 3s 333ms/step - loss: 4.0385e-04 - val_loss: 0.0020\n",
      "Epoch 10/100\n",
      "10/10 [==============================] - 3s 326ms/step - loss: 3.7128e-04 - val_loss: 0.0019\n",
      "Epoch 11/100\n",
      "10/10 [==============================] - 3s 333ms/step - loss: 3.4060e-04 - val_loss: 0.0029\n",
      "Epoch 12/100\n",
      "10/10 [==============================] - 3s 294ms/step - loss: 3.1095e-04 - val_loss: 0.0034\n",
      "Epoch 13/100\n",
      "10/10 [==============================] - 3s 301ms/step - loss: 2.7558e-04 - val_loss: 0.0023\n",
      "Epoch 14/100\n",
      "10/10 [==============================] - 3s 268ms/step - loss: 2.6109e-04 - val_loss: 0.0039\n",
      "Epoch 15/100\n",
      "10/10 [==============================] - 3s 250ms/step - loss: 2.5589e-04 - val_loss: 0.0043\n",
      "Epoch 16/100\n",
      "10/10 [==============================] - 3s 292ms/step - loss: 2.5910e-04 - val_loss: 0.0064\n",
      "Epoch 17/100\n",
      "10/10 [==============================] - 3s 317ms/step - loss: 2.4810e-04 - val_loss: 0.0172\n",
      "Epoch 18/100\n",
      "10/10 [==============================] - 3s 311ms/step - loss: 2.3655e-04 - val_loss: 0.0057\n",
      "Epoch 19/100\n",
      "10/10 [==============================] - 3s 326ms/step - loss: 2.2363e-04 - val_loss: 0.0102\n",
      "Epoch 20/100\n",
      "10/10 [==============================] - 3s 306ms/step - loss: 2.1566e-04 - val_loss: 0.0130\n",
      "Epoch 21/100\n",
      "10/10 [==============================] - 3s 328ms/step - loss: 2.1622e-04 - val_loss: 0.0090\n",
      "Epoch 22/100\n",
      "10/10 [==============================] - 3s 332ms/step - loss: 2.3100e-04 - val_loss: 0.0076\n",
      "Epoch 23/100\n",
      "10/10 [==============================] - 3s 295ms/step - loss: 2.3896e-04 - val_loss: 0.0132\n",
      "Epoch 24/100\n",
      "10/10 [==============================] - 3s 283ms/step - loss: 2.1150e-04 - val_loss: 0.0118\n",
      "Epoch 25/100\n",
      "10/10 [==============================] - 3s 325ms/step - loss: 1.9980e-04 - val_loss: 0.0099\n",
      "Epoch 26/100\n",
      "10/10 [==============================] - 3s 314ms/step - loss: 2.0779e-04 - val_loss: 0.0086\n",
      "Epoch 27/100\n",
      "10/10 [==============================] - 3s 260ms/step - loss: 1.9834e-04 - val_loss: 0.0040\n",
      "Epoch 28/100\n",
      "10/10 [==============================] - 3s 305ms/step - loss: 2.5660e-04 - val_loss: 0.0075\n",
      "Epoch 29/100\n",
      "10/10 [==============================] - 4s 384ms/step - loss: 1.9532e-04 - val_loss: 0.0080\n",
      "Epoch 30/100\n",
      "10/10 [==============================] - 4s 359ms/step - loss: 1.9273e-04 - val_loss: 0.0067\n",
      "Epoch 31/100\n",
      "10/10 [==============================] - 4s 362ms/step - loss: 1.9280e-04 - val_loss: 0.0040\n",
      "Epoch 32/100\n",
      "10/10 [==============================] - 4s 423ms/step - loss: 1.8671e-04 - val_loss: 0.0061\n",
      "Epoch 33/100\n",
      "10/10 [==============================] - 3s 343ms/step - loss: 1.8174e-04 - val_loss: 0.0046\n",
      "Epoch 34/100\n",
      "10/10 [==============================] - 4s 380ms/step - loss: 1.8079e-04 - val_loss: 0.0033\n",
      "Epoch 35/100\n",
      "10/10 [==============================] - 4s 395ms/step - loss: 1.8764e-04 - val_loss: 0.0061\n",
      "Epoch 36/100\n",
      "10/10 [==============================] - 4s 390ms/step - loss: 1.9031e-04 - val_loss: 0.0023\n",
      "Epoch 37/100\n",
      "10/10 [==============================] - 4s 381ms/step - loss: 1.7763e-04 - val_loss: 0.0023\n",
      "Epoch 38/100\n",
      "10/10 [==============================] - 4s 443ms/step - loss: 1.8309e-04 - val_loss: 0.0036\n",
      "Epoch 39/100\n",
      "10/10 [==============================] - 4s 438ms/step - loss: 1.7405e-04 - val_loss: 0.0031\n",
      "Epoch 40/100\n",
      "10/10 [==============================] - 3s 296ms/step - loss: 1.8121e-04 - val_loss: 0.0085\n",
      "Epoch 41/100\n",
      "10/10 [==============================] - 3s 285ms/step - loss: 2.0526e-04 - val_loss: 0.0024\n",
      "Epoch 42/100\n",
      "10/10 [==============================] - 3s 292ms/step - loss: 1.6925e-04 - val_loss: 0.0035\n",
      "Epoch 43/100\n",
      "10/10 [==============================] - 3s 291ms/step - loss: 1.9328e-04 - val_loss: 0.0051\n",
      "Epoch 44/100\n",
      "10/10 [==============================] - 3s 268ms/step - loss: 1.8856e-04 - val_loss: 0.0015\n",
      "Epoch 45/100\n",
      "10/10 [==============================] - 2s 248ms/step - loss: 1.7250e-04 - val_loss: 0.0018\n",
      "Epoch 46/100\n",
      "10/10 [==============================] - 3s 316ms/step - loss: 1.7145e-04 - val_loss: 0.0047\n",
      "Epoch 47/100\n",
      "10/10 [==============================] - 3s 308ms/step - loss: 1.7062e-04 - val_loss: 0.0021\n",
      "Epoch 48/100\n",
      "10/10 [==============================] - 2s 253ms/step - loss: 1.7529e-04 - val_loss: 0.0028\n",
      "Epoch 49/100\n",
      "10/10 [==============================] - 3s 276ms/step - loss: 1.7203e-04 - val_loss: 0.0039\n",
      "Epoch 50/100\n",
      "10/10 [==============================] - 3s 301ms/step - loss: 1.7842e-04 - val_loss: 0.0020\n",
      "Epoch 51/100\n",
      "10/10 [==============================] - 3s 292ms/step - loss: 1.6642e-04 - val_loss: 0.0017\n",
      "Epoch 52/100\n",
      "10/10 [==============================] - 3s 279ms/step - loss: 1.7447e-04 - val_loss: 0.0020\n",
      "Epoch 53/100\n",
      "10/10 [==============================] - 2s 225ms/step - loss: 1.6689e-04 - val_loss: 0.0018\n",
      "Epoch 54/100\n",
      "10/10 [==============================] - 2s 226ms/step - loss: 1.6943e-04 - val_loss: 0.0037\n",
      "Epoch 55/100\n",
      "10/10 [==============================] - 2s 248ms/step - loss: 2.0710e-04 - val_loss: 0.0023\n",
      "Epoch 56/100\n",
      "10/10 [==============================] - 2s 253ms/step - loss: 2.0116e-04 - val_loss: 0.0062\n",
      "Epoch 57/100\n",
      "10/10 [==============================] - 2s 255ms/step - loss: 1.9994e-04 - val_loss: 0.0017\n",
      "Epoch 58/100\n",
      "10/10 [==============================] - 2s 241ms/step - loss: 1.7680e-04 - val_loss: 0.0018\n",
      "Epoch 59/100\n",
      "10/10 [==============================] - 3s 305ms/step - loss: 1.5830e-04 - val_loss: 0.0018\n",
      "Epoch 60/100\n",
      "10/10 [==============================] - 3s 308ms/step - loss: 1.5665e-04 - val_loss: 0.0030\n",
      "Epoch 61/100\n",
      "10/10 [==============================] - 3s 320ms/step - loss: 1.5680e-04 - val_loss: 0.0019\n",
      "Epoch 62/100\n",
      "10/10 [==============================] - 3s 295ms/step - loss: 1.5491e-04 - val_loss: 0.0014\n",
      "Epoch 63/100\n",
      "10/10 [==============================] - 3s 310ms/step - loss: 1.4933e-04 - val_loss: 0.0019\n",
      "Epoch 64/100\n",
      "10/10 [==============================] - 3s 273ms/step - loss: 1.5115e-04 - val_loss: 0.0021\n",
      "Epoch 65/100\n",
      "10/10 [==============================] - 3s 264ms/step - loss: 1.4936e-04 - val_loss: 0.0018\n",
      "Epoch 66/100\n",
      "10/10 [==============================] - 3s 303ms/step - loss: 1.5429e-04 - val_loss: 0.0041\n",
      "Epoch 67/100\n",
      "10/10 [==============================] - 3s 318ms/step - loss: 1.7843e-04 - val_loss: 0.0017\n",
      "Epoch 68/100\n",
      "10/10 [==============================] - 3s 309ms/step - loss: 1.7240e-04 - val_loss: 0.0033\n",
      "Epoch 69/100\n",
      "10/10 [==============================] - 3s 305ms/step - loss: 1.5983e-04 - val_loss: 0.0037\n",
      "Epoch 70/100\n",
      "10/10 [==============================] - 3s 312ms/step - loss: 1.4572e-04 - val_loss: 0.0020\n",
      "Epoch 71/100\n",
      "10/10 [==============================] - 3s 277ms/step - loss: 1.4097e-04 - val_loss: 0.0042\n",
      "Epoch 72/100\n",
      "10/10 [==============================] - 3s 280ms/step - loss: 1.4237e-04 - val_loss: 0.0020\n",
      "Epoch 73/100\n",
      "10/10 [==============================] - 3s 307ms/step - loss: 1.4580e-04 - val_loss: 0.0022\n",
      "Epoch 74/100\n",
      "10/10 [==============================] - 3s 321ms/step - loss: 1.3691e-04 - val_loss: 0.0014\n",
      "Epoch 75/100\n",
      "10/10 [==============================] - 3s 297ms/step - loss: 1.3582e-04 - val_loss: 0.0051\n",
      "Epoch 76/100\n",
      "10/10 [==============================] - 3s 280ms/step - loss: 1.4775e-04 - val_loss: 0.0025\n",
      "Epoch 77/100\n",
      "10/10 [==============================] - 2s 242ms/step - loss: 1.3543e-04 - val_loss: 0.0024\n",
      "Epoch 78/100\n"
     ]
    },
    {
     "name": "stdout",
     "output_type": "stream",
     "text": [
      "10/10 [==============================] - 3s 262ms/step - loss: 1.3707e-04 - val_loss: 0.0032\n",
      "Epoch 79/100\n",
      "10/10 [==============================] - 3s 301ms/step - loss: 1.4583e-04 - val_loss: 0.0026\n",
      "Epoch 80/100\n",
      "10/10 [==============================] - 3s 336ms/step - loss: 1.3470e-04 - val_loss: 0.0045\n",
      "Epoch 81/100\n",
      "10/10 [==============================] - 3s 322ms/step - loss: 1.3691e-04 - val_loss: 0.0081\n",
      "Epoch 82/100\n",
      "10/10 [==============================] - 3s 327ms/step - loss: 1.4587e-04 - val_loss: 0.0024\n",
      "Epoch 83/100\n",
      "10/10 [==============================] - 3s 292ms/step - loss: 1.4143e-04 - val_loss: 0.0025\n",
      "Epoch 84/100\n",
      "10/10 [==============================] - 3s 339ms/step - loss: 1.2927e-04 - val_loss: 0.0023\n",
      "Epoch 85/100\n",
      "10/10 [==============================] - 3s 330ms/step - loss: 1.3878e-04 - val_loss: 0.0025\n",
      "Epoch 86/100\n",
      "10/10 [==============================] - 3s 316ms/step - loss: 1.3967e-04 - val_loss: 0.0038\n",
      "Epoch 87/100\n",
      "10/10 [==============================] - 3s 341ms/step - loss: 1.3516e-04 - val_loss: 0.0028\n",
      "Epoch 88/100\n",
      "10/10 [==============================] - 3s 333ms/step - loss: 1.3907e-04 - val_loss: 0.0023\n",
      "Epoch 89/100\n",
      "10/10 [==============================] - 3s 313ms/step - loss: 1.4171e-04 - val_loss: 0.0082\n",
      "Epoch 90/100\n",
      "10/10 [==============================] - 3s 335ms/step - loss: 1.3360e-04 - val_loss: 0.0040\n",
      "Epoch 91/100\n",
      "10/10 [==============================] - 3s 339ms/step - loss: 1.3051e-04 - val_loss: 0.0046\n",
      "Epoch 92/100\n",
      "10/10 [==============================] - 3s 329ms/step - loss: 1.2552e-04 - val_loss: 0.0102\n",
      "Epoch 93/100\n",
      "10/10 [==============================] - 3s 311ms/step - loss: 1.3404e-04 - val_loss: 0.0034\n",
      "Epoch 94/100\n",
      "10/10 [==============================] - 3s 337ms/step - loss: 1.3298e-04 - val_loss: 0.0034\n",
      "Epoch 95/100\n",
      "10/10 [==============================] - 3s 340ms/step - loss: 1.2235e-04 - val_loss: 0.0077\n",
      "Epoch 96/100\n",
      "10/10 [==============================] - 3s 325ms/step - loss: 1.2998e-04 - val_loss: 0.0050\n",
      "Epoch 97/100\n",
      "10/10 [==============================] - 3s 322ms/step - loss: 1.2523e-04 - val_loss: 0.0044\n",
      "Epoch 98/100\n",
      "10/10 [==============================] - 3s 341ms/step - loss: 1.1920e-04 - val_loss: 0.0046\n",
      "Epoch 99/100\n",
      "10/10 [==============================] - 3s 333ms/step - loss: 1.2889e-04 - val_loss: 0.0093\n",
      "Epoch 100/100\n",
      "10/10 [==============================] - 3s 324ms/step - loss: 1.2122e-04 - val_loss: 0.0055\n"
     ]
    }
   ],
   "source": [
    "model.fit(X_train,y_train,validation_data=(X_test,ytest),epochs=100,batch_size=64,verbose=1)\n",
    "import tensorflow as tf"
   ]
  },
  {
   "cell_type": "code",
   "execution_count": 17,
   "metadata": {},
   "outputs": [],
   "source": [
    "import tensorflow as tf"
   ]
  },
  {
   "cell_type": "code",
   "execution_count": 18,
   "metadata": {},
   "outputs": [],
   "source": [
    "train_predict=model.predict(X_train)\n",
    "test_predict=model.predict(X_test)"
   ]
  },
  {
   "cell_type": "code",
   "execution_count": 19,
   "metadata": {},
   "outputs": [],
   "source": [
    "train_predict=scaler.inverse_transform(train_predict)\n",
    "test_predict=scaler.inverse_transform(test_predict)"
   ]
  },
  {
   "cell_type": "code",
   "execution_count": 20,
   "metadata": {},
   "outputs": [
    {
     "data": {
      "text/plain": [
       "55.50253909652867"
      ]
     },
     "execution_count": 20,
     "metadata": {},
     "output_type": "execute_result"
    }
   ],
   "source": [
    "import math\n",
    "from sklearn.metrics import mean_squared_error\n",
    "math.sqrt(mean_squared_error(y_train,train_predict))"
   ]
  },
  {
   "cell_type": "code",
   "execution_count": 21,
   "metadata": {},
   "outputs": [
    {
     "data": {
      "text/plain": [
       "129.90290599449838"
      ]
     },
     "execution_count": 21,
     "metadata": {},
     "output_type": "execute_result"
    }
   ],
   "source": [
    "math.sqrt(mean_squared_error(ytest,test_predict))"
   ]
  },
  {
   "cell_type": "code",
   "execution_count": 22,
   "metadata": {},
   "outputs": [
    {
     "data": {
      "image/png": "[encoded data removed]",
      "text/plain": [
       "<Figure size 432x288 with 1 Axes>"
      ]
     },
     "metadata": {},
     "output_type": "display_data"
    }
   ],
   "source": [
    "look_back=100\n",
    "trainPredictPlot = numpy.empty_like(df1)\n",
    "trainPredictPlot[:, :] = np.nan\n",
    "trainPredictPlot[look_back:len(train_predict)+look_back, :] = train_predict\n",
    "testPredictPlot = numpy.empty_like(df1)\n",
    "testPredictPlot[:, :] = numpy.nan\n",
    "testPredictPlot[len(train_predict)+(look_back*2)+1:len(df1)-1, :] = test_predict\n",
    "plt.plot(scaler.inverse_transform(df1))\n",
    "plt.plot(trainPredictPlot)\n",
    "plt.plot(testPredictPlot)\n",
    "plt.show()"
   ]
  },
  {
   "cell_type": "code",
   "execution_count": 23,
   "metadata": {},
   "outputs": [
    {
     "data": {
      "text/plain": [
       "390"
      ]
     },
     "execution_count": 23,
     "metadata": {},
     "output_type": "execute_result"
    }
   ],
   "source": [
    "len(test_data)"
   ]
  },
  {
   "cell_type": "code",
   "execution_count": 24,
   "metadata": {},
   "outputs": [
    {
     "data": {
      "text/plain": [
       "(1, 100)"
      ]
     },
     "execution_count": 24,
     "metadata": {},
     "output_type": "execute_result"
    }
   ],
   "source": [
    "x_input=test_data[290:].reshape(1,-1)\n",
    "x_input.shape"
   ]
  },
  {
   "cell_type": "code",
   "execution_count": 25,
   "metadata": {},
   "outputs": [],
   "source": [
    "temp_input=list(x_input)\n",
    "temp_input=temp_input[0].tolist()"
   ]
  },
  {
   "cell_type": "code",
   "execution_count": 26,
   "metadata": {},
   "outputs": [
    {
     "name": "stdout",
     "output_type": "stream",
     "text": [
      "[0.96865773]\n",
      "101\n",
      "1 day input [0.75696635 0.77295813 0.77563485 0.78764583 0.79100885 0.78442002\n",
      " 0.76575152 0.76918323 0.78078242 0.7853809  0.7816747  0.77343851\n",
      " 0.77089908 0.80343172 0.79869594 0.81365815 0.81187369 0.81125601\n",
      " 0.82930673 0.82779677 0.82141384 0.81708986 0.78922439 0.78682226\n",
      " 0.77563485 0.77240904 0.77137957 0.74406309 0.74241594 0.7549759\n",
      " 0.75943719 0.76211391 0.75175019 0.74344541 0.74138636 0.74090598\n",
      " 0.73088534 0.72601238 0.72621827 0.72560048 0.73980781 0.73953321\n",
      " 0.7438572  0.73315028 0.72045292 0.73747427 0.74447488 0.75778993\n",
      " 0.7737817  0.7777625  0.77700752 0.78071372 0.77515437 0.7852436\n",
      " 0.7776252  0.80123537 0.77906656 0.77741931 0.79025397 0.79299929\n",
      " 0.79615641 0.79457785 0.79025397 0.78929299 0.78037063 0.77556616\n",
      " 0.78222368 0.79238161 0.78970488 0.81379544 0.83898417 0.85511324\n",
      " 0.88723399 0.8604667  0.86280024 0.85120105 0.85628001 0.88599862\n",
      " 0.91880575 0.87693886 0.88215513 0.9021963  0.92759092 0.95765273\n",
      " 0.96307478 0.98284146 1.         0.9698696  0.98194918 0.99320518\n",
      " 0.94056277 0.9207275  0.93870962 0.95696634 0.96376116 0.98826351\n",
      " 0.99450925 0.98970487 0.98929308 0.96865773]\n",
      "1 day output [[0.9710767]]\n",
      "2 day input [0.77295813 0.77563485 0.78764583 0.79100885 0.78442002 0.76575152\n",
      " 0.76918323 0.78078242 0.7853809  0.7816747  0.77343851 0.77089908\n",
      " 0.80343172 0.79869594 0.81365815 0.81187369 0.81125601 0.82930673\n",
      " 0.82779677 0.82141384 0.81708986 0.78922439 0.78682226 0.77563485\n",
      " 0.77240904 0.77137957 0.74406309 0.74241594 0.7549759  0.75943719\n",
      " 0.76211391 0.75175019 0.74344541 0.74138636 0.74090598 0.73088534\n",
      " 0.72601238 0.72621827 0.72560048 0.73980781 0.73953321 0.7438572\n",
      " 0.73315028 0.72045292 0.73747427 0.74447488 0.75778993 0.7737817\n",
      " 0.7777625  0.77700752 0.78071372 0.77515437 0.7852436  0.7776252\n",
      " 0.80123537 0.77906656 0.77741931 0.79025397 0.79299929 0.79615641\n",
      " 0.79457785 0.79025397 0.78929299 0.78037063 0.77556616 0.78222368\n",
      " 0.79238161 0.78970488 0.81379544 0.83898417 0.85511324 0.88723399\n",
      " 0.8604667  0.86280024 0.85120105 0.85628001 0.88599862 0.91880575\n",
      " 0.87693886 0.88215513 0.9021963  0.92759092 0.95765273 0.96307478\n",
      " 0.98284146 1.         0.9698696  0.98194918 0.99320518 0.94056277\n",
      " 0.9207275  0.93870962 0.95696634 0.96376116 0.98826351 0.99450925\n",
      " 0.98970487 0.98929308 0.96865773 0.97107673]\n",
      "2 day output [[0.9688839]]\n",
      "3 day input [0.77563485 0.78764583 0.79100885 0.78442002 0.76575152 0.76918323\n",
      " 0.78078242 0.7853809  0.7816747  0.77343851 0.77089908 0.80343172\n",
      " 0.79869594 0.81365815 0.81187369 0.81125601 0.82930673 0.82779677\n",
      " 0.82141384 0.81708986 0.78922439 0.78682226 0.77563485 0.77240904\n",
      " 0.77137957 0.74406309 0.74241594 0.7549759  0.75943719 0.76211391\n",
      " 0.75175019 0.74344541 0.74138636 0.74090598 0.73088534 0.72601238\n",
      " 0.72621827 0.72560048 0.73980781 0.73953321 0.7438572  0.73315028\n",
      " 0.72045292 0.73747427 0.74447488 0.75778993 0.7737817  0.7777625\n",
      " 0.77700752 0.78071372 0.77515437 0.7852436  0.7776252  0.80123537\n",
      " 0.77906656 0.77741931 0.79025397 0.79299929 0.79615641 0.79457785\n",
      " 0.79025397 0.78929299 0.78037063 0.77556616 0.78222368 0.79238161\n",
      " 0.78970488 0.81379544 0.83898417 0.85511324 0.88723399 0.8604667\n",
      " 0.86280024 0.85120105 0.85628001 0.88599862 0.91880575 0.87693886\n",
      " 0.88215513 0.9021963  0.92759092 0.95765273 0.96307478 0.98284146\n",
      " 1.         0.9698696  0.98194918 0.99320518 0.94056277 0.9207275\n",
      " 0.93870962 0.95696634 0.96376116 0.98826351 0.99450925 0.98970487\n",
      " 0.98929308 0.96865773 0.97107673 0.96888387]\n",
      "3 day output [[0.96411985]]\n",
      "4 day input [0.78764583 0.79100885 0.78442002 0.76575152 0.76918323 0.78078242\n",
      " 0.7853809  0.7816747  0.77343851 0.77089908 0.80343172 0.79869594\n",
      " 0.81365815 0.81187369 0.81125601 0.82930673 0.82779677 0.82141384\n",
      " 0.81708986 0.78922439 0.78682226 0.77563485 0.77240904 0.77137957\n",
      " 0.74406309 0.74241594 0.7549759  0.75943719 0.76211391 0.75175019\n",
      " 0.74344541 0.74138636 0.74090598 0.73088534 0.72601238 0.72621827\n",
      " 0.72560048 0.73980781 0.73953321 0.7438572  0.73315028 0.72045292\n",
      " 0.73747427 0.74447488 0.75778993 0.7737817  0.7777625  0.77700752\n",
      " 0.78071372 0.77515437 0.7852436  0.7776252  0.80123537 0.77906656\n",
      " 0.77741931 0.79025397 0.79299929 0.79615641 0.79457785 0.79025397\n",
      " 0.78929299 0.78037063 0.77556616 0.78222368 0.79238161 0.78970488\n",
      " 0.81379544 0.83898417 0.85511324 0.88723399 0.8604667  0.86280024\n",
      " 0.85120105 0.85628001 0.88599862 0.91880575 0.87693886 0.88215513\n",
      " 0.9021963  0.92759092 0.95765273 0.96307478 0.98284146 1.\n",
      " 0.9698696  0.98194918 0.99320518 0.94056277 0.9207275  0.93870962\n",
      " 0.95696634 0.96376116 0.98826351 0.99450925 0.98970487 0.98929308\n",
      " 0.96865773 0.97107673 0.96888387 0.96411985]\n",
      "4 day output [[0.9578612]]\n",
      "5 day input [0.79100885 0.78442002 0.76575152 0.76918323 0.78078242 0.7853809\n",
      " 0.7816747  0.77343851 0.77089908 0.80343172 0.79869594 0.81365815\n",
      " 0.81187369 0.81125601 0.82930673 0.82779677 0.82141384 0.81708986\n",
      " 0.78922439 0.78682226 0.77563485 0.77240904 0.77137957 0.74406309\n",
      " 0.74241594 0.7549759  0.75943719 0.76211391 0.75175019 0.74344541\n",
      " 0.74138636 0.74090598 0.73088534 0.72601238 0.72621827 0.72560048\n",
      " 0.73980781 0.73953321 0.7438572  0.73315028 0.72045292 0.73747427\n",
      " 0.74447488 0.75778993 0.7737817  0.7777625  0.77700752 0.78071372\n",
      " 0.77515437 0.7852436  0.7776252  0.80123537 0.77906656 0.77741931\n",
      " 0.79025397 0.79299929 0.79615641 0.79457785 0.79025397 0.78929299\n",
      " 0.78037063 0.77556616 0.78222368 0.79238161 0.78970488 0.81379544\n",
      " 0.83898417 0.85511324 0.88723399 0.8604667  0.86280024 0.85120105\n",
      " 0.85628001 0.88599862 0.91880575 0.87693886 0.88215513 0.9021963\n",
      " 0.92759092 0.95765273 0.96307478 0.98284146 1.         0.9698696\n",
      " 0.98194918 0.99320518 0.94056277 0.9207275  0.93870962 0.95696634\n",
      " 0.96376116 0.98826351 0.99450925 0.98970487 0.98929308 0.96865773\n",
      " 0.97107673 0.96888387 0.96411985 0.95786119]\n",
      "5 day output [[0.95054287]]\n",
      "6 day input [0.78442002 0.76575152 0.76918323 0.78078242 0.7853809  0.7816747\n",
      " 0.77343851 0.77089908 0.80343172 0.79869594 0.81365815 0.81187369\n",
      " 0.81125601 0.82930673 0.82779677 0.82141384 0.81708986 0.78922439\n",
      " 0.78682226 0.77563485 0.77240904 0.77137957 0.74406309 0.74241594\n",
      " 0.7549759  0.75943719 0.76211391 0.75175019 0.74344541 0.74138636\n",
      " 0.74090598 0.73088534 0.72601238 0.72621827 0.72560048 0.73980781\n",
      " 0.73953321 0.7438572  0.73315028 0.72045292 0.73747427 0.74447488\n",
      " 0.75778993 0.7737817  0.7777625  0.77700752 0.78071372 0.77515437\n",
      " 0.7852436  0.7776252  0.80123537 0.77906656 0.77741931 0.79025397\n",
      " 0.79299929 0.79615641 0.79457785 0.79025397 0.78929299 0.78037063\n",
      " 0.77556616 0.78222368 0.79238161 0.78970488 0.81379544 0.83898417\n",
      " 0.85511324 0.88723399 0.8604667  0.86280024 0.85120105 0.85628001\n",
      " 0.88599862 0.91880575 0.87693886 0.88215513 0.9021963  0.92759092\n",
      " 0.95765273 0.96307478 0.98284146 1.         0.9698696  0.98194918\n",
      " 0.99320518 0.94056277 0.9207275  0.93870962 0.95696634 0.96376116\n",
      " 0.98826351 0.99450925 0.98970487 0.98929308 0.96865773 0.97107673\n",
      " 0.96888387 0.96411985 0.95786119 0.95054287]\n",
      "6 day output [[0.942281]]\n",
      "7 day input [0.76575152 0.76918323 0.78078242 0.7853809  0.7816747  0.77343851\n",
      " 0.77089908 0.80343172 0.79869594 0.81365815 0.81187369 0.81125601\n",
      " 0.82930673 0.82779677 0.82141384 0.81708986 0.78922439 0.78682226\n",
      " 0.77563485 0.77240904 0.77137957 0.74406309 0.74241594 0.7549759\n",
      " 0.75943719 0.76211391 0.75175019 0.74344541 0.74138636 0.74090598\n",
      " 0.73088534 0.72601238 0.72621827 0.72560048 0.73980781 0.73953321\n",
      " 0.7438572  0.73315028 0.72045292 0.73747427 0.74447488 0.75778993\n",
      " 0.7737817  0.7777625  0.77700752 0.78071372 0.77515437 0.7852436\n",
      " 0.7776252  0.80123537 0.77906656 0.77741931 0.79025397 0.79299929\n",
      " 0.79615641 0.79457785 0.79025397 0.78929299 0.78037063 0.77556616\n",
      " 0.78222368 0.79238161 0.78970488 0.81379544 0.83898417 0.85511324\n",
      " 0.88723399 0.8604667  0.86280024 0.85120105 0.85628001 0.88599862\n",
      " 0.91880575 0.87693886 0.88215513 0.9021963  0.92759092 0.95765273\n",
      " 0.96307478 0.98284146 1.         0.9698696  0.98194918 0.99320518\n",
      " 0.94056277 0.9207275  0.93870962 0.95696634 0.96376116 0.98826351\n",
      " 0.99450925 0.98970487 0.98929308 0.96865773 0.97107673 0.96888387\n",
      " 0.96411985 0.95786119 0.95054287 0.94228101]\n",
      "7 day output [[0.93306243]]\n",
      "8 day input [0.76918323 0.78078242 0.7853809  0.7816747  0.77343851 0.77089908\n",
      " 0.80343172 0.79869594 0.81365815 0.81187369 0.81125601 0.82930673\n",
      " 0.82779677 0.82141384 0.81708986 0.78922439 0.78682226 0.77563485\n",
      " 0.77240904 0.77137957 0.74406309 0.74241594 0.7549759  0.75943719\n",
      " 0.76211391 0.75175019 0.74344541 0.74138636 0.74090598 0.73088534\n",
      " 0.72601238 0.72621827 0.72560048 0.73980781 0.73953321 0.7438572\n",
      " 0.73315028 0.72045292 0.73747427 0.74447488 0.75778993 0.7737817\n",
      " 0.7777625  0.77700752 0.78071372 0.77515437 0.7852436  0.7776252\n",
      " 0.80123537 0.77906656 0.77741931 0.79025397 0.79299929 0.79615641\n",
      " 0.79457785 0.79025397 0.78929299 0.78037063 0.77556616 0.78222368\n",
      " 0.79238161 0.78970488 0.81379544 0.83898417 0.85511324 0.88723399\n",
      " 0.8604667  0.86280024 0.85120105 0.85628001 0.88599862 0.91880575\n",
      " 0.87693886 0.88215513 0.9021963  0.92759092 0.95765273 0.96307478\n",
      " 0.98284146 1.         0.9698696  0.98194918 0.99320518 0.94056277\n",
      " 0.9207275  0.93870962 0.95696634 0.96376116 0.98826351 0.99450925\n",
      " 0.98970487 0.98929308 0.96865773 0.97107673 0.96888387 0.96411985\n",
      " 0.95786119 0.95054287 0.94228101 0.93306243]\n"
     ]
    },
    {
     "name": "stdout",
     "output_type": "stream",
     "text": [
      "8 day output [[0.9228287]]\n",
      "9 day input [0.78078242 0.7853809  0.7816747  0.77343851 0.77089908 0.80343172\n",
      " 0.79869594 0.81365815 0.81187369 0.81125601 0.82930673 0.82779677\n",
      " 0.82141384 0.81708986 0.78922439 0.78682226 0.77563485 0.77240904\n",
      " 0.77137957 0.74406309 0.74241594 0.7549759  0.75943719 0.76211391\n",
      " 0.75175019 0.74344541 0.74138636 0.74090598 0.73088534 0.72601238\n",
      " 0.72621827 0.72560048 0.73980781 0.73953321 0.7438572  0.73315028\n",
      " 0.72045292 0.73747427 0.74447488 0.75778993 0.7737817  0.7777625\n",
      " 0.77700752 0.78071372 0.77515437 0.7852436  0.7776252  0.80123537\n",
      " 0.77906656 0.77741931 0.79025397 0.79299929 0.79615641 0.79457785\n",
      " 0.79025397 0.78929299 0.78037063 0.77556616 0.78222368 0.79238161\n",
      " 0.78970488 0.81379544 0.83898417 0.85511324 0.88723399 0.8604667\n",
      " 0.86280024 0.85120105 0.85628001 0.88599862 0.91880575 0.87693886\n",
      " 0.88215513 0.9021963  0.92759092 0.95765273 0.96307478 0.98284146\n",
      " 1.         0.9698696  0.98194918 0.99320518 0.94056277 0.9207275\n",
      " 0.93870962 0.95696634 0.96376116 0.98826351 0.99450925 0.98970487\n",
      " 0.98929308 0.96865773 0.97107673 0.96888387 0.96411985 0.95786119\n",
      " 0.95054287 0.94228101 0.93306243 0.92282867]\n",
      "9 day output [[0.9115059]]\n",
      "10 day input [0.7853809  0.7816747  0.77343851 0.77089908 0.80343172 0.79869594\n",
      " 0.81365815 0.81187369 0.81125601 0.82930673 0.82779677 0.82141384\n",
      " 0.81708986 0.78922439 0.78682226 0.77563485 0.77240904 0.77137957\n",
      " 0.74406309 0.74241594 0.7549759  0.75943719 0.76211391 0.75175019\n",
      " 0.74344541 0.74138636 0.74090598 0.73088534 0.72601238 0.72621827\n",
      " 0.72560048 0.73980781 0.73953321 0.7438572  0.73315028 0.72045292\n",
      " 0.73747427 0.74447488 0.75778993 0.7737817  0.7777625  0.77700752\n",
      " 0.78071372 0.77515437 0.7852436  0.7776252  0.80123537 0.77906656\n",
      " 0.77741931 0.79025397 0.79299929 0.79615641 0.79457785 0.79025397\n",
      " 0.78929299 0.78037063 0.77556616 0.78222368 0.79238161 0.78970488\n",
      " 0.81379544 0.83898417 0.85511324 0.88723399 0.8604667  0.86280024\n",
      " 0.85120105 0.85628001 0.88599862 0.91880575 0.87693886 0.88215513\n",
      " 0.9021963  0.92759092 0.95765273 0.96307478 0.98284146 1.\n",
      " 0.9698696  0.98194918 0.99320518 0.94056277 0.9207275  0.93870962\n",
      " 0.95696634 0.96376116 0.98826351 0.99450925 0.98970487 0.98929308\n",
      " 0.96865773 0.97107673 0.96888387 0.96411985 0.95786119 0.95054287\n",
      " 0.94228101 0.93306243 0.92282867 0.91150588]\n",
      "10 day output [[0.899013]]\n",
      "11 day input [0.7816747  0.77343851 0.77089908 0.80343172 0.79869594 0.81365815\n",
      " 0.81187369 0.81125601 0.82930673 0.82779677 0.82141384 0.81708986\n",
      " 0.78922439 0.78682226 0.77563485 0.77240904 0.77137957 0.74406309\n",
      " 0.74241594 0.7549759  0.75943719 0.76211391 0.75175019 0.74344541\n",
      " 0.74138636 0.74090598 0.73088534 0.72601238 0.72621827 0.72560048\n",
      " 0.73980781 0.73953321 0.7438572  0.73315028 0.72045292 0.73747427\n",
      " 0.74447488 0.75778993 0.7737817  0.7777625  0.77700752 0.78071372\n",
      " 0.77515437 0.7852436  0.7776252  0.80123537 0.77906656 0.77741931\n",
      " 0.79025397 0.79299929 0.79615641 0.79457785 0.79025397 0.78929299\n",
      " 0.78037063 0.77556616 0.78222368 0.79238161 0.78970488 0.81379544\n",
      " 0.83898417 0.85511324 0.88723399 0.8604667  0.86280024 0.85120105\n",
      " 0.85628001 0.88599862 0.91880575 0.87693886 0.88215513 0.9021963\n",
      " 0.92759092 0.95765273 0.96307478 0.98284146 1.         0.9698696\n",
      " 0.98194918 0.99320518 0.94056277 0.9207275  0.93870962 0.95696634\n",
      " 0.96376116 0.98826351 0.99450925 0.98970487 0.98929308 0.96865773\n",
      " 0.97107673 0.96888387 0.96411985 0.95786119 0.95054287 0.94228101\n",
      " 0.93306243 0.92282867 0.91150588 0.89901298]\n",
      "11 day output [[0.88526]]\n",
      "12 day input [0.77343851 0.77089908 0.80343172 0.79869594 0.81365815 0.81187369\n",
      " 0.81125601 0.82930673 0.82779677 0.82141384 0.81708986 0.78922439\n",
      " 0.78682226 0.77563485 0.77240904 0.77137957 0.74406309 0.74241594\n",
      " 0.7549759  0.75943719 0.76211391 0.75175019 0.74344541 0.74138636\n",
      " 0.74090598 0.73088534 0.72601238 0.72621827 0.72560048 0.73980781\n",
      " 0.73953321 0.7438572  0.73315028 0.72045292 0.73747427 0.74447488\n",
      " 0.75778993 0.7737817  0.7777625  0.77700752 0.78071372 0.77515437\n",
      " 0.7852436  0.7776252  0.80123537 0.77906656 0.77741931 0.79025397\n",
      " 0.79299929 0.79615641 0.79457785 0.79025397 0.78929299 0.78037063\n",
      " 0.77556616 0.78222368 0.79238161 0.78970488 0.81379544 0.83898417\n",
      " 0.85511324 0.88723399 0.8604667  0.86280024 0.85120105 0.85628001\n",
      " 0.88599862 0.91880575 0.87693886 0.88215513 0.9021963  0.92759092\n",
      " 0.95765273 0.96307478 0.98284146 1.         0.9698696  0.98194918\n",
      " 0.99320518 0.94056277 0.9207275  0.93870962 0.95696634 0.96376116\n",
      " 0.98826351 0.99450925 0.98970487 0.98929308 0.96865773 0.97107673\n",
      " 0.96888387 0.96411985 0.95786119 0.95054287 0.94228101 0.93306243\n",
      " 0.92282867 0.91150588 0.89901298 0.88525999]\n",
      "12 day output [[0.8701499]]\n",
      "13 day input [0.77089908 0.80343172 0.79869594 0.81365815 0.81187369 0.81125601\n",
      " 0.82930673 0.82779677 0.82141384 0.81708986 0.78922439 0.78682226\n",
      " 0.77563485 0.77240904 0.77137957 0.74406309 0.74241594 0.7549759\n",
      " 0.75943719 0.76211391 0.75175019 0.74344541 0.74138636 0.74090598\n",
      " 0.73088534 0.72601238 0.72621827 0.72560048 0.73980781 0.73953321\n",
      " 0.7438572  0.73315028 0.72045292 0.73747427 0.74447488 0.75778993\n",
      " 0.7737817  0.7777625  0.77700752 0.78071372 0.77515437 0.7852436\n",
      " 0.7776252  0.80123537 0.77906656 0.77741931 0.79025397 0.79299929\n",
      " 0.79615641 0.79457785 0.79025397 0.78929299 0.78037063 0.77556616\n",
      " 0.78222368 0.79238161 0.78970488 0.81379544 0.83898417 0.85511324\n",
      " 0.88723399 0.8604667  0.86280024 0.85120105 0.85628001 0.88599862\n",
      " 0.91880575 0.87693886 0.88215513 0.9021963  0.92759092 0.95765273\n",
      " 0.96307478 0.98284146 1.         0.9698696  0.98194918 0.99320518\n",
      " 0.94056277 0.9207275  0.93870962 0.95696634 0.96376116 0.98826351\n",
      " 0.99450925 0.98970487 0.98929308 0.96865773 0.97107673 0.96888387\n",
      " 0.96411985 0.95786119 0.95054287 0.94228101 0.93306243 0.92282867\n",
      " 0.91150588 0.89901298 0.88525999 0.87014991]\n",
      "13 day output [[0.85357773]]\n",
      "14 day input [0.80343172 0.79869594 0.81365815 0.81187369 0.81125601 0.82930673\n",
      " 0.82779677 0.82141384 0.81708986 0.78922439 0.78682226 0.77563485\n",
      " 0.77240904 0.77137957 0.74406309 0.74241594 0.7549759  0.75943719\n",
      " 0.76211391 0.75175019 0.74344541 0.74138636 0.74090598 0.73088534\n",
      " 0.72601238 0.72621827 0.72560048 0.73980781 0.73953321 0.7438572\n",
      " 0.73315028 0.72045292 0.73747427 0.74447488 0.75778993 0.7737817\n",
      " 0.7777625  0.77700752 0.78071372 0.77515437 0.7852436  0.7776252\n",
      " 0.80123537 0.77906656 0.77741931 0.79025397 0.79299929 0.79615641\n",
      " 0.79457785 0.79025397 0.78929299 0.78037063 0.77556616 0.78222368\n",
      " 0.79238161 0.78970488 0.81379544 0.83898417 0.85511324 0.88723399\n",
      " 0.8604667  0.86280024 0.85120105 0.85628001 0.88599862 0.91880575\n",
      " 0.87693886 0.88215513 0.9021963  0.92759092 0.95765273 0.96307478\n",
      " 0.98284146 1.         0.9698696  0.98194918 0.99320518 0.94056277\n",
      " 0.9207275  0.93870962 0.95696634 0.96376116 0.98826351 0.99450925\n",
      " 0.98970487 0.98929308 0.96865773 0.97107673 0.96888387 0.96411985\n",
      " 0.95786119 0.95054287 0.94228101 0.93306243 0.92282867 0.91150588\n",
      " 0.89901298 0.88525999 0.87014991 0.85357773]\n",
      "14 day output [[0.8354323]]\n",
      "15 day input [0.79869594 0.81365815 0.81187369 0.81125601 0.82930673 0.82779677\n",
      " 0.82141384 0.81708986 0.78922439 0.78682226 0.77563485 0.77240904\n",
      " 0.77137957 0.74406309 0.74241594 0.7549759  0.75943719 0.76211391\n",
      " 0.75175019 0.74344541 0.74138636 0.74090598 0.73088534 0.72601238\n",
      " 0.72621827 0.72560048 0.73980781 0.73953321 0.7438572  0.73315028\n",
      " 0.72045292 0.73747427 0.74447488 0.75778993 0.7737817  0.7777625\n",
      " 0.77700752 0.78071372 0.77515437 0.7852436  0.7776252  0.80123537\n",
      " 0.77906656 0.77741931 0.79025397 0.79299929 0.79615641 0.79457785\n",
      " 0.79025397 0.78929299 0.78037063 0.77556616 0.78222368 0.79238161\n",
      " 0.78970488 0.81379544 0.83898417 0.85511324 0.88723399 0.8604667\n",
      " 0.86280024 0.85120105 0.85628001 0.88599862 0.91880575 0.87693886\n",
      " 0.88215513 0.9021963  0.92759092 0.95765273 0.96307478 0.98284146\n",
      " 1.         0.9698696  0.98194918 0.99320518 0.94056277 0.9207275\n",
      " 0.93870962 0.95696634 0.96376116 0.98826351 0.99450925 0.98970487\n",
      " 0.98929308 0.96865773 0.97107673 0.96888387 0.96411985 0.95786119\n",
      " 0.95054287 0.94228101 0.93306243 0.92282867 0.91150588 0.89901298\n",
      " 0.88525999 0.87014991 0.85357773 0.83543229]\n",
      "15 day output [[0.8155965]]\n",
      "16 day input [0.81365815 0.81187369 0.81125601 0.82930673 0.82779677 0.82141384\n",
      " 0.81708986 0.78922439 0.78682226 0.77563485 0.77240904 0.77137957\n",
      " 0.74406309 0.74241594 0.7549759  0.75943719 0.76211391 0.75175019\n",
      " 0.74344541 0.74138636 0.74090598 0.73088534 0.72601238 0.72621827\n",
      " 0.72560048 0.73980781 0.73953321 0.7438572  0.73315028 0.72045292\n",
      " 0.73747427 0.74447488 0.75778993 0.7737817  0.7777625  0.77700752\n",
      " 0.78071372 0.77515437 0.7852436  0.7776252  0.80123537 0.77906656\n",
      " 0.77741931 0.79025397 0.79299929 0.79615641 0.79457785 0.79025397\n",
      " 0.78929299 0.78037063 0.77556616 0.78222368 0.79238161 0.78970488\n",
      " 0.81379544 0.83898417 0.85511324 0.88723399 0.8604667  0.86280024\n",
      " 0.85120105 0.85628001 0.88599862 0.91880575 0.87693886 0.88215513\n",
      " 0.9021963  0.92759092 0.95765273 0.96307478 0.98284146 1.\n",
      " 0.9698696  0.98194918 0.99320518 0.94056277 0.9207275  0.93870962\n",
      " 0.95696634 0.96376116 0.98826351 0.99450925 0.98970487 0.98929308\n",
      " 0.96865773 0.97107673 0.96888387 0.96411985 0.95786119 0.95054287\n",
      " 0.94228101 0.93306243 0.92282867 0.91150588 0.89901298 0.88525999\n",
      " 0.87014991 0.85357773 0.83543229 0.81559652]\n"
     ]
    },
    {
     "name": "stdout",
     "output_type": "stream",
     "text": [
      "16 day output [[0.79395086]]\n",
      "17 day input [0.81187369 0.81125601 0.82930673 0.82779677 0.82141384 0.81708986\n",
      " 0.78922439 0.78682226 0.77563485 0.77240904 0.77137957 0.74406309\n",
      " 0.74241594 0.7549759  0.75943719 0.76211391 0.75175019 0.74344541\n",
      " 0.74138636 0.74090598 0.73088534 0.72601238 0.72621827 0.72560048\n",
      " 0.73980781 0.73953321 0.7438572  0.73315028 0.72045292 0.73747427\n",
      " 0.74447488 0.75778993 0.7737817  0.7777625  0.77700752 0.78071372\n",
      " 0.77515437 0.7852436  0.7776252  0.80123537 0.77906656 0.77741931\n",
      " 0.79025397 0.79299929 0.79615641 0.79457785 0.79025397 0.78929299\n",
      " 0.78037063 0.77556616 0.78222368 0.79238161 0.78970488 0.81379544\n",
      " 0.83898417 0.85511324 0.88723399 0.8604667  0.86280024 0.85120105\n",
      " 0.85628001 0.88599862 0.91880575 0.87693886 0.88215513 0.9021963\n",
      " 0.92759092 0.95765273 0.96307478 0.98284146 1.         0.9698696\n",
      " 0.98194918 0.99320518 0.94056277 0.9207275  0.93870962 0.95696634\n",
      " 0.96376116 0.98826351 0.99450925 0.98970487 0.98929308 0.96865773\n",
      " 0.97107673 0.96888387 0.96411985 0.95786119 0.95054287 0.94228101\n",
      " 0.93306243 0.92282867 0.91150588 0.89901298 0.88525999 0.87014991\n",
      " 0.85357773 0.83543229 0.81559652 0.79395086]\n",
      "17 day output [[0.7703732]]\n",
      "18 day input [0.81125601 0.82930673 0.82779677 0.82141384 0.81708986 0.78922439\n",
      " 0.78682226 0.77563485 0.77240904 0.77137957 0.74406309 0.74241594\n",
      " 0.7549759  0.75943719 0.76211391 0.75175019 0.74344541 0.74138636\n",
      " 0.74090598 0.73088534 0.72601238 0.72621827 0.72560048 0.73980781\n",
      " 0.73953321 0.7438572  0.73315028 0.72045292 0.73747427 0.74447488\n",
      " 0.75778993 0.7737817  0.7777625  0.77700752 0.78071372 0.77515437\n",
      " 0.7852436  0.7776252  0.80123537 0.77906656 0.77741931 0.79025397\n",
      " 0.79299929 0.79615641 0.79457785 0.79025397 0.78929299 0.78037063\n",
      " 0.77556616 0.78222368 0.79238161 0.78970488 0.81379544 0.83898417\n",
      " 0.85511324 0.88723399 0.8604667  0.86280024 0.85120105 0.85628001\n",
      " 0.88599862 0.91880575 0.87693886 0.88215513 0.9021963  0.92759092\n",
      " 0.95765273 0.96307478 0.98284146 1.         0.9698696  0.98194918\n",
      " 0.99320518 0.94056277 0.9207275  0.93870962 0.95696634 0.96376116\n",
      " 0.98826351 0.99450925 0.98970487 0.98929308 0.96865773 0.97107673\n",
      " 0.96888387 0.96411985 0.95786119 0.95054287 0.94228101 0.93306243\n",
      " 0.92282867 0.91150588 0.89901298 0.88525999 0.87014991 0.85357773\n",
      " 0.83543229 0.81559652 0.79395086 0.77037323]\n",
      "18 day output [[0.7447448]]\n",
      "19 day input [0.82930673 0.82779677 0.82141384 0.81708986 0.78922439 0.78682226\n",
      " 0.77563485 0.77240904 0.77137957 0.74406309 0.74241594 0.7549759\n",
      " 0.75943719 0.76211391 0.75175019 0.74344541 0.74138636 0.74090598\n",
      " 0.73088534 0.72601238 0.72621827 0.72560048 0.73980781 0.73953321\n",
      " 0.7438572  0.73315028 0.72045292 0.73747427 0.74447488 0.75778993\n",
      " 0.7737817  0.7777625  0.77700752 0.78071372 0.77515437 0.7852436\n",
      " 0.7776252  0.80123537 0.77906656 0.77741931 0.79025397 0.79299929\n",
      " 0.79615641 0.79457785 0.79025397 0.78929299 0.78037063 0.77556616\n",
      " 0.78222368 0.79238161 0.78970488 0.81379544 0.83898417 0.85511324\n",
      " 0.88723399 0.8604667  0.86280024 0.85120105 0.85628001 0.88599862\n",
      " 0.91880575 0.87693886 0.88215513 0.9021963  0.92759092 0.95765273\n",
      " 0.96307478 0.98284146 1.         0.9698696  0.98194918 0.99320518\n",
      " 0.94056277 0.9207275  0.93870962 0.95696634 0.96376116 0.98826351\n",
      " 0.99450925 0.98970487 0.98929308 0.96865773 0.97107673 0.96888387\n",
      " 0.96411985 0.95786119 0.95054287 0.94228101 0.93306243 0.92282867\n",
      " 0.91150588 0.89901298 0.88525999 0.87014991 0.85357773 0.83543229\n",
      " 0.81559652 0.79395086 0.77037323 0.74474478]\n",
      "19 day output [[0.71695024]]\n",
      "20 day input [0.82779677 0.82141384 0.81708986 0.78922439 0.78682226 0.77563485\n",
      " 0.77240904 0.77137957 0.74406309 0.74241594 0.7549759  0.75943719\n",
      " 0.76211391 0.75175019 0.74344541 0.74138636 0.74090598 0.73088534\n",
      " 0.72601238 0.72621827 0.72560048 0.73980781 0.73953321 0.7438572\n",
      " 0.73315028 0.72045292 0.73747427 0.74447488 0.75778993 0.7737817\n",
      " 0.7777625  0.77700752 0.78071372 0.77515437 0.7852436  0.7776252\n",
      " 0.80123537 0.77906656 0.77741931 0.79025397 0.79299929 0.79615641\n",
      " 0.79457785 0.79025397 0.78929299 0.78037063 0.77556616 0.78222368\n",
      " 0.79238161 0.78970488 0.81379544 0.83898417 0.85511324 0.88723399\n",
      " 0.8604667  0.86280024 0.85120105 0.85628001 0.88599862 0.91880575\n",
      " 0.87693886 0.88215513 0.9021963  0.92759092 0.95765273 0.96307478\n",
      " 0.98284146 1.         0.9698696  0.98194918 0.99320518 0.94056277\n",
      " 0.9207275  0.93870962 0.95696634 0.96376116 0.98826351 0.99450925\n",
      " 0.98970487 0.98929308 0.96865773 0.97107673 0.96888387 0.96411985\n",
      " 0.95786119 0.95054287 0.94228101 0.93306243 0.92282867 0.91150588\n",
      " 0.89901298 0.88525999 0.87014991 0.85357773 0.83543229 0.81559652\n",
      " 0.79395086 0.77037323 0.74474478 0.71695024]\n",
      "20 day output [[0.68688434]]\n",
      "21 day input [0.82141384 0.81708986 0.78922439 0.78682226 0.77563485 0.77240904\n",
      " 0.77137957 0.74406309 0.74241594 0.7549759  0.75943719 0.76211391\n",
      " 0.75175019 0.74344541 0.74138636 0.74090598 0.73088534 0.72601238\n",
      " 0.72621827 0.72560048 0.73980781 0.73953321 0.7438572  0.73315028\n",
      " 0.72045292 0.73747427 0.74447488 0.75778993 0.7737817  0.7777625\n",
      " 0.77700752 0.78071372 0.77515437 0.7852436  0.7776252  0.80123537\n",
      " 0.77906656 0.77741931 0.79025397 0.79299929 0.79615641 0.79457785\n",
      " 0.79025397 0.78929299 0.78037063 0.77556616 0.78222368 0.79238161\n",
      " 0.78970488 0.81379544 0.83898417 0.85511324 0.88723399 0.8604667\n",
      " 0.86280024 0.85120105 0.85628001 0.88599862 0.91880575 0.87693886\n",
      " 0.88215513 0.9021963  0.92759092 0.95765273 0.96307478 0.98284146\n",
      " 1.         0.9698696  0.98194918 0.99320518 0.94056277 0.9207275\n",
      " 0.93870962 0.95696634 0.96376116 0.98826351 0.99450925 0.98970487\n",
      " 0.98929308 0.96865773 0.97107673 0.96888387 0.96411985 0.95786119\n",
      " 0.95054287 0.94228101 0.93306243 0.92282867 0.91150588 0.89901298\n",
      " 0.88525999 0.87014991 0.85357773 0.83543229 0.81559652 0.79395086\n",
      " 0.77037323 0.74474478 0.71695024 0.68688434]\n",
      "21 day output [[0.6544558]]\n",
      "22 day input [0.81708986 0.78922439 0.78682226 0.77563485 0.77240904 0.77137957\n",
      " 0.74406309 0.74241594 0.7549759  0.75943719 0.76211391 0.75175019\n",
      " 0.74344541 0.74138636 0.74090598 0.73088534 0.72601238 0.72621827\n",
      " 0.72560048 0.73980781 0.73953321 0.7438572  0.73315028 0.72045292\n",
      " 0.73747427 0.74447488 0.75778993 0.7737817  0.7777625  0.77700752\n",
      " 0.78071372 0.77515437 0.7852436  0.7776252  0.80123537 0.77906656\n",
      " 0.77741931 0.79025397 0.79299929 0.79615641 0.79457785 0.79025397\n",
      " 0.78929299 0.78037063 0.77556616 0.78222368 0.79238161 0.78970488\n",
      " 0.81379544 0.83898417 0.85511324 0.88723399 0.8604667  0.86280024\n",
      " 0.85120105 0.85628001 0.88599862 0.91880575 0.87693886 0.88215513\n",
      " 0.9021963  0.92759092 0.95765273 0.96307478 0.98284146 1.\n",
      " 0.9698696  0.98194918 0.99320518 0.94056277 0.9207275  0.93870962\n",
      " 0.95696634 0.96376116 0.98826351 0.99450925 0.98970487 0.98929308\n",
      " 0.96865773 0.97107673 0.96888387 0.96411985 0.95786119 0.95054287\n",
      " 0.94228101 0.93306243 0.92282867 0.91150588 0.89901298 0.88525999\n",
      " 0.87014991 0.85357773 0.83543229 0.81559652 0.79395086 0.77037323\n",
      " 0.74474478 0.71695024 0.68688434 0.65445578]\n",
      "22 day output [[0.6195936]]\n",
      "23 day input [0.78922439 0.78682226 0.77563485 0.77240904 0.77137957 0.74406309\n",
      " 0.74241594 0.7549759  0.75943719 0.76211391 0.75175019 0.74344541\n",
      " 0.74138636 0.74090598 0.73088534 0.72601238 0.72621827 0.72560048\n",
      " 0.73980781 0.73953321 0.7438572  0.73315028 0.72045292 0.73747427\n",
      " 0.74447488 0.75778993 0.7737817  0.7777625  0.77700752 0.78071372\n",
      " 0.77515437 0.7852436  0.7776252  0.80123537 0.77906656 0.77741931\n",
      " 0.79025397 0.79299929 0.79615641 0.79457785 0.79025397 0.78929299\n",
      " 0.78037063 0.77556616 0.78222368 0.79238161 0.78970488 0.81379544\n",
      " 0.83898417 0.85511324 0.88723399 0.8604667  0.86280024 0.85120105\n",
      " 0.85628001 0.88599862 0.91880575 0.87693886 0.88215513 0.9021963\n",
      " 0.92759092 0.95765273 0.96307478 0.98284146 1.         0.9698696\n",
      " 0.98194918 0.99320518 0.94056277 0.9207275  0.93870962 0.95696634\n",
      " 0.96376116 0.98826351 0.99450925 0.98970487 0.98929308 0.96865773\n",
      " 0.97107673 0.96888387 0.96411985 0.95786119 0.95054287 0.94228101\n",
      " 0.93306243 0.92282867 0.91150588 0.89901298 0.88525999 0.87014991\n",
      " 0.85357773 0.83543229 0.81559652 0.79395086 0.77037323 0.74474478\n",
      " 0.71695024 0.68688434 0.65445578 0.61959362]\n",
      "23 day output [[0.58225507]]\n",
      "24 day input [0.78682226 0.77563485 0.77240904 0.77137957 0.74406309 0.74241594\n",
      " 0.7549759  0.75943719 0.76211391 0.75175019 0.74344541 0.74138636\n",
      " 0.74090598 0.73088534 0.72601238 0.72621827 0.72560048 0.73980781\n",
      " 0.73953321 0.7438572  0.73315028 0.72045292 0.73747427 0.74447488\n",
      " 0.75778993 0.7737817  0.7777625  0.77700752 0.78071372 0.77515437\n",
      " 0.7852436  0.7776252  0.80123537 0.77906656 0.77741931 0.79025397\n",
      " 0.79299929 0.79615641 0.79457785 0.79025397 0.78929299 0.78037063\n",
      " 0.77556616 0.78222368 0.79238161 0.78970488 0.81379544 0.83898417\n",
      " 0.85511324 0.88723399 0.8604667  0.86280024 0.85120105 0.85628001\n",
      " 0.88599862 0.91880575 0.87693886 0.88215513 0.9021963  0.92759092\n",
      " 0.95765273 0.96307478 0.98284146 1.         0.9698696  0.98194918\n",
      " 0.99320518 0.94056277 0.9207275  0.93870962 0.95696634 0.96376116\n",
      " 0.98826351 0.99450925 0.98970487 0.98929308 0.96865773 0.97107673\n",
      " 0.96888387 0.96411985 0.95786119 0.95054287 0.94228101 0.93306243\n",
      " 0.92282867 0.91150588 0.89901298 0.88525999 0.87014991 0.85357773\n",
      " 0.83543229 0.81559652 0.79395086 0.77037323 0.74474478 0.71695024\n",
      " 0.68688434 0.65445578 0.61959362 0.58225507]\n"
     ]
    },
    {
     "name": "stdout",
     "output_type": "stream",
     "text": [
      "24 day output [[0.54243314]]\n",
      "25 day input [0.77563485 0.77240904 0.77137957 0.74406309 0.74241594 0.7549759\n",
      " 0.75943719 0.76211391 0.75175019 0.74344541 0.74138636 0.74090598\n",
      " 0.73088534 0.72601238 0.72621827 0.72560048 0.73980781 0.73953321\n",
      " 0.7438572  0.73315028 0.72045292 0.73747427 0.74447488 0.75778993\n",
      " 0.7737817  0.7777625  0.77700752 0.78071372 0.77515437 0.7852436\n",
      " 0.7776252  0.80123537 0.77906656 0.77741931 0.79025397 0.79299929\n",
      " 0.79615641 0.79457785 0.79025397 0.78929299 0.78037063 0.77556616\n",
      " 0.78222368 0.79238161 0.78970488 0.81379544 0.83898417 0.85511324\n",
      " 0.88723399 0.8604667  0.86280024 0.85120105 0.85628001 0.88599862\n",
      " 0.91880575 0.87693886 0.88215513 0.9021963  0.92759092 0.95765273\n",
      " 0.96307478 0.98284146 1.         0.9698696  0.98194918 0.99320518\n",
      " 0.94056277 0.9207275  0.93870962 0.95696634 0.96376116 0.98826351\n",
      " 0.99450925 0.98970487 0.98929308 0.96865773 0.97107673 0.96888387\n",
      " 0.96411985 0.95786119 0.95054287 0.94228101 0.93306243 0.92282867\n",
      " 0.91150588 0.89901298 0.88525999 0.87014991 0.85357773 0.83543229\n",
      " 0.81559652 0.79395086 0.77037323 0.74474478 0.71695024 0.68688434\n",
      " 0.65445578 0.61959362 0.58225507 0.54243314]\n",
      "25 day output [[0.50016797]]\n",
      "26 day input [0.77240904 0.77137957 0.74406309 0.74241594 0.7549759  0.75943719\n",
      " 0.76211391 0.75175019 0.74344541 0.74138636 0.74090598 0.73088534\n",
      " 0.72601238 0.72621827 0.72560048 0.73980781 0.73953321 0.7438572\n",
      " 0.73315028 0.72045292 0.73747427 0.74447488 0.75778993 0.7737817\n",
      " 0.7777625  0.77700752 0.78071372 0.77515437 0.7852436  0.7776252\n",
      " 0.80123537 0.77906656 0.77741931 0.79025397 0.79299929 0.79615641\n",
      " 0.79457785 0.79025397 0.78929299 0.78037063 0.77556616 0.78222368\n",
      " 0.79238161 0.78970488 0.81379544 0.83898417 0.85511324 0.88723399\n",
      " 0.8604667  0.86280024 0.85120105 0.85628001 0.88599862 0.91880575\n",
      " 0.87693886 0.88215513 0.9021963  0.92759092 0.95765273 0.96307478\n",
      " 0.98284146 1.         0.9698696  0.98194918 0.99320518 0.94056277\n",
      " 0.9207275  0.93870962 0.95696634 0.96376116 0.98826351 0.99450925\n",
      " 0.98970487 0.98929308 0.96865773 0.97107673 0.96888387 0.96411985\n",
      " 0.95786119 0.95054287 0.94228101 0.93306243 0.92282867 0.91150588\n",
      " 0.89901298 0.88525999 0.87014991 0.85357773 0.83543229 0.81559652\n",
      " 0.79395086 0.77037323 0.74474478 0.71695024 0.68688434 0.65445578\n",
      " 0.61959362 0.58225507 0.54243314 0.50016797]\n",
      "26 day output [[0.45555502]]\n",
      "27 day input [0.77137957 0.74406309 0.74241594 0.7549759  0.75943719 0.76211391\n",
      " 0.75175019 0.74344541 0.74138636 0.74090598 0.73088534 0.72601238\n",
      " 0.72621827 0.72560048 0.73980781 0.73953321 0.7438572  0.73315028\n",
      " 0.72045292 0.73747427 0.74447488 0.75778993 0.7737817  0.7777625\n",
      " 0.77700752 0.78071372 0.77515437 0.7852436  0.7776252  0.80123537\n",
      " 0.77906656 0.77741931 0.79025397 0.79299929 0.79615641 0.79457785\n",
      " 0.79025397 0.78929299 0.78037063 0.77556616 0.78222368 0.79238161\n",
      " 0.78970488 0.81379544 0.83898417 0.85511324 0.88723399 0.8604667\n",
      " 0.86280024 0.85120105 0.85628001 0.88599862 0.91880575 0.87693886\n",
      " 0.88215513 0.9021963  0.92759092 0.95765273 0.96307478 0.98284146\n",
      " 1.         0.9698696  0.98194918 0.99320518 0.94056277 0.9207275\n",
      " 0.93870962 0.95696634 0.96376116 0.98826351 0.99450925 0.98970487\n",
      " 0.98929308 0.96865773 0.97107673 0.96888387 0.96411985 0.95786119\n",
      " 0.95054287 0.94228101 0.93306243 0.92282867 0.91150588 0.89901298\n",
      " 0.88525999 0.87014991 0.85357773 0.83543229 0.81559652 0.79395086\n",
      " 0.77037323 0.74474478 0.71695024 0.68688434 0.65445578 0.61959362\n",
      " 0.58225507 0.54243314 0.50016797 0.45555502]\n",
      "27 day output [[0.40875787]]\n",
      "28 day input [0.74406309 0.74241594 0.7549759  0.75943719 0.76211391 0.75175019\n",
      " 0.74344541 0.74138636 0.74090598 0.73088534 0.72601238 0.72621827\n",
      " 0.72560048 0.73980781 0.73953321 0.7438572  0.73315028 0.72045292\n",
      " 0.73747427 0.74447488 0.75778993 0.7737817  0.7777625  0.77700752\n",
      " 0.78071372 0.77515437 0.7852436  0.7776252  0.80123537 0.77906656\n",
      " 0.77741931 0.79025397 0.79299929 0.79615641 0.79457785 0.79025397\n",
      " 0.78929299 0.78037063 0.77556616 0.78222368 0.79238161 0.78970488\n",
      " 0.81379544 0.83898417 0.85511324 0.88723399 0.8604667  0.86280024\n",
      " 0.85120105 0.85628001 0.88599862 0.91880575 0.87693886 0.88215513\n",
      " 0.9021963  0.92759092 0.95765273 0.96307478 0.98284146 1.\n",
      " 0.9698696  0.98194918 0.99320518 0.94056277 0.9207275  0.93870962\n",
      " 0.95696634 0.96376116 0.98826351 0.99450925 0.98970487 0.98929308\n",
      " 0.96865773 0.97107673 0.96888387 0.96411985 0.95786119 0.95054287\n",
      " 0.94228101 0.93306243 0.92282867 0.91150588 0.89901298 0.88525999\n",
      " 0.87014991 0.85357773 0.83543229 0.81559652 0.79395086 0.77037323\n",
      " 0.74474478 0.71695024 0.68688434 0.65445578 0.61959362 0.58225507\n",
      " 0.54243314 0.50016797 0.45555502 0.40875787]\n",
      "28 day output [[0.36001757]]\n",
      "29 day input [0.74241594 0.7549759  0.75943719 0.76211391 0.75175019 0.74344541\n",
      " 0.74138636 0.74090598 0.73088534 0.72601238 0.72621827 0.72560048\n",
      " 0.73980781 0.73953321 0.7438572  0.73315028 0.72045292 0.73747427\n",
      " 0.74447488 0.75778993 0.7737817  0.7777625  0.77700752 0.78071372\n",
      " 0.77515437 0.7852436  0.7776252  0.80123537 0.77906656 0.77741931\n",
      " 0.79025397 0.79299929 0.79615641 0.79457785 0.79025397 0.78929299\n",
      " 0.78037063 0.77556616 0.78222368 0.79238161 0.78970488 0.81379544\n",
      " 0.83898417 0.85511324 0.88723399 0.8604667  0.86280024 0.85120105\n",
      " 0.85628001 0.88599862 0.91880575 0.87693886 0.88215513 0.9021963\n",
      " 0.92759092 0.95765273 0.96307478 0.98284146 1.         0.9698696\n",
      " 0.98194918 0.99320518 0.94056277 0.9207275  0.93870962 0.95696634\n",
      " 0.96376116 0.98826351 0.99450925 0.98970487 0.98929308 0.96865773\n",
      " 0.97107673 0.96888387 0.96411985 0.95786119 0.95054287 0.94228101\n",
      " 0.93306243 0.92282867 0.91150588 0.89901298 0.88525999 0.87014991\n",
      " 0.85357773 0.83543229 0.81559652 0.79395086 0.77037323 0.74474478\n",
      " 0.71695024 0.68688434 0.65445578 0.61959362 0.58225507 0.54243314\n",
      " 0.50016797 0.45555502 0.40875787 0.36001757]\n",
      "29 day output [[0.3096618]]\n",
      "[[0.9686577320098877], [0.9710767269134521], [0.9688838720321655], [0.9641198515892029], [0.9578611850738525], [0.9505428671836853], [0.9422810077667236], [0.9330624341964722], [0.9228286743164062], [0.9115058779716492], [0.8990129828453064], [0.8852599859237671], [0.8701499104499817], [0.853577733039856], [0.8354322910308838], [0.8155965209007263], [0.7939508557319641], [0.7703732252120972], [0.7447447776794434], [0.7169502377510071], [0.686884343624115], [0.6544557809829712], [0.619593620300293], [0.5822550654411316], [0.5424331426620483], [0.500167965888977], [0.4555550217628479], [0.40875786542892456], [0.3600175678730011], [0.3096618056297302]]\n"
     ]
    }
   ],
   "source": [
    "from numpy import array\n",
    "\n",
    "lst_output=[]\n",
    "n_steps=100\n",
    "i=0\n",
    "while(i<30):\n",
    "    \n",
    "    if(len(temp_input)>100):\n",
    "        x_input=np.array(temp_input[1:])\n",
    "        print(\"{} day input {}\".format(i,x_input))\n",
    "        x_input=x_input.reshape(1,-1)\n",
    "        x_input = x_input.reshape((1, n_steps, 1))\n",
    "        yhat = model.predict(x_input, verbose=0)\n",
    "        print(\"{} day output {}\".format(i,yhat))\n",
    "        temp_input.extend(yhat[0].tolist())\n",
    "        temp_input=temp_input[1:]\n",
    "        lst_output.extend(yhat.tolist())\n",
    "        i=i+1\n",
    "    else:\n",
    "        x_input = x_input.reshape((1, n_steps,1))\n",
    "        yhat = model.predict(x_input, verbose=0)\n",
    "        print(yhat[0])\n",
    "        temp_input.extend(yhat[0].tolist())\n",
    "        print(len(temp_input))\n",
    "        lst_output.extend(yhat.tolist())\n",
    "        i=i+1\n",
    "    \n",
    "\n",
    "print(lst_output)"
   ]
  },
  {
   "cell_type": "code",
   "execution_count": 27,
   "metadata": {},
   "outputs": [],
   "source": [
    "day_new=np.arange(1,101)\n",
    "day_pred=np.arange(101,131)"
   ]
  },
  {
   "cell_type": "code",
   "execution_count": 28,
   "metadata": {},
   "outputs": [
    {
     "data": {
      "text/plain": [
       "array([[177.5634364 ],\n",
       "       [177.91588397],\n",
       "       [177.596385  ],\n",
       "       [176.9022672 ],\n",
       "       [175.99037945],\n",
       "       [174.9241005 ],\n",
       "       [173.72034754],\n",
       "       [172.37720133],\n",
       "       [170.88614246],\n",
       "       [169.23641098],\n",
       "       [167.4161961 ],\n",
       "       [165.41238438],\n",
       "       [163.2108463 ],\n",
       "       [160.79627997],\n",
       "       [158.15248898],\n",
       "       [155.26241717],\n",
       "       [152.10864365],\n",
       "       [148.67338277],\n",
       "       [144.93931783],\n",
       "       [140.88965323],\n",
       "       [136.5090523 ],\n",
       "       [131.78421056],\n",
       "       [126.70479358],\n",
       "       [121.26456595],\n",
       "       [115.4625116 ],\n",
       "       [109.30447513],\n",
       "       [102.80436895],\n",
       "       [ 95.98602304],\n",
       "       [ 88.88456144],\n",
       "       [ 81.54772663]])"
      ]
     },
     "execution_count": 28,
     "metadata": {},
     "output_type": "execute_result"
    }
   ],
   "source": [
    "scaler.inverse_transform(lst_output)\n"
   ]
  },
  {
   "cell_type": "code",
   "execution_count": 29,
   "metadata": {},
   "outputs": [
    {
     "data": {
      "text/plain": [
       "1113"
      ]
     },
     "execution_count": 29,
     "metadata": {},
     "output_type": "execute_result"
    }
   ],
   "source": [
    "len(df1)"
   ]
  },
  {
   "cell_type": "code",
   "execution_count": null,
   "metadata": {},
   "outputs": [],
   "source": []
  },
  {
   "cell_type": "code",
   "execution_count": 30,
   "metadata": {
    "scrolled": true
   },
   "outputs": [
    {
     "data": {
      "image/png": "[encoded data removed]",
      "text/plain": [
       "<Figure size 432x288 with 1 Axes>"
      ]
     },
     "metadata": {},
     "output_type": "display_data"
    }
   ],
   "source": [
    "plt.plot(day_new,scaler.inverse_transform(df1[1013:]))\n",
    "plt.plot(day_pred,scaler.inverse_transform(lst_output))\n",
    "plt.savefig('30daypredict.png')"
   ]
  },
  {
   "cell_type": "code",
   "execution_count": 31,
   "metadata": {},
   "outputs": [
    {
     "data": {
      "text/plain": [
       "[<matplotlib.lines.Line2D at 0x22ad31bffa0>]"
      ]
     },
     "execution_count": 31,
     "metadata": {},
     "output_type": "execute_result"
    },
    {
     "data": {
      "image/png": "[encoded data removed]",
      "text/plain": [
       "<Figure size 432x288 with 1 Axes>"
      ]
     },
     "metadata": {},
     "output_type": "display_data"
    }
   ],
   "source": [
    "df3=df1.tolist()\n",
    "df3.extend(lst_output)\n",
    "plt.plot(df3[900:])"
   ]
  },
  {
   "cell_type": "code",
   "execution_count": 32,
   "metadata": {},
   "outputs": [],
   "source": [
    "df3=scaler.inverse_transform(df3).tolist()"
   ]
  },
  {
   "cell_type": "code",
   "execution_count": 33,
   "metadata": {},
   "outputs": [
    {
     "data": {
      "text/plain": [
       "[<matplotlib.lines.Line2D at 0x22ad5387220>]"
      ]
     },
     "execution_count": 33,
     "metadata": {},
     "output_type": "execute_result"
    },
    {
     "data": {
      "image/png": "[encoded data removed]",
      "text/plain": [
       "<Figure size 432x288 with 1 Axes>"
      ]
     },
     "metadata": {},
     "output_type": "display_data"
    }
   ],
   "source": [
    "plt.plot(df3)"
   ]
  },
  {
   "cell_type": "code",
   "execution_count": null,
   "metadata": {},
   "outputs": [],
   "source": []
  }
 ],
 "metadata": {
  "kernelspec": {
   "display_name": "Python 3",
   "language": "python",
   "name": "python3"
  },
  "language_info": {
   "codemirror_mode": {
    "name": "ipython",
    "version": 3
   },
   "file_extension": ".py",
   "mimetype": "text/x-python",
   "name": "python",
   "nbconvert_exporter": "python",
   "pygments_lexer": "ipython3",
   "version": "3.8.10"
  }
 },
 "nbformat": 4,
 "nbformat_minor": 4
}
