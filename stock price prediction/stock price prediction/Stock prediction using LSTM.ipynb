{
 "cells": [
  {
   "cell_type": "code",
   "execution_count": 1,
   "metadata": {},
   "outputs": [],
   "source": [
    "import numpy as np\n",
    "import pandas as pd\n",
    "import matplotlib.pyplot as plt\n",
    "from matplotlib import style\n",
    "import seaborn as sns\n",
    "from sklearn import preprocessing\n",
    "from sklearn.model_selection import train_test_split\n",
    "from datetime import datetime, timedelta\n",
    "import sklearn.metrics as metrics\n",
    "%matplotlib inline\n",
    "plt.style.use('fivethirtyeight')"
   ]
  },
  {
   "cell_type": "code",
   "execution_count": 2,
   "metadata": {},
   "outputs": [],
   "source": [
    "data=pd.read_csv(\"AAPL.csv\")\n",
    "data.set_index('Date', inplace=True)"
   ]
  },
  {
   "cell_type": "code",
   "execution_count": 3,
   "metadata": {},
   "outputs": [
    {
     "data": {
      "text/html": [
       "<div>\n",
       "<style scoped>\n",
       "    .dataframe tbody tr th:only-of-type {\n",
       "        vertical-align: middle;\n",
       "    }\n",
       "\n",
       "    .dataframe tbody tr th {\n",
       "        vertical-align: top;\n",
       "    }\n",
       "\n",
       "    .dataframe thead th {\n",
       "        text-align: right;\n",
       "    }\n",
       "</style>\n",
       "<table border=\"1\" class=\"dataframe\">\n",
       "  <thead>\n",
       "    <tr style=\"text-align: right;\">\n",
       "      <th></th>\n",
       "      <th>Open</th>\n",
       "      <th>High</th>\n",
       "      <th>Low</th>\n",
       "      <th>Close</th>\n",
       "      <th>Adj Close</th>\n",
       "      <th>Volume</th>\n",
       "    </tr>\n",
       "    <tr>\n",
       "      <th>Date</th>\n",
       "      <th></th>\n",
       "      <th></th>\n",
       "      <th></th>\n",
       "      <th></th>\n",
       "      <th></th>\n",
       "      <th></th>\n",
       "    </tr>\n",
       "  </thead>\n",
       "  <tbody>\n",
       "    <tr>\n",
       "      <th>2017-08-01</th>\n",
       "      <td>37.275002</td>\n",
       "      <td>37.555000</td>\n",
       "      <td>37.102501</td>\n",
       "      <td>37.512501</td>\n",
       "      <td>35.609295</td>\n",
       "      <td>141474400</td>\n",
       "    </tr>\n",
       "    <tr>\n",
       "      <th>2017-08-02</th>\n",
       "      <td>39.820000</td>\n",
       "      <td>39.937500</td>\n",
       "      <td>39.040001</td>\n",
       "      <td>39.285000</td>\n",
       "      <td>37.291874</td>\n",
       "      <td>279747200</td>\n",
       "    </tr>\n",
       "    <tr>\n",
       "      <th>2017-08-03</th>\n",
       "      <td>39.262501</td>\n",
       "      <td>39.302502</td>\n",
       "      <td>38.755001</td>\n",
       "      <td>38.892502</td>\n",
       "      <td>36.919292</td>\n",
       "      <td>108389200</td>\n",
       "    </tr>\n",
       "    <tr>\n",
       "      <th>2017-08-04</th>\n",
       "      <td>39.017502</td>\n",
       "      <td>39.349998</td>\n",
       "      <td>38.922501</td>\n",
       "      <td>39.097500</td>\n",
       "      <td>37.113876</td>\n",
       "      <td>82239600</td>\n",
       "    </tr>\n",
       "    <tr>\n",
       "      <th>2017-08-07</th>\n",
       "      <td>39.264999</td>\n",
       "      <td>39.730000</td>\n",
       "      <td>39.167500</td>\n",
       "      <td>39.702499</td>\n",
       "      <td>37.688194</td>\n",
       "      <td>87481200</td>\n",
       "    </tr>\n",
       "  </tbody>\n",
       "</table>\n",
       "</div>"
      ],
      "text/plain": [
       "                 Open       High        Low      Close  Adj Close     Volume\n",
       "Date                                                                        \n",
       "2017-08-01  37.275002  37.555000  37.102501  37.512501  35.609295  141474400\n",
       "2017-08-02  39.820000  39.937500  39.040001  39.285000  37.291874  279747200\n",
       "2017-08-03  39.262501  39.302502  38.755001  38.892502  36.919292  108389200\n",
       "2017-08-04  39.017502  39.349998  38.922501  39.097500  37.113876   82239600\n",
       "2017-08-07  39.264999  39.730000  39.167500  39.702499  37.688194   87481200"
      ]
     },
     "execution_count": 3,
     "metadata": {},
     "output_type": "execute_result"
    }
   ],
   "source": [
    "data.head()"
   ]
  },
  {
   "cell_type": "code",
   "execution_count": 4,
   "metadata": {},
   "outputs": [
    {
     "data": {
      "text/plain": [
       "Open         0\n",
       "High         0\n",
       "Low          0\n",
       "Close        0\n",
       "Adj Close    0\n",
       "Volume       0\n",
       "dtype: int64"
      ]
     },
     "execution_count": 4,
     "metadata": {},
     "output_type": "execute_result"
    }
   ],
   "source": [
    "data.isnull().sum()"
   ]
  },
  {
   "cell_type": "code",
   "execution_count": 5,
   "metadata": {
    "scrolled": true
   },
   "outputs": [
    {
     "name": "stdout",
     "output_type": "stream",
     "text": [
      "<class 'pandas.core.frame.DataFrame'>\n",
      "Index: 1113 entries, 2017-08-01 to 2021-12-30\n",
      "Data columns (total 6 columns):\n",
      " #   Column     Non-Null Count  Dtype  \n",
      "---  ------     --------------  -----  \n",
      " 0   Open       1113 non-null   float64\n",
      " 1   High       1113 non-null   float64\n",
      " 2   Low        1113 non-null   float64\n",
      " 3   Close      1113 non-null   float64\n",
      " 4   Adj Close  1113 non-null   float64\n",
      " 5   Volume     1113 non-null   int64  \n",
      "dtypes: float64(5), int64(1)\n",
      "memory usage: 60.9+ KB\n"
     ]
    }
   ],
   "source": [
    "data.info()"
   ]
  },
  {
   "cell_type": "code",
   "execution_count": 6,
   "metadata": {},
   "outputs": [],
   "source": [
    "df1=data.reset_index()['High']"
   ]
  },
  {
   "cell_type": "code",
   "execution_count": 7,
   "metadata": {},
   "outputs": [
    {
     "data": {
      "text/plain": [
       "[<matplotlib.lines.Line2D at 0x1c1c200f370>]"
      ]
     },
     "execution_count": 7,
     "metadata": {},
     "output_type": "execute_result"
    },
    {
     "data": {
      "image/png": "[encoded data removed]",
      "text/plain": [
       "<Figure size 432x288 with 1 Axes>"
      ]
     },
     "metadata": {},
     "output_type": "display_data"
    }
   ],
   "source": [
    "plt.plot(df1)"
   ]
  },
  {
   "cell_type": "code",
   "execution_count": 8,
   "metadata": {},
   "outputs": [],
   "source": [
    "from sklearn.preprocessing import MinMaxScaler\n",
    "scaler=MinMaxScaler(feature_range=(0,1))\n",
    "df1=scaler.fit_transform(np.array(df1).reshape(-1,1))"
   ]
  },
  {
   "cell_type": "code",
   "execution_count": 9,
   "metadata": {},
   "outputs": [],
   "source": [
    "training_size=int(len(df1)*0.65)\n",
    "test_size=len(df1)-training_size\n",
    "train_data,test_data=df1[0:training_size,:],df1[training_size:len(df1),:1]"
   ]
  },
  {
   "cell_type": "code",
   "execution_count": 10,
   "metadata": {},
   "outputs": [],
   "source": [
    "import numpy\n",
    "def create_dataset(dataset, time_step=1):\n",
    "    dataX, dataY = [], []\n",
    "    for i in range(len(dataset)-time_step-1):\n",
    "        a = dataset[i:(i+time_step), 0] \n",
    "        dataX.append(a)\n",
    "        dataY.append(dataset[i + time_step, 0])\n",
    "    return numpy.array(dataX), numpy.array(dataY)"
   ]
  },
  {
   "cell_type": "code",
   "execution_count": 11,
   "metadata": {},
   "outputs": [],
   "source": [
    "time_step = 100\n",
    "X_train, y_train = create_dataset(train_data, time_step)\n",
    "X_test, ytest = create_dataset(test_data, time_step)"
   ]
  },
  {
   "cell_type": "code",
   "execution_count": 12,
   "metadata": {},
   "outputs": [],
   "source": [
    "X_train =X_train.reshape(X_train.shape[0],X_train.shape[1] , 1)\n",
    "X_test = X_test.reshape(X_test.shape[0],X_test.shape[1] , 1)"
   ]
  },
  {
   "cell_type": "code",
   "execution_count": 13,
   "metadata": {},
   "outputs": [],
   "source": [
    "from tensorflow.keras.models import Sequential\n",
    "from tensorflow.keras.layers import Dense\n",
    "from tensorflow.keras.layers import LSTM"
   ]
  },
  {
   "cell_type": "code",
   "execution_count": 14,
   "metadata": {},
   "outputs": [],
   "source": [
    "model=Sequential()\n",
    "model.add(LSTM(50,return_sequences=True,input_shape=(100,1)))\n",
    "model.add(LSTM(50,return_sequences=True))\n",
    "model.add(LSTM(50))\n",
    "model.add(Dense(1))\n",
    "model.compile(loss='mean_squared_error',optimizer='adam')"
   ]
  },
  {
   "cell_type": "code",
   "execution_count": 15,
   "metadata": {},
   "outputs": [
    {
     "name": "stdout",
     "output_type": "stream",
     "text": [
      "Model: \"sequential\"\n",
      "_________________________________________________________________\n",
      "Layer (type)                 Output Shape              Param #   \n",
      "=================================================================\n",
      "lstm (LSTM)                  (None, 100, 50)           10400     \n",
      "_________________________________________________________________\n",
      "lstm_1 (LSTM)                (None, 100, 50)           20200     \n",
      "_________________________________________________________________\n",
      "lstm_2 (LSTM)                (None, 50)                20200     \n",
      "_________________________________________________________________\n",
      "dense (Dense)                (None, 1)                 51        \n",
      "=================================================================\n",
      "Total params: 50,851\n",
      "Trainable params: 50,851\n",
      "Non-trainable params: 0\n",
      "_________________________________________________________________\n"
     ]
    }
   ],
   "source": [
    "model.summary()"
   ]
  },
  {
   "cell_type": "code",
   "execution_count": 16,
   "metadata": {},
   "outputs": [
    {
     "name": "stdout",
     "output_type": "stream",
     "text": [
      "Epoch 1/100\n",
      "10/10 [==============================] - 8s 278ms/step - loss: 0.0065 - val_loss: 0.1046\n",
      "Epoch 2/100\n",
      "10/10 [==============================] - 2s 151ms/step - loss: 0.0018 - val_loss: 0.0028\n",
      "Epoch 3/100\n",
      "10/10 [==============================] - 2s 151ms/step - loss: 7.6774e-04 - val_loss: 0.0156\n",
      "Epoch 4/100\n",
      "10/10 [==============================] - 1s 146ms/step - loss: 6.4104e-04 - val_loss: 0.0018\n",
      "Epoch 5/100\n",
      "10/10 [==============================] - 1s 145ms/step - loss: 5.1872e-04 - val_loss: 0.0017\n",
      "Epoch 6/100\n",
      "10/10 [==============================] - 2s 148ms/step - loss: 4.6082e-04 - val_loss: 0.0024\n",
      "Epoch 7/100\n",
      "10/10 [==============================] - 1s 139ms/step - loss: 4.4143e-04 - val_loss: 0.0015\n",
      "Epoch 8/100\n",
      "10/10 [==============================] - 1s 148ms/step - loss: 3.9175e-04 - val_loss: 0.0016\n",
      "Epoch 9/100\n",
      "10/10 [==============================] - 1s 149ms/step - loss: 3.6919e-04 - val_loss: 0.0013\n",
      "Epoch 10/100\n",
      "10/10 [==============================] - 1s 149ms/step - loss: 3.4265e-04 - val_loss: 0.0015\n",
      "Epoch 11/100\n",
      "10/10 [==============================] - 1s 143ms/step - loss: 3.1460e-04 - val_loss: 0.0018\n",
      "Epoch 12/100\n",
      "10/10 [==============================] - 2s 150ms/step - loss: 3.0790e-04 - val_loss: 0.0056\n",
      "Epoch 13/100\n",
      "10/10 [==============================] - 1s 144ms/step - loss: 2.9284e-04 - val_loss: 0.0086\n",
      "Epoch 14/100\n",
      "10/10 [==============================] - 1s 146ms/step - loss: 2.5720e-04 - val_loss: 0.0123\n",
      "Epoch 15/100\n",
      "10/10 [==============================] - 1s 139ms/step - loss: 2.3984e-04 - val_loss: 0.0083\n",
      "Epoch 16/100\n",
      "10/10 [==============================] - 1s 147ms/step - loss: 2.3776e-04 - val_loss: 0.0155\n",
      "Epoch 17/100\n",
      "10/10 [==============================] - 1s 147ms/step - loss: 2.5184e-04 - val_loss: 0.0131\n",
      "Epoch 18/100\n",
      "10/10 [==============================] - 1s 145ms/step - loss: 2.3227e-04 - val_loss: 0.0049\n",
      "Epoch 19/100\n",
      "10/10 [==============================] - 1s 143ms/step - loss: 2.2944e-04 - val_loss: 0.0088\n",
      "Epoch 20/100\n",
      "10/10 [==============================] - 2s 148ms/step - loss: 2.2159e-04 - val_loss: 0.0133\n",
      "Epoch 21/100\n",
      "10/10 [==============================] - 1s 144ms/step - loss: 2.0759e-04 - val_loss: 0.0107\n",
      "Epoch 22/100\n",
      "10/10 [==============================] - 1s 143ms/step - loss: 2.0472e-04 - val_loss: 0.0074\n",
      "Epoch 23/100\n",
      "10/10 [==============================] - 1s 146ms/step - loss: 2.0954e-04 - val_loss: 0.0124\n",
      "Epoch 24/100\n",
      "10/10 [==============================] - 1s 144ms/step - loss: 1.9556e-04 - val_loss: 0.0146\n",
      "Epoch 25/100\n",
      "10/10 [==============================] - 1s 151ms/step - loss: 2.0434e-04 - val_loss: 0.0082\n",
      "Epoch 26/100\n",
      "10/10 [==============================] - 1s 145ms/step - loss: 1.9977e-04 - val_loss: 0.0094\n",
      "Epoch 27/100\n",
      "10/10 [==============================] - 1s 149ms/step - loss: 2.0226e-04 - val_loss: 0.0122\n",
      "Epoch 28/100\n",
      "10/10 [==============================] - 1s 146ms/step - loss: 1.9357e-04 - val_loss: 0.0075\n",
      "Epoch 29/100\n",
      "10/10 [==============================] - 1s 142ms/step - loss: 1.9430e-04 - val_loss: 0.0070\n",
      "Epoch 30/100\n",
      "10/10 [==============================] - 1s 150ms/step - loss: 2.1177e-04 - val_loss: 0.0115\n",
      "Epoch 31/100\n",
      "10/10 [==============================] - 1s 140ms/step - loss: 1.9188e-04 - val_loss: 0.0037\n",
      "Epoch 32/100\n",
      "10/10 [==============================] - 1s 146ms/step - loss: 2.0063e-04 - val_loss: 0.0127\n",
      "Epoch 33/100\n",
      "10/10 [==============================] - 1s 142ms/step - loss: 1.9082e-04 - val_loss: 0.0075\n",
      "Epoch 34/100\n",
      "10/10 [==============================] - 1s 142ms/step - loss: 1.7588e-04 - val_loss: 0.0128\n",
      "Epoch 35/100\n",
      "10/10 [==============================] - 1s 147ms/step - loss: 1.9150e-04 - val_loss: 0.0056\n",
      "Epoch 36/100\n",
      "10/10 [==============================] - 1s 145ms/step - loss: 1.7389e-04 - val_loss: 0.0070\n",
      "Epoch 37/100\n",
      "10/10 [==============================] - 1s 142ms/step - loss: 1.8207e-04 - val_loss: 0.0060\n",
      "Epoch 38/100\n",
      "10/10 [==============================] - 1s 148ms/step - loss: 1.8578e-04 - val_loss: 0.0067\n",
      "Epoch 39/100\n",
      "10/10 [==============================] - 1s 148ms/step - loss: 1.6969e-04 - val_loss: 0.0064\n",
      "Epoch 40/100\n",
      "10/10 [==============================] - 1s 141ms/step - loss: 1.7044e-04 - val_loss: 0.0041\n",
      "Epoch 41/100\n",
      "10/10 [==============================] - 1s 144ms/step - loss: 1.7305e-04 - val_loss: 0.0099\n",
      "Epoch 42/100\n",
      "10/10 [==============================] - 1s 142ms/step - loss: 1.8045e-04 - val_loss: 0.0078\n",
      "Epoch 43/100\n",
      "10/10 [==============================] - 1s 146ms/step - loss: 1.7457e-04 - val_loss: 0.0041\n",
      "Epoch 44/100\n",
      "10/10 [==============================] - 2s 151ms/step - loss: 1.6544e-04 - val_loss: 0.0073\n",
      "Epoch 45/100\n",
      "10/10 [==============================] - 1s 144ms/step - loss: 1.6766e-04 - val_loss: 0.0076\n",
      "Epoch 46/100\n",
      "10/10 [==============================] - 1s 140ms/step - loss: 1.6322e-04 - val_loss: 0.0063\n",
      "Epoch 47/100\n",
      "10/10 [==============================] - 1s 149ms/step - loss: 1.6451e-04 - val_loss: 0.0096\n",
      "Epoch 48/100\n",
      "10/10 [==============================] - 1s 141ms/step - loss: 1.6355e-04 - val_loss: 0.0042\n",
      "Epoch 49/100\n",
      "10/10 [==============================] - 2s 162ms/step - loss: 1.7033e-04 - val_loss: 0.0142\n",
      "Epoch 50/100\n",
      "10/10 [==============================] - 2s 155ms/step - loss: 1.7606e-04 - val_loss: 0.0047\n",
      "Epoch 51/100\n",
      "10/10 [==============================] - 2s 163ms/step - loss: 1.8244e-04 - val_loss: 0.0061\n",
      "Epoch 52/100\n",
      "10/10 [==============================] - 2s 159ms/step - loss: 1.6230e-04 - val_loss: 0.0043\n",
      "Epoch 53/100\n",
      "10/10 [==============================] - 2s 150ms/step - loss: 1.5795e-04 - val_loss: 0.0035\n",
      "Epoch 54/100\n",
      "10/10 [==============================] - 2s 153ms/step - loss: 1.6232e-04 - val_loss: 0.0084\n",
      "Epoch 55/100\n",
      "10/10 [==============================] - 1s 150ms/step - loss: 1.5202e-04 - val_loss: 0.0068\n",
      "Epoch 56/100\n",
      "10/10 [==============================] - 1s 144ms/step - loss: 1.5241e-04 - val_loss: 0.0058\n",
      "Epoch 57/100\n",
      "10/10 [==============================] - 1s 143ms/step - loss: 1.7028e-04 - val_loss: 0.0062\n",
      "Epoch 58/100\n",
      "10/10 [==============================] - 1s 149ms/step - loss: 1.6261e-04 - val_loss: 0.0055\n",
      "Epoch 59/100\n",
      "10/10 [==============================] - 1s 143ms/step - loss: 1.4857e-04 - val_loss: 0.0035\n",
      "Epoch 60/100\n",
      "10/10 [==============================] - 2s 168ms/step - loss: 1.5372e-04 - val_loss: 0.0079\n",
      "Epoch 61/100\n",
      "10/10 [==============================] - 2s 188ms/step - loss: 1.4533e-04 - val_loss: 0.0049\n",
      "Epoch 62/100\n",
      "10/10 [==============================] - 2s 169ms/step - loss: 1.4589e-04 - val_loss: 0.0051\n",
      "Epoch 63/100\n",
      "10/10 [==============================] - 2s 163ms/step - loss: 1.4745e-04 - val_loss: 0.0054\n",
      "Epoch 64/100\n",
      "10/10 [==============================] - 2s 168ms/step - loss: 1.4502e-04 - val_loss: 0.0053\n",
      "Epoch 65/100\n",
      "10/10 [==============================] - 2s 159ms/step - loss: 1.4347e-04 - val_loss: 0.0043\n",
      "Epoch 66/100\n",
      "10/10 [==============================] - 2s 164ms/step - loss: 1.4177e-04 - val_loss: 0.0056\n",
      "Epoch 67/100\n",
      "10/10 [==============================] - 2s 172ms/step - loss: 1.3751e-04 - val_loss: 0.0063\n",
      "Epoch 68/100\n",
      "10/10 [==============================] - 2s 170ms/step - loss: 1.5113e-04 - val_loss: 0.0055\n",
      "Epoch 69/100\n",
      "10/10 [==============================] - 2s 170ms/step - loss: 1.6716e-04 - val_loss: 0.0033\n",
      "Epoch 70/100\n",
      "10/10 [==============================] - 2s 166ms/step - loss: 1.6018e-04 - val_loss: 0.0145\n",
      "Epoch 71/100\n",
      "10/10 [==============================] - 2s 164ms/step - loss: 1.4853e-04 - val_loss: 0.0028\n",
      "Epoch 72/100\n",
      "10/10 [==============================] - 2s 158ms/step - loss: 1.5497e-04 - val_loss: 0.0081\n",
      "Epoch 73/100\n",
      "10/10 [==============================] - 2s 163ms/step - loss: 1.4952e-04 - val_loss: 0.0075\n",
      "Epoch 74/100\n",
      "10/10 [==============================] - 2s 178ms/step - loss: 1.4951e-04 - val_loss: 0.0039\n",
      "Epoch 75/100\n",
      "10/10 [==============================] - 2s 193ms/step - loss: 1.3565e-04 - val_loss: 0.0064\n",
      "Epoch 76/100\n",
      "10/10 [==============================] - 2s 197ms/step - loss: 1.3948e-04 - val_loss: 0.0113\n",
      "Epoch 77/100\n",
      "10/10 [==============================] - 2s 169ms/step - loss: 1.3965e-04 - val_loss: 0.0027\n",
      "Epoch 78/100\n",
      "10/10 [==============================] - 2s 153ms/step - loss: 1.4243e-04 - val_loss: 0.0097\n",
      "Epoch 79/100\n",
      "10/10 [==============================] - 2s 156ms/step - loss: 1.4101e-04 - val_loss: 0.0073\n",
      "Epoch 80/100\n",
      "10/10 [==============================] - 2s 164ms/step - loss: 1.4751e-04 - val_loss: 0.0064\n",
      "Epoch 81/100\n",
      "10/10 [==============================] - 2s 184ms/step - loss: 1.3055e-04 - val_loss: 0.0051\n",
      "Epoch 82/100\n",
      "10/10 [==============================] - 2s 178ms/step - loss: 1.3117e-04 - val_loss: 0.0054\n",
      "Epoch 83/100\n",
      "10/10 [==============================] - 2s 186ms/step - loss: 1.3817e-04 - val_loss: 0.0103\n",
      "Epoch 84/100\n",
      "10/10 [==============================] - 2s 163ms/step - loss: 1.5311e-04 - val_loss: 0.0060\n",
      "Epoch 85/100\n",
      "10/10 [==============================] - 2s 154ms/step - loss: 1.2564e-04 - val_loss: 0.0059\n",
      "Epoch 86/100\n",
      "10/10 [==============================] - 2s 176ms/step - loss: 1.1984e-04 - val_loss: 0.0085\n",
      "Epoch 87/100\n",
      "10/10 [==============================] - 2s 193ms/step - loss: 1.3291e-04 - val_loss: 0.0034\n",
      "Epoch 88/100\n",
      "10/10 [==============================] - 2s 163ms/step - loss: 1.4055e-04 - val_loss: 0.0101\n",
      "Epoch 89/100\n",
      "10/10 [==============================] - 2s 177ms/step - loss: 1.3887e-04 - val_loss: 0.0062\n",
      "Epoch 90/100\n",
      "10/10 [==============================] - 2s 168ms/step - loss: 1.4560e-04 - val_loss: 0.0057\n",
      "Epoch 91/100\n",
      "10/10 [==============================] - 2s 174ms/step - loss: 1.2380e-04 - val_loss: 0.0087\n",
      "Epoch 92/100\n",
      "10/10 [==============================] - 2s 184ms/step - loss: 1.1882e-04 - val_loss: 0.0058\n",
      "Epoch 93/100\n",
      "10/10 [==============================] - 2s 183ms/step - loss: 1.1875e-04 - val_loss: 0.0049\n",
      "Epoch 94/100\n",
      "10/10 [==============================] - 2s 165ms/step - loss: 1.2175e-04 - val_loss: 0.0082\n",
      "Epoch 95/100\n",
      "10/10 [==============================] - 2s 188ms/step - loss: 1.1478e-04 - val_loss: 0.0083\n",
      "Epoch 96/100\n",
      "10/10 [==============================] - 2s 182ms/step - loss: 1.1489e-04 - val_loss: 0.0058\n",
      "Epoch 97/100\n",
      "10/10 [==============================] - 2s 180ms/step - loss: 1.1344e-04 - val_loss: 0.0042\n",
      "Epoch 98/100\n",
      "10/10 [==============================] - 2s 186ms/step - loss: 1.3714e-04 - val_loss: 0.0053\n",
      "Epoch 99/100\n",
      "10/10 [==============================] - 2s 187ms/step - loss: 1.2336e-04 - val_loss: 0.0069\n",
      "Epoch 100/100\n",
      "10/10 [==============================] - 2s 182ms/step - loss: 1.2189e-04 - val_loss: 0.0039\n"
     ]
    }
   ],
   "source": [
    "model.fit(X_train,y_train,validation_data=(X_test,ytest),epochs=100,batch_size=64,verbose=1)\n",
    "import tensorflow as tf"
   ]
  },
  {
   "cell_type": "code",
   "execution_count": 17,
   "metadata": {},
   "outputs": [],
   "source": [
    "import tensorflow as tf"
   ]
  },
  {
   "cell_type": "code",
   "execution_count": 18,
   "metadata": {},
   "outputs": [],
   "source": [
    "train_predict=model.predict(X_train)\n",
    "test_predict=model.predict(X_test)"
   ]
  },
  {
   "cell_type": "code",
   "execution_count": 19,
   "metadata": {},
   "outputs": [],
   "source": [
    "train_predict=scaler.inverse_transform(train_predict)\n",
    "test_predict=scaler.inverse_transform(test_predict)"
   ]
  },
  {
   "cell_type": "code",
   "execution_count": 20,
   "metadata": {},
   "outputs": [
    {
     "data": {
      "text/plain": [
       "56.446956297201524"
      ]
     },
     "execution_count": 20,
     "metadata": {},
     "output_type": "execute_result"
    }
   ],
   "source": [
    "import math\n",
    "from sklearn.metrics import mean_squared_error\n",
    "math.sqrt(mean_squared_error(y_train,train_predict))"
   ]
  },
  {
   "cell_type": "code",
   "execution_count": 21,
   "metadata": {},
   "outputs": [
    {
     "data": {
      "text/plain": [
       "132.97587954608647"
      ]
     },
     "execution_count": 21,
     "metadata": {},
     "output_type": "execute_result"
    }
   ],
   "source": [
    "math.sqrt(mean_squared_error(ytest,test_predict))"
   ]
  },
  {
   "cell_type": "code",
   "execution_count": 22,
   "metadata": {},
   "outputs": [
    {
     "data": {
      "image/png": "[encoded data removed]",
      "text/plain": [
       "<Figure size 432x288 with 1 Axes>"
      ]
     },
     "metadata": {},
     "output_type": "display_data"
    }
   ],
   "source": [
    "look_back=100\n",
    "trainPredictPlot = numpy.empty_like(df1)\n",
    "trainPredictPlot[:, :] = np.nan\n",
    "trainPredictPlot[look_back:len(train_predict)+look_back, :] = train_predict\n",
    "testPredictPlot = numpy.empty_like(df1)\n",
    "testPredictPlot[:, :] = numpy.nan\n",
    "testPredictPlot[len(train_predict)+(look_back*2)+1:len(df1)-1, :] = test_predict\n",
    "plt.plot(scaler.inverse_transform(df1))\n",
    "plt.plot(trainPredictPlot)\n",
    "plt.plot(testPredictPlot)\n",
    "plt.show()"
   ]
  },
  {
   "cell_type": "code",
   "execution_count": 23,
   "metadata": {},
   "outputs": [
    {
     "data": {
      "text/plain": [
       "390"
      ]
     },
     "execution_count": 23,
     "metadata": {},
     "output_type": "execute_result"
    }
   ],
   "source": [
    "len(test_data)"
   ]
  },
  {
   "cell_type": "code",
   "execution_count": 24,
   "metadata": {},
   "outputs": [
    {
     "data": {
      "text/plain": [
       "(1, 100)"
      ]
     },
     "execution_count": 24,
     "metadata": {},
     "output_type": "execute_result"
    }
   ],
   "source": [
    "x_input=test_data[290:].reshape(1,-1)\n",
    "x_input.shape"
   ]
  },
  {
   "cell_type": "code",
   "execution_count": 25,
   "metadata": {},
   "outputs": [],
   "source": [
    "temp_input=list(x_input)\n",
    "temp_input=temp_input[0].tolist()"
   ]
  },
  {
   "cell_type": "code",
   "execution_count": 26,
   "metadata": {},
   "outputs": [
    {
     "name": "stdout",
     "output_type": "stream",
     "text": [
      "[1.0502596]\n",
      "101\n",
      "1 day input [0.75696635 0.77295813 0.77563485 0.78764583 0.79100885 0.78442002\n",
      " 0.76575152 0.76918323 0.78078242 0.7853809  0.7816747  0.77343851\n",
      " 0.77089908 0.80343172 0.79869594 0.81365815 0.81187369 0.81125601\n",
      " 0.82930673 0.82779677 0.82141384 0.81708986 0.78922439 0.78682226\n",
      " 0.77563485 0.77240904 0.77137957 0.74406309 0.74241594 0.7549759\n",
      " 0.75943719 0.76211391 0.75175019 0.74344541 0.74138636 0.74090598\n",
      " 0.73088534 0.72601238 0.72621827 0.72560048 0.73980781 0.73953321\n",
      " 0.7438572  0.73315028 0.72045292 0.73747427 0.74447488 0.75778993\n",
      " 0.7737817  0.7777625  0.77700752 0.78071372 0.77515437 0.7852436\n",
      " 0.7776252  0.80123537 0.77906656 0.77741931 0.79025397 0.79299929\n",
      " 0.79615641 0.79457785 0.79025397 0.78929299 0.78037063 0.77556616\n",
      " 0.78222368 0.79238161 0.78970488 0.81379544 0.83898417 0.85511324\n",
      " 0.88723399 0.8604667  0.86280024 0.85120105 0.85628001 0.88599862\n",
      " 0.91880575 0.87693886 0.88215513 0.9021963  0.92759092 0.95765273\n",
      " 0.96307478 0.98284146 1.         0.9698696  0.98194918 0.99320518\n",
      " 0.94056277 0.9207275  0.93870962 0.95696634 0.96376116 0.98826351\n",
      " 0.99450925 0.98970487 0.98929308 1.05025959]\n",
      "1 day output [[1.0710309]]\n",
      "2 day input [0.77295813 0.77563485 0.78764583 0.79100885 0.78442002 0.76575152\n",
      " 0.76918323 0.78078242 0.7853809  0.7816747  0.77343851 0.77089908\n",
      " 0.80343172 0.79869594 0.81365815 0.81187369 0.81125601 0.82930673\n",
      " 0.82779677 0.82141384 0.81708986 0.78922439 0.78682226 0.77563485\n",
      " 0.77240904 0.77137957 0.74406309 0.74241594 0.7549759  0.75943719\n",
      " 0.76211391 0.75175019 0.74344541 0.74138636 0.74090598 0.73088534\n",
      " 0.72601238 0.72621827 0.72560048 0.73980781 0.73953321 0.7438572\n",
      " 0.73315028 0.72045292 0.73747427 0.74447488 0.75778993 0.7737817\n",
      " 0.7777625  0.77700752 0.78071372 0.77515437 0.7852436  0.7776252\n",
      " 0.80123537 0.77906656 0.77741931 0.79025397 0.79299929 0.79615641\n",
      " 0.79457785 0.79025397 0.78929299 0.78037063 0.77556616 0.78222368\n",
      " 0.79238161 0.78970488 0.81379544 0.83898417 0.85511324 0.88723399\n",
      " 0.8604667  0.86280024 0.85120105 0.85628001 0.88599862 0.91880575\n",
      " 0.87693886 0.88215513 0.9021963  0.92759092 0.95765273 0.96307478\n",
      " 0.98284146 1.         0.9698696  0.98194918 0.99320518 0.94056277\n",
      " 0.9207275  0.93870962 0.95696634 0.96376116 0.98826351 0.99450925\n",
      " 0.98970487 0.98929308 1.05025959 1.07103086]\n",
      "2 day output [[1.0998276]]\n",
      "3 day input [0.77563485 0.78764583 0.79100885 0.78442002 0.76575152 0.76918323\n",
      " 0.78078242 0.7853809  0.7816747  0.77343851 0.77089908 0.80343172\n",
      " 0.79869594 0.81365815 0.81187369 0.81125601 0.82930673 0.82779677\n",
      " 0.82141384 0.81708986 0.78922439 0.78682226 0.77563485 0.77240904\n",
      " 0.77137957 0.74406309 0.74241594 0.7549759  0.75943719 0.76211391\n",
      " 0.75175019 0.74344541 0.74138636 0.74090598 0.73088534 0.72601238\n",
      " 0.72621827 0.72560048 0.73980781 0.73953321 0.7438572  0.73315028\n",
      " 0.72045292 0.73747427 0.74447488 0.75778993 0.7737817  0.7777625\n",
      " 0.77700752 0.78071372 0.77515437 0.7852436  0.7776252  0.80123537\n",
      " 0.77906656 0.77741931 0.79025397 0.79299929 0.79615641 0.79457785\n",
      " 0.79025397 0.78929299 0.78037063 0.77556616 0.78222368 0.79238161\n",
      " 0.78970488 0.81379544 0.83898417 0.85511324 0.88723399 0.8604667\n",
      " 0.86280024 0.85120105 0.85628001 0.88599862 0.91880575 0.87693886\n",
      " 0.88215513 0.9021963  0.92759092 0.95765273 0.96307478 0.98284146\n",
      " 1.         0.9698696  0.98194918 0.99320518 0.94056277 0.9207275\n",
      " 0.93870962 0.95696634 0.96376116 0.98826351 0.99450925 0.98970487\n",
      " 0.98929308 1.05025959 1.07103086 1.09982765]\n",
      "3 day output [[1.1353368]]\n",
      "4 day input [0.78764583 0.79100885 0.78442002 0.76575152 0.76918323 0.78078242\n",
      " 0.7853809  0.7816747  0.77343851 0.77089908 0.80343172 0.79869594\n",
      " 0.81365815 0.81187369 0.81125601 0.82930673 0.82779677 0.82141384\n",
      " 0.81708986 0.78922439 0.78682226 0.77563485 0.77240904 0.77137957\n",
      " 0.74406309 0.74241594 0.7549759  0.75943719 0.76211391 0.75175019\n",
      " 0.74344541 0.74138636 0.74090598 0.73088534 0.72601238 0.72621827\n",
      " 0.72560048 0.73980781 0.73953321 0.7438572  0.73315028 0.72045292\n",
      " 0.73747427 0.74447488 0.75778993 0.7737817  0.7777625  0.77700752\n",
      " 0.78071372 0.77515437 0.7852436  0.7776252  0.80123537 0.77906656\n",
      " 0.77741931 0.79025397 0.79299929 0.79615641 0.79457785 0.79025397\n",
      " 0.78929299 0.78037063 0.77556616 0.78222368 0.79238161 0.78970488\n",
      " 0.81379544 0.83898417 0.85511324 0.88723399 0.8604667  0.86280024\n",
      " 0.85120105 0.85628001 0.88599862 0.91880575 0.87693886 0.88215513\n",
      " 0.9021963  0.92759092 0.95765273 0.96307478 0.98284146 1.\n",
      " 0.9698696  0.98194918 0.99320518 0.94056277 0.9207275  0.93870962\n",
      " 0.95696634 0.96376116 0.98826351 0.99450925 0.98970487 0.98929308\n",
      " 1.05025959 1.07103086 1.09982765 1.13533676]\n",
      "4 day output [[1.1769526]]\n",
      "5 day input [0.79100885 0.78442002 0.76575152 0.76918323 0.78078242 0.7853809\n",
      " 0.7816747  0.77343851 0.77089908 0.80343172 0.79869594 0.81365815\n",
      " 0.81187369 0.81125601 0.82930673 0.82779677 0.82141384 0.81708986\n",
      " 0.78922439 0.78682226 0.77563485 0.77240904 0.77137957 0.74406309\n",
      " 0.74241594 0.7549759  0.75943719 0.76211391 0.75175019 0.74344541\n",
      " 0.74138636 0.74090598 0.73088534 0.72601238 0.72621827 0.72560048\n",
      " 0.73980781 0.73953321 0.7438572  0.73315028 0.72045292 0.73747427\n",
      " 0.74447488 0.75778993 0.7737817  0.7777625  0.77700752 0.78071372\n",
      " 0.77515437 0.7852436  0.7776252  0.80123537 0.77906656 0.77741931\n",
      " 0.79025397 0.79299929 0.79615641 0.79457785 0.79025397 0.78929299\n",
      " 0.78037063 0.77556616 0.78222368 0.79238161 0.78970488 0.81379544\n",
      " 0.83898417 0.85511324 0.88723399 0.8604667  0.86280024 0.85120105\n",
      " 0.85628001 0.88599862 0.91880575 0.87693886 0.88215513 0.9021963\n",
      " 0.92759092 0.95765273 0.96307478 0.98284146 1.         0.9698696\n",
      " 0.98194918 0.99320518 0.94056277 0.9207275  0.93870962 0.95696634\n",
      " 0.96376116 0.98826351 0.99450925 0.98970487 0.98929308 1.05025959\n",
      " 1.07103086 1.09982765 1.13533676 1.1769526 ]\n",
      "5 day output [[1.2246777]]\n",
      "6 day input [0.78442002 0.76575152 0.76918323 0.78078242 0.7853809  0.7816747\n",
      " 0.77343851 0.77089908 0.80343172 0.79869594 0.81365815 0.81187369\n",
      " 0.81125601 0.82930673 0.82779677 0.82141384 0.81708986 0.78922439\n",
      " 0.78682226 0.77563485 0.77240904 0.77137957 0.74406309 0.74241594\n",
      " 0.7549759  0.75943719 0.76211391 0.75175019 0.74344541 0.74138636\n",
      " 0.74090598 0.73088534 0.72601238 0.72621827 0.72560048 0.73980781\n",
      " 0.73953321 0.7438572  0.73315028 0.72045292 0.73747427 0.74447488\n",
      " 0.75778993 0.7737817  0.7777625  0.77700752 0.78071372 0.77515437\n",
      " 0.7852436  0.7776252  0.80123537 0.77906656 0.77741931 0.79025397\n",
      " 0.79299929 0.79615641 0.79457785 0.79025397 0.78929299 0.78037063\n",
      " 0.77556616 0.78222368 0.79238161 0.78970488 0.81379544 0.83898417\n",
      " 0.85511324 0.88723399 0.8604667  0.86280024 0.85120105 0.85628001\n",
      " 0.88599862 0.91880575 0.87693886 0.88215513 0.9021963  0.92759092\n",
      " 0.95765273 0.96307478 0.98284146 1.         0.9698696  0.98194918\n",
      " 0.99320518 0.94056277 0.9207275  0.93870962 0.95696634 0.96376116\n",
      " 0.98826351 0.99450925 0.98970487 0.98929308 1.05025959 1.07103086\n",
      " 1.09982765 1.13533676 1.1769526  1.22467768]\n",
      "6 day output [[1.2788209]]\n",
      "7 day input [0.76575152 0.76918323 0.78078242 0.7853809  0.7816747  0.77343851\n",
      " 0.77089908 0.80343172 0.79869594 0.81365815 0.81187369 0.81125601\n",
      " 0.82930673 0.82779677 0.82141384 0.81708986 0.78922439 0.78682226\n",
      " 0.77563485 0.77240904 0.77137957 0.74406309 0.74241594 0.7549759\n",
      " 0.75943719 0.76211391 0.75175019 0.74344541 0.74138636 0.74090598\n",
      " 0.73088534 0.72601238 0.72621827 0.72560048 0.73980781 0.73953321\n",
      " 0.7438572  0.73315028 0.72045292 0.73747427 0.74447488 0.75778993\n",
      " 0.7737817  0.7777625  0.77700752 0.78071372 0.77515437 0.7852436\n",
      " 0.7776252  0.80123537 0.77906656 0.77741931 0.79025397 0.79299929\n",
      " 0.79615641 0.79457785 0.79025397 0.78929299 0.78037063 0.77556616\n",
      " 0.78222368 0.79238161 0.78970488 0.81379544 0.83898417 0.85511324\n",
      " 0.88723399 0.8604667  0.86280024 0.85120105 0.85628001 0.88599862\n",
      " 0.91880575 0.87693886 0.88215513 0.9021963  0.92759092 0.95765273\n",
      " 0.96307478 0.98284146 1.         0.9698696  0.98194918 0.99320518\n",
      " 0.94056277 0.9207275  0.93870962 0.95696634 0.96376116 0.98826351\n",
      " 0.99450925 0.98970487 0.98929308 1.05025959 1.07103086 1.09982765\n",
      " 1.13533676 1.1769526  1.22467768 1.27882087]\n",
      "7 day output [[1.3397688]]\n",
      "8 day input [0.76918323 0.78078242 0.7853809  0.7816747  0.77343851 0.77089908\n",
      " 0.80343172 0.79869594 0.81365815 0.81187369 0.81125601 0.82930673\n",
      " 0.82779677 0.82141384 0.81708986 0.78922439 0.78682226 0.77563485\n",
      " 0.77240904 0.77137957 0.74406309 0.74241594 0.7549759  0.75943719\n",
      " 0.76211391 0.75175019 0.74344541 0.74138636 0.74090598 0.73088534\n",
      " 0.72601238 0.72621827 0.72560048 0.73980781 0.73953321 0.7438572\n",
      " 0.73315028 0.72045292 0.73747427 0.74447488 0.75778993 0.7737817\n",
      " 0.7777625  0.77700752 0.78071372 0.77515437 0.7852436  0.7776252\n",
      " 0.80123537 0.77906656 0.77741931 0.79025397 0.79299929 0.79615641\n",
      " 0.79457785 0.79025397 0.78929299 0.78037063 0.77556616 0.78222368\n",
      " 0.79238161 0.78970488 0.81379544 0.83898417 0.85511324 0.88723399\n",
      " 0.8604667  0.86280024 0.85120105 0.85628001 0.88599862 0.91880575\n",
      " 0.87693886 0.88215513 0.9021963  0.92759092 0.95765273 0.96307478\n",
      " 0.98284146 1.         0.9698696  0.98194918 0.99320518 0.94056277\n",
      " 0.9207275  0.93870962 0.95696634 0.96376116 0.98826351 0.99450925\n",
      " 0.98970487 0.98929308 1.05025959 1.07103086 1.09982765 1.13533676\n",
      " 1.1769526  1.22467768 1.27882087 1.33976877]\n",
      "8 day output [[1.4078358]]\n",
      "9 day input [0.78078242 0.7853809  0.7816747  0.77343851 0.77089908 0.80343172\n",
      " 0.79869594 0.81365815 0.81187369 0.81125601 0.82930673 0.82779677\n",
      " 0.82141384 0.81708986 0.78922439 0.78682226 0.77563485 0.77240904\n",
      " 0.77137957 0.74406309 0.74241594 0.7549759  0.75943719 0.76211391\n",
      " 0.75175019 0.74344541 0.74138636 0.74090598 0.73088534 0.72601238\n",
      " 0.72621827 0.72560048 0.73980781 0.73953321 0.7438572  0.73315028\n",
      " 0.72045292 0.73747427 0.74447488 0.75778993 0.7737817  0.7777625\n",
      " 0.77700752 0.78071372 0.77515437 0.7852436  0.7776252  0.80123537\n",
      " 0.77906656 0.77741931 0.79025397 0.79299929 0.79615641 0.79457785\n",
      " 0.79025397 0.78929299 0.78037063 0.77556616 0.78222368 0.79238161\n",
      " 0.78970488 0.81379544 0.83898417 0.85511324 0.88723399 0.8604667\n",
      " 0.86280024 0.85120105 0.85628001 0.88599862 0.91880575 0.87693886\n",
      " 0.88215513 0.9021963  0.92759092 0.95765273 0.96307478 0.98284146\n",
      " 1.         0.9698696  0.98194918 0.99320518 0.94056277 0.9207275\n",
      " 0.93870962 0.95696634 0.96376116 0.98826351 0.99450925 0.98970487\n",
      " 0.98929308 1.05025959 1.07103086 1.09982765 1.13533676 1.1769526\n",
      " 1.22467768 1.27882087 1.33976877 1.40783584]\n"
     ]
    },
    {
     "name": "stdout",
     "output_type": "stream",
     "text": [
      "9 day output [[1.4831631]]\n",
      "10 day input [0.7853809  0.7816747  0.77343851 0.77089908 0.80343172 0.79869594\n",
      " 0.81365815 0.81187369 0.81125601 0.82930673 0.82779677 0.82141384\n",
      " 0.81708986 0.78922439 0.78682226 0.77563485 0.77240904 0.77137957\n",
      " 0.74406309 0.74241594 0.7549759  0.75943719 0.76211391 0.75175019\n",
      " 0.74344541 0.74138636 0.74090598 0.73088534 0.72601238 0.72621827\n",
      " 0.72560048 0.73980781 0.73953321 0.7438572  0.73315028 0.72045292\n",
      " 0.73747427 0.74447488 0.75778993 0.7737817  0.7777625  0.77700752\n",
      " 0.78071372 0.77515437 0.7852436  0.7776252  0.80123537 0.77906656\n",
      " 0.77741931 0.79025397 0.79299929 0.79615641 0.79457785 0.79025397\n",
      " 0.78929299 0.78037063 0.77556616 0.78222368 0.79238161 0.78970488\n",
      " 0.81379544 0.83898417 0.85511324 0.88723399 0.8604667  0.86280024\n",
      " 0.85120105 0.85628001 0.88599862 0.91880575 0.87693886 0.88215513\n",
      " 0.9021963  0.92759092 0.95765273 0.96307478 0.98284146 1.\n",
      " 0.9698696  0.98194918 0.99320518 0.94056277 0.9207275  0.93870962\n",
      " 0.95696634 0.96376116 0.98826351 0.99450925 0.98970487 0.98929308\n",
      " 1.05025959 1.07103086 1.09982765 1.13533676 1.1769526  1.22467768\n",
      " 1.27882087 1.33976877 1.40783584 1.48316312]\n",
      "10 day output [[1.5656356]]\n",
      "11 day input [0.7816747  0.77343851 0.77089908 0.80343172 0.79869594 0.81365815\n",
      " 0.81187369 0.81125601 0.82930673 0.82779677 0.82141384 0.81708986\n",
      " 0.78922439 0.78682226 0.77563485 0.77240904 0.77137957 0.74406309\n",
      " 0.74241594 0.7549759  0.75943719 0.76211391 0.75175019 0.74344541\n",
      " 0.74138636 0.74090598 0.73088534 0.72601238 0.72621827 0.72560048\n",
      " 0.73980781 0.73953321 0.7438572  0.73315028 0.72045292 0.73747427\n",
      " 0.74447488 0.75778993 0.7737817  0.7777625  0.77700752 0.78071372\n",
      " 0.77515437 0.7852436  0.7776252  0.80123537 0.77906656 0.77741931\n",
      " 0.79025397 0.79299929 0.79615641 0.79457785 0.79025397 0.78929299\n",
      " 0.78037063 0.77556616 0.78222368 0.79238161 0.78970488 0.81379544\n",
      " 0.83898417 0.85511324 0.88723399 0.8604667  0.86280024 0.85120105\n",
      " 0.85628001 0.88599862 0.91880575 0.87693886 0.88215513 0.9021963\n",
      " 0.92759092 0.95765273 0.96307478 0.98284146 1.         0.9698696\n",
      " 0.98194918 0.99320518 0.94056277 0.9207275  0.93870962 0.95696634\n",
      " 0.96376116 0.98826351 0.99450925 0.98970487 0.98929308 1.05025959\n",
      " 1.07103086 1.09982765 1.13533676 1.1769526  1.22467768 1.27882087\n",
      " 1.33976877 1.40783584 1.48316312 1.56563556]\n",
      "11 day output [[1.6548096]]\n",
      "12 day input [0.77343851 0.77089908 0.80343172 0.79869594 0.81365815 0.81187369\n",
      " 0.81125601 0.82930673 0.82779677 0.82141384 0.81708986 0.78922439\n",
      " 0.78682226 0.77563485 0.77240904 0.77137957 0.74406309 0.74241594\n",
      " 0.7549759  0.75943719 0.76211391 0.75175019 0.74344541 0.74138636\n",
      " 0.74090598 0.73088534 0.72601238 0.72621827 0.72560048 0.73980781\n",
      " 0.73953321 0.7438572  0.73315028 0.72045292 0.73747427 0.74447488\n",
      " 0.75778993 0.7737817  0.7777625  0.77700752 0.78071372 0.77515437\n",
      " 0.7852436  0.7776252  0.80123537 0.77906656 0.77741931 0.79025397\n",
      " 0.79299929 0.79615641 0.79457785 0.79025397 0.78929299 0.78037063\n",
      " 0.77556616 0.78222368 0.79238161 0.78970488 0.81379544 0.83898417\n",
      " 0.85511324 0.88723399 0.8604667  0.86280024 0.85120105 0.85628001\n",
      " 0.88599862 0.91880575 0.87693886 0.88215513 0.9021963  0.92759092\n",
      " 0.95765273 0.96307478 0.98284146 1.         0.9698696  0.98194918\n",
      " 0.99320518 0.94056277 0.9207275  0.93870962 0.95696634 0.96376116\n",
      " 0.98826351 0.99450925 0.98970487 0.98929308 1.05025959 1.07103086\n",
      " 1.09982765 1.13533676 1.1769526  1.22467768 1.27882087 1.33976877\n",
      " 1.40783584 1.48316312 1.56563556 1.65480959]\n",
      "12 day output [[1.7498579]]\n",
      "13 day input [0.77089908 0.80343172 0.79869594 0.81365815 0.81187369 0.81125601\n",
      " 0.82930673 0.82779677 0.82141384 0.81708986 0.78922439 0.78682226\n",
      " 0.77563485 0.77240904 0.77137957 0.74406309 0.74241594 0.7549759\n",
      " 0.75943719 0.76211391 0.75175019 0.74344541 0.74138636 0.74090598\n",
      " 0.73088534 0.72601238 0.72621827 0.72560048 0.73980781 0.73953321\n",
      " 0.7438572  0.73315028 0.72045292 0.73747427 0.74447488 0.75778993\n",
      " 0.7737817  0.7777625  0.77700752 0.78071372 0.77515437 0.7852436\n",
      " 0.7776252  0.80123537 0.77906656 0.77741931 0.79025397 0.79299929\n",
      " 0.79615641 0.79457785 0.79025397 0.78929299 0.78037063 0.77556616\n",
      " 0.78222368 0.79238161 0.78970488 0.81379544 0.83898417 0.85511324\n",
      " 0.88723399 0.8604667  0.86280024 0.85120105 0.85628001 0.88599862\n",
      " 0.91880575 0.87693886 0.88215513 0.9021963  0.92759092 0.95765273\n",
      " 0.96307478 0.98284146 1.         0.9698696  0.98194918 0.99320518\n",
      " 0.94056277 0.9207275  0.93870962 0.95696634 0.96376116 0.98826351\n",
      " 0.99450925 0.98970487 0.98929308 1.05025959 1.07103086 1.09982765\n",
      " 1.13533676 1.1769526  1.22467768 1.27882087 1.33976877 1.40783584\n",
      " 1.48316312 1.56563556 1.65480959 1.7498579 ]\n",
      "13 day output [[1.8495452]]\n",
      "14 day input [0.80343172 0.79869594 0.81365815 0.81187369 0.81125601 0.82930673\n",
      " 0.82779677 0.82141384 0.81708986 0.78922439 0.78682226 0.77563485\n",
      " 0.77240904 0.77137957 0.74406309 0.74241594 0.7549759  0.75943719\n",
      " 0.76211391 0.75175019 0.74344541 0.74138636 0.74090598 0.73088534\n",
      " 0.72601238 0.72621827 0.72560048 0.73980781 0.73953321 0.7438572\n",
      " 0.73315028 0.72045292 0.73747427 0.74447488 0.75778993 0.7737817\n",
      " 0.7777625  0.77700752 0.78071372 0.77515437 0.7852436  0.7776252\n",
      " 0.80123537 0.77906656 0.77741931 0.79025397 0.79299929 0.79615641\n",
      " 0.79457785 0.79025397 0.78929299 0.78037063 0.77556616 0.78222368\n",
      " 0.79238161 0.78970488 0.81379544 0.83898417 0.85511324 0.88723399\n",
      " 0.8604667  0.86280024 0.85120105 0.85628001 0.88599862 0.91880575\n",
      " 0.87693886 0.88215513 0.9021963  0.92759092 0.95765273 0.96307478\n",
      " 0.98284146 1.         0.9698696  0.98194918 0.99320518 0.94056277\n",
      " 0.9207275  0.93870962 0.95696634 0.96376116 0.98826351 0.99450925\n",
      " 0.98970487 0.98929308 1.05025959 1.07103086 1.09982765 1.13533676\n",
      " 1.1769526  1.22467768 1.27882087 1.33976877 1.40783584 1.48316312\n",
      " 1.56563556 1.65480959 1.7498579  1.84954524]\n",
      "14 day output [[1.9522569]]\n",
      "15 day input [0.79869594 0.81365815 0.81187369 0.81125601 0.82930673 0.82779677\n",
      " 0.82141384 0.81708986 0.78922439 0.78682226 0.77563485 0.77240904\n",
      " 0.77137957 0.74406309 0.74241594 0.7549759  0.75943719 0.76211391\n",
      " 0.75175019 0.74344541 0.74138636 0.74090598 0.73088534 0.72601238\n",
      " 0.72621827 0.72560048 0.73980781 0.73953321 0.7438572  0.73315028\n",
      " 0.72045292 0.73747427 0.74447488 0.75778993 0.7737817  0.7777625\n",
      " 0.77700752 0.78071372 0.77515437 0.7852436  0.7776252  0.80123537\n",
      " 0.77906656 0.77741931 0.79025397 0.79299929 0.79615641 0.79457785\n",
      " 0.79025397 0.78929299 0.78037063 0.77556616 0.78222368 0.79238161\n",
      " 0.78970488 0.81379544 0.83898417 0.85511324 0.88723399 0.8604667\n",
      " 0.86280024 0.85120105 0.85628001 0.88599862 0.91880575 0.87693886\n",
      " 0.88215513 0.9021963  0.92759092 0.95765273 0.96307478 0.98284146\n",
      " 1.         0.9698696  0.98194918 0.99320518 0.94056277 0.9207275\n",
      " 0.93870962 0.95696634 0.96376116 0.98826351 0.99450925 0.98970487\n",
      " 0.98929308 1.05025959 1.07103086 1.09982765 1.13533676 1.1769526\n",
      " 1.22467768 1.27882087 1.33976877 1.40783584 1.48316312 1.56563556\n",
      " 1.65480959 1.7498579  1.84954524 1.95225692]\n",
      "15 day output [[2.0560868]]\n",
      "16 day input [0.81365815 0.81187369 0.81125601 0.82930673 0.82779677 0.82141384\n",
      " 0.81708986 0.78922439 0.78682226 0.77563485 0.77240904 0.77137957\n",
      " 0.74406309 0.74241594 0.7549759  0.75943719 0.76211391 0.75175019\n",
      " 0.74344541 0.74138636 0.74090598 0.73088534 0.72601238 0.72621827\n",
      " 0.72560048 0.73980781 0.73953321 0.7438572  0.73315028 0.72045292\n",
      " 0.73747427 0.74447488 0.75778993 0.7737817  0.7777625  0.77700752\n",
      " 0.78071372 0.77515437 0.7852436  0.7776252  0.80123537 0.77906656\n",
      " 0.77741931 0.79025397 0.79299929 0.79615641 0.79457785 0.79025397\n",
      " 0.78929299 0.78037063 0.77556616 0.78222368 0.79238161 0.78970488\n",
      " 0.81379544 0.83898417 0.85511324 0.88723399 0.8604667  0.86280024\n",
      " 0.85120105 0.85628001 0.88599862 0.91880575 0.87693886 0.88215513\n",
      " 0.9021963  0.92759092 0.95765273 0.96307478 0.98284146 1.\n",
      " 0.9698696  0.98194918 0.99320518 0.94056277 0.9207275  0.93870962\n",
      " 0.95696634 0.96376116 0.98826351 0.99450925 0.98970487 0.98929308\n",
      " 1.05025959 1.07103086 1.09982765 1.13533676 1.1769526  1.22467768\n",
      " 1.27882087 1.33976877 1.40783584 1.48316312 1.56563556 1.65480959\n",
      " 1.7498579  1.84954524 1.95225692 2.05608678]\n",
      "16 day output [[2.158987]]\n",
      "17 day input [0.81187369 0.81125601 0.82930673 0.82779677 0.82141384 0.81708986\n",
      " 0.78922439 0.78682226 0.77563485 0.77240904 0.77137957 0.74406309\n",
      " 0.74241594 0.7549759  0.75943719 0.76211391 0.75175019 0.74344541\n",
      " 0.74138636 0.74090598 0.73088534 0.72601238 0.72621827 0.72560048\n",
      " 0.73980781 0.73953321 0.7438572  0.73315028 0.72045292 0.73747427\n",
      " 0.74447488 0.75778993 0.7737817  0.7777625  0.77700752 0.78071372\n",
      " 0.77515437 0.7852436  0.7776252  0.80123537 0.77906656 0.77741931\n",
      " 0.79025397 0.79299929 0.79615641 0.79457785 0.79025397 0.78929299\n",
      " 0.78037063 0.77556616 0.78222368 0.79238161 0.78970488 0.81379544\n",
      " 0.83898417 0.85511324 0.88723399 0.8604667  0.86280024 0.85120105\n",
      " 0.85628001 0.88599862 0.91880575 0.87693886 0.88215513 0.9021963\n",
      " 0.92759092 0.95765273 0.96307478 0.98284146 1.         0.9698696\n",
      " 0.98194918 0.99320518 0.94056277 0.9207275  0.93870962 0.95696634\n",
      " 0.96376116 0.98826351 0.99450925 0.98970487 0.98929308 1.05025959\n",
      " 1.07103086 1.09982765 1.13533676 1.1769526  1.22467768 1.27882087\n",
      " 1.33976877 1.40783584 1.48316312 1.56563556 1.65480959 1.7498579\n",
      " 1.84954524 1.95225692 2.05608678 2.15898705]\n",
      "17 day output [[2.2589486]]\n",
      "18 day input [0.81125601 0.82930673 0.82779677 0.82141384 0.81708986 0.78922439\n",
      " 0.78682226 0.77563485 0.77240904 0.77137957 0.74406309 0.74241594\n",
      " 0.7549759  0.75943719 0.76211391 0.75175019 0.74344541 0.74138636\n",
      " 0.74090598 0.73088534 0.72601238 0.72621827 0.72560048 0.73980781\n",
      " 0.73953321 0.7438572  0.73315028 0.72045292 0.73747427 0.74447488\n",
      " 0.75778993 0.7737817  0.7777625  0.77700752 0.78071372 0.77515437\n",
      " 0.7852436  0.7776252  0.80123537 0.77906656 0.77741931 0.79025397\n",
      " 0.79299929 0.79615641 0.79457785 0.79025397 0.78929299 0.78037063\n",
      " 0.77556616 0.78222368 0.79238161 0.78970488 0.81379544 0.83898417\n",
      " 0.85511324 0.88723399 0.8604667  0.86280024 0.85120105 0.85628001\n",
      " 0.88599862 0.91880575 0.87693886 0.88215513 0.9021963  0.92759092\n",
      " 0.95765273 0.96307478 0.98284146 1.         0.9698696  0.98194918\n",
      " 0.99320518 0.94056277 0.9207275  0.93870962 0.95696634 0.96376116\n",
      " 0.98826351 0.99450925 0.98970487 0.98929308 1.05025959 1.07103086\n",
      " 1.09982765 1.13533676 1.1769526  1.22467768 1.27882087 1.33976877\n",
      " 1.40783584 1.48316312 1.56563556 1.65480959 1.7498579  1.84954524\n",
      " 1.95225692 2.05608678 2.15898705 2.25894856]\n",
      "18 day output [[2.3541818]]\n",
      "19 day input [0.82930673 0.82779677 0.82141384 0.81708986 0.78922439 0.78682226\n",
      " 0.77563485 0.77240904 0.77137957 0.74406309 0.74241594 0.7549759\n",
      " 0.75943719 0.76211391 0.75175019 0.74344541 0.74138636 0.74090598\n",
      " 0.73088534 0.72601238 0.72621827 0.72560048 0.73980781 0.73953321\n",
      " 0.7438572  0.73315028 0.72045292 0.73747427 0.74447488 0.75778993\n",
      " 0.7737817  0.7777625  0.77700752 0.78071372 0.77515437 0.7852436\n",
      " 0.7776252  0.80123537 0.77906656 0.77741931 0.79025397 0.79299929\n",
      " 0.79615641 0.79457785 0.79025397 0.78929299 0.78037063 0.77556616\n",
      " 0.78222368 0.79238161 0.78970488 0.81379544 0.83898417 0.85511324\n",
      " 0.88723399 0.8604667  0.86280024 0.85120105 0.85628001 0.88599862\n",
      " 0.91880575 0.87693886 0.88215513 0.9021963  0.92759092 0.95765273\n",
      " 0.96307478 0.98284146 1.         0.9698696  0.98194918 0.99320518\n",
      " 0.94056277 0.9207275  0.93870962 0.95696634 0.96376116 0.98826351\n",
      " 0.99450925 0.98970487 0.98929308 1.05025959 1.07103086 1.09982765\n",
      " 1.13533676 1.1769526  1.22467768 1.27882087 1.33976877 1.40783584\n",
      " 1.48316312 1.56563556 1.65480959 1.7498579  1.84954524 1.95225692\n",
      " 2.05608678 2.15898705 2.25894856 2.35418177]\n"
     ]
    },
    {
     "name": "stdout",
     "output_type": "stream",
     "text": [
      "19 day output [[2.4432566]]\n",
      "20 day input [0.82779677 0.82141384 0.81708986 0.78922439 0.78682226 0.77563485\n",
      " 0.77240904 0.77137957 0.74406309 0.74241594 0.7549759  0.75943719\n",
      " 0.76211391 0.75175019 0.74344541 0.74138636 0.74090598 0.73088534\n",
      " 0.72601238 0.72621827 0.72560048 0.73980781 0.73953321 0.7438572\n",
      " 0.73315028 0.72045292 0.73747427 0.74447488 0.75778993 0.7737817\n",
      " 0.7777625  0.77700752 0.78071372 0.77515437 0.7852436  0.7776252\n",
      " 0.80123537 0.77906656 0.77741931 0.79025397 0.79299929 0.79615641\n",
      " 0.79457785 0.79025397 0.78929299 0.78037063 0.77556616 0.78222368\n",
      " 0.79238161 0.78970488 0.81379544 0.83898417 0.85511324 0.88723399\n",
      " 0.8604667  0.86280024 0.85120105 0.85628001 0.88599862 0.91880575\n",
      " 0.87693886 0.88215513 0.9021963  0.92759092 0.95765273 0.96307478\n",
      " 0.98284146 1.         0.9698696  0.98194918 0.99320518 0.94056277\n",
      " 0.9207275  0.93870962 0.95696634 0.96376116 0.98826351 0.99450925\n",
      " 0.98970487 0.98929308 1.05025959 1.07103086 1.09982765 1.13533676\n",
      " 1.1769526  1.22467768 1.27882087 1.33976877 1.40783584 1.48316312\n",
      " 1.56563556 1.65480959 1.7498579  1.84954524 1.95225692 2.05608678\n",
      " 2.15898705 2.25894856 2.35418177 2.44325662]\n",
      "20 day output [[2.5251822]]\n",
      "21 day input [0.82141384 0.81708986 0.78922439 0.78682226 0.77563485 0.77240904\n",
      " 0.77137957 0.74406309 0.74241594 0.7549759  0.75943719 0.76211391\n",
      " 0.75175019 0.74344541 0.74138636 0.74090598 0.73088534 0.72601238\n",
      " 0.72621827 0.72560048 0.73980781 0.73953321 0.7438572  0.73315028\n",
      " 0.72045292 0.73747427 0.74447488 0.75778993 0.7737817  0.7777625\n",
      " 0.77700752 0.78071372 0.77515437 0.7852436  0.7776252  0.80123537\n",
      " 0.77906656 0.77741931 0.79025397 0.79299929 0.79615641 0.79457785\n",
      " 0.79025397 0.78929299 0.78037063 0.77556616 0.78222368 0.79238161\n",
      " 0.78970488 0.81379544 0.83898417 0.85511324 0.88723399 0.8604667\n",
      " 0.86280024 0.85120105 0.85628001 0.88599862 0.91880575 0.87693886\n",
      " 0.88215513 0.9021963  0.92759092 0.95765273 0.96307478 0.98284146\n",
      " 1.         0.9698696  0.98194918 0.99320518 0.94056277 0.9207275\n",
      " 0.93870962 0.95696634 0.96376116 0.98826351 0.99450925 0.98970487\n",
      " 0.98929308 1.05025959 1.07103086 1.09982765 1.13533676 1.1769526\n",
      " 1.22467768 1.27882087 1.33976877 1.40783584 1.48316312 1.56563556\n",
      " 1.65480959 1.7498579  1.84954524 1.95225692 2.05608678 2.15898705\n",
      " 2.25894856 2.35418177 2.44325662 2.52518225]\n",
      "21 day output [[2.5994122]]\n",
      "22 day input [0.81708986 0.78922439 0.78682226 0.77563485 0.77240904 0.77137957\n",
      " 0.74406309 0.74241594 0.7549759  0.75943719 0.76211391 0.75175019\n",
      " 0.74344541 0.74138636 0.74090598 0.73088534 0.72601238 0.72621827\n",
      " 0.72560048 0.73980781 0.73953321 0.7438572  0.73315028 0.72045292\n",
      " 0.73747427 0.74447488 0.75778993 0.7737817  0.7777625  0.77700752\n",
      " 0.78071372 0.77515437 0.7852436  0.7776252  0.80123537 0.77906656\n",
      " 0.77741931 0.79025397 0.79299929 0.79615641 0.79457785 0.79025397\n",
      " 0.78929299 0.78037063 0.77556616 0.78222368 0.79238161 0.78970488\n",
      " 0.81379544 0.83898417 0.85511324 0.88723399 0.8604667  0.86280024\n",
      " 0.85120105 0.85628001 0.88599862 0.91880575 0.87693886 0.88215513\n",
      " 0.9021963  0.92759092 0.95765273 0.96307478 0.98284146 1.\n",
      " 0.9698696  0.98194918 0.99320518 0.94056277 0.9207275  0.93870962\n",
      " 0.95696634 0.96376116 0.98826351 0.99450925 0.98970487 0.98929308\n",
      " 1.05025959 1.07103086 1.09982765 1.13533676 1.1769526  1.22467768\n",
      " 1.27882087 1.33976877 1.40783584 1.48316312 1.56563556 1.65480959\n",
      " 1.7498579  1.84954524 1.95225692 2.05608678 2.15898705 2.25894856\n",
      " 2.35418177 2.44325662 2.52518225 2.5994122 ]\n",
      "22 day output [[2.6657987]]\n",
      "23 day input [0.78922439 0.78682226 0.77563485 0.77240904 0.77137957 0.74406309\n",
      " 0.74241594 0.7549759  0.75943719 0.76211391 0.75175019 0.74344541\n",
      " 0.74138636 0.74090598 0.73088534 0.72601238 0.72621827 0.72560048\n",
      " 0.73980781 0.73953321 0.7438572  0.73315028 0.72045292 0.73747427\n",
      " 0.74447488 0.75778993 0.7737817  0.7777625  0.77700752 0.78071372\n",
      " 0.77515437 0.7852436  0.7776252  0.80123537 0.77906656 0.77741931\n",
      " 0.79025397 0.79299929 0.79615641 0.79457785 0.79025397 0.78929299\n",
      " 0.78037063 0.77556616 0.78222368 0.79238161 0.78970488 0.81379544\n",
      " 0.83898417 0.85511324 0.88723399 0.8604667  0.86280024 0.85120105\n",
      " 0.85628001 0.88599862 0.91880575 0.87693886 0.88215513 0.9021963\n",
      " 0.92759092 0.95765273 0.96307478 0.98284146 1.         0.9698696\n",
      " 0.98194918 0.99320518 0.94056277 0.9207275  0.93870962 0.95696634\n",
      " 0.96376116 0.98826351 0.99450925 0.98970487 0.98929308 1.05025959\n",
      " 1.07103086 1.09982765 1.13533676 1.1769526  1.22467768 1.27882087\n",
      " 1.33976877 1.40783584 1.48316312 1.56563556 1.65480959 1.7498579\n",
      " 1.84954524 1.95225692 2.05608678 2.15898705 2.25894856 2.35418177\n",
      " 2.44325662 2.52518225 2.5994122  2.66579866]\n",
      "23 day output [[2.7245183]]\n",
      "24 day input [0.78682226 0.77563485 0.77240904 0.77137957 0.74406309 0.74241594\n",
      " 0.7549759  0.75943719 0.76211391 0.75175019 0.74344541 0.74138636\n",
      " 0.74090598 0.73088534 0.72601238 0.72621827 0.72560048 0.73980781\n",
      " 0.73953321 0.7438572  0.73315028 0.72045292 0.73747427 0.74447488\n",
      " 0.75778993 0.7737817  0.7777625  0.77700752 0.78071372 0.77515437\n",
      " 0.7852436  0.7776252  0.80123537 0.77906656 0.77741931 0.79025397\n",
      " 0.79299929 0.79615641 0.79457785 0.79025397 0.78929299 0.78037063\n",
      " 0.77556616 0.78222368 0.79238161 0.78970488 0.81379544 0.83898417\n",
      " 0.85511324 0.88723399 0.8604667  0.86280024 0.85120105 0.85628001\n",
      " 0.88599862 0.91880575 0.87693886 0.88215513 0.9021963  0.92759092\n",
      " 0.95765273 0.96307478 0.98284146 1.         0.9698696  0.98194918\n",
      " 0.99320518 0.94056277 0.9207275  0.93870962 0.95696634 0.96376116\n",
      " 0.98826351 0.99450925 0.98970487 0.98929308 1.05025959 1.07103086\n",
      " 1.09982765 1.13533676 1.1769526  1.22467768 1.27882087 1.33976877\n",
      " 1.40783584 1.48316312 1.56563556 1.65480959 1.7498579  1.84954524\n",
      " 1.95225692 2.05608678 2.15898705 2.25894856 2.35418177 2.44325662\n",
      " 2.52518225 2.5994122  2.66579866 2.7245183 ]\n",
      "24 day output [[2.7759755]]\n",
      "25 day input [0.77563485 0.77240904 0.77137957 0.74406309 0.74241594 0.7549759\n",
      " 0.75943719 0.76211391 0.75175019 0.74344541 0.74138636 0.74090598\n",
      " 0.73088534 0.72601238 0.72621827 0.72560048 0.73980781 0.73953321\n",
      " 0.7438572  0.73315028 0.72045292 0.73747427 0.74447488 0.75778993\n",
      " 0.7737817  0.7777625  0.77700752 0.78071372 0.77515437 0.7852436\n",
      " 0.7776252  0.80123537 0.77906656 0.77741931 0.79025397 0.79299929\n",
      " 0.79615641 0.79457785 0.79025397 0.78929299 0.78037063 0.77556616\n",
      " 0.78222368 0.79238161 0.78970488 0.81379544 0.83898417 0.85511324\n",
      " 0.88723399 0.8604667  0.86280024 0.85120105 0.85628001 0.88599862\n",
      " 0.91880575 0.87693886 0.88215513 0.9021963  0.92759092 0.95765273\n",
      " 0.96307478 0.98284146 1.         0.9698696  0.98194918 0.99320518\n",
      " 0.94056277 0.9207275  0.93870962 0.95696634 0.96376116 0.98826351\n",
      " 0.99450925 0.98970487 0.98929308 1.05025959 1.07103086 1.09982765\n",
      " 1.13533676 1.1769526  1.22467768 1.27882087 1.33976877 1.40783584\n",
      " 1.48316312 1.56563556 1.65480959 1.7498579  1.84954524 1.95225692\n",
      " 2.05608678 2.15898705 2.25894856 2.35418177 2.44325662 2.52518225\n",
      " 2.5994122  2.66579866 2.7245183  2.77597547]\n",
      "25 day output [[2.820722]]\n",
      "26 day input [0.77240904 0.77137957 0.74406309 0.74241594 0.7549759  0.75943719\n",
      " 0.76211391 0.75175019 0.74344541 0.74138636 0.74090598 0.73088534\n",
      " 0.72601238 0.72621827 0.72560048 0.73980781 0.73953321 0.7438572\n",
      " 0.73315028 0.72045292 0.73747427 0.74447488 0.75778993 0.7737817\n",
      " 0.7777625  0.77700752 0.78071372 0.77515437 0.7852436  0.7776252\n",
      " 0.80123537 0.77906656 0.77741931 0.79025397 0.79299929 0.79615641\n",
      " 0.79457785 0.79025397 0.78929299 0.78037063 0.77556616 0.78222368\n",
      " 0.79238161 0.78970488 0.81379544 0.83898417 0.85511324 0.88723399\n",
      " 0.8604667  0.86280024 0.85120105 0.85628001 0.88599862 0.91880575\n",
      " 0.87693886 0.88215513 0.9021963  0.92759092 0.95765273 0.96307478\n",
      " 0.98284146 1.         0.9698696  0.98194918 0.99320518 0.94056277\n",
      " 0.9207275  0.93870962 0.95696634 0.96376116 0.98826351 0.99450925\n",
      " 0.98970487 0.98929308 1.05025959 1.07103086 1.09982765 1.13533676\n",
      " 1.1769526  1.22467768 1.27882087 1.33976877 1.40783584 1.48316312\n",
      " 1.56563556 1.65480959 1.7498579  1.84954524 1.95225692 2.05608678\n",
      " 2.15898705 2.25894856 2.35418177 2.44325662 2.52518225 2.5994122\n",
      " 2.66579866 2.7245183  2.77597547 2.8207221 ]\n",
      "26 day output [[2.8593884]]\n",
      "27 day input [0.77137957 0.74406309 0.74241594 0.7549759  0.75943719 0.76211391\n",
      " 0.75175019 0.74344541 0.74138636 0.74090598 0.73088534 0.72601238\n",
      " 0.72621827 0.72560048 0.73980781 0.73953321 0.7438572  0.73315028\n",
      " 0.72045292 0.73747427 0.74447488 0.75778993 0.7737817  0.7777625\n",
      " 0.77700752 0.78071372 0.77515437 0.7852436  0.7776252  0.80123537\n",
      " 0.77906656 0.77741931 0.79025397 0.79299929 0.79615641 0.79457785\n",
      " 0.79025397 0.78929299 0.78037063 0.77556616 0.78222368 0.79238161\n",
      " 0.78970488 0.81379544 0.83898417 0.85511324 0.88723399 0.8604667\n",
      " 0.86280024 0.85120105 0.85628001 0.88599862 0.91880575 0.87693886\n",
      " 0.88215513 0.9021963  0.92759092 0.95765273 0.96307478 0.98284146\n",
      " 1.         0.9698696  0.98194918 0.99320518 0.94056277 0.9207275\n",
      " 0.93870962 0.95696634 0.96376116 0.98826351 0.99450925 0.98970487\n",
      " 0.98929308 1.05025959 1.07103086 1.09982765 1.13533676 1.1769526\n",
      " 1.22467768 1.27882087 1.33976877 1.40783584 1.48316312 1.56563556\n",
      " 1.65480959 1.7498579  1.84954524 1.95225692 2.05608678 2.15898705\n",
      " 2.25894856 2.35418177 2.44325662 2.52518225 2.5994122  2.66579866\n",
      " 2.7245183  2.77597547 2.8207221  2.85938835]\n",
      "27 day output [[2.8926253]]\n",
      "28 day input [0.74406309 0.74241594 0.7549759  0.75943719 0.76211391 0.75175019\n",
      " 0.74344541 0.74138636 0.74090598 0.73088534 0.72601238 0.72621827\n",
      " 0.72560048 0.73980781 0.73953321 0.7438572  0.73315028 0.72045292\n",
      " 0.73747427 0.74447488 0.75778993 0.7737817  0.7777625  0.77700752\n",
      " 0.78071372 0.77515437 0.7852436  0.7776252  0.80123537 0.77906656\n",
      " 0.77741931 0.79025397 0.79299929 0.79615641 0.79457785 0.79025397\n",
      " 0.78929299 0.78037063 0.77556616 0.78222368 0.79238161 0.78970488\n",
      " 0.81379544 0.83898417 0.85511324 0.88723399 0.8604667  0.86280024\n",
      " 0.85120105 0.85628001 0.88599862 0.91880575 0.87693886 0.88215513\n",
      " 0.9021963  0.92759092 0.95765273 0.96307478 0.98284146 1.\n",
      " 0.9698696  0.98194918 0.99320518 0.94056277 0.9207275  0.93870962\n",
      " 0.95696634 0.96376116 0.98826351 0.99450925 0.98970487 0.98929308\n",
      " 1.05025959 1.07103086 1.09982765 1.13533676 1.1769526  1.22467768\n",
      " 1.27882087 1.33976877 1.40783584 1.48316312 1.56563556 1.65480959\n",
      " 1.7498579  1.84954524 1.95225692 2.05608678 2.15898705 2.25894856\n",
      " 2.35418177 2.44325662 2.52518225 2.5994122  2.66579866 2.7245183\n",
      " 2.77597547 2.8207221  2.85938835 2.89262533]\n"
     ]
    },
    {
     "name": "stdout",
     "output_type": "stream",
     "text": [
      "28 day output [[2.9210742]]\n",
      "29 day input [0.74241594 0.7549759  0.75943719 0.76211391 0.75175019 0.74344541\n",
      " 0.74138636 0.74090598 0.73088534 0.72601238 0.72621827 0.72560048\n",
      " 0.73980781 0.73953321 0.7438572  0.73315028 0.72045292 0.73747427\n",
      " 0.74447488 0.75778993 0.7737817  0.7777625  0.77700752 0.78071372\n",
      " 0.77515437 0.7852436  0.7776252  0.80123537 0.77906656 0.77741931\n",
      " 0.79025397 0.79299929 0.79615641 0.79457785 0.79025397 0.78929299\n",
      " 0.78037063 0.77556616 0.78222368 0.79238161 0.78970488 0.81379544\n",
      " 0.83898417 0.85511324 0.88723399 0.8604667  0.86280024 0.85120105\n",
      " 0.85628001 0.88599862 0.91880575 0.87693886 0.88215513 0.9021963\n",
      " 0.92759092 0.95765273 0.96307478 0.98284146 1.         0.9698696\n",
      " 0.98194918 0.99320518 0.94056277 0.9207275  0.93870962 0.95696634\n",
      " 0.96376116 0.98826351 0.99450925 0.98970487 0.98929308 1.05025959\n",
      " 1.07103086 1.09982765 1.13533676 1.1769526  1.22467768 1.27882087\n",
      " 1.33976877 1.40783584 1.48316312 1.56563556 1.65480959 1.7498579\n",
      " 1.84954524 1.95225692 2.05608678 2.15898705 2.25894856 2.35418177\n",
      " 2.44325662 2.52518225 2.5994122  2.66579866 2.7245183  2.77597547\n",
      " 2.8207221  2.85938835 2.89262533 2.92107415]\n",
      "29 day output [[2.9453375]]\n",
      "[[1.0502595901489258], [1.071030855178833], [1.0998276472091675], [1.1353367567062378], [1.176952600479126], [1.2246776819229126], [1.2788208723068237], [1.3397687673568726], [1.407835841178894], [1.4831631183624268], [1.5656355619430542], [1.654809594154358], [1.7498579025268555], [1.8495452404022217], [1.9522569179534912], [2.056086778640747], [2.158987045288086], [2.258948564529419], [2.3541817665100098], [2.4432566165924072], [2.5251822471618652], [2.599412202835083], [2.6657986640930176], [2.724518299102783], [2.775975465774536], [2.8207221031188965], [2.8593883514404297], [2.892625331878662], [2.921074151992798], [2.9453375339508057]]\n"
     ]
    }
   ],
   "source": [
    "from numpy import array\n",
    "\n",
    "lst_output=[]\n",
    "n_steps=100\n",
    "i=0\n",
    "while(i<30):\n",
    "    \n",
    "    if(len(temp_input)>100):\n",
    "        x_input=np.array(temp_input[1:])\n",
    "        print(\"{} day input {}\".format(i,x_input))\n",
    "        x_input=x_input.reshape(1,-1)\n",
    "        x_input = x_input.reshape((1, n_steps, 1))\n",
    "        yhat = model.predict(x_input, verbose=0)\n",
    "        print(\"{} day output {}\".format(i,yhat))\n",
    "        temp_input.extend(yhat[0].tolist())\n",
    "        temp_input=temp_input[1:]\n",
    "        lst_output.extend(yhat.tolist())\n",
    "        i=i+1\n",
    "    else:\n",
    "        x_input = x_input.reshape((1, n_steps,1))\n",
    "        yhat = model.predict(x_input, verbose=0)\n",
    "        print(yhat[0])\n",
    "        temp_input.extend(yhat[0].tolist())\n",
    "        print(len(temp_input))\n",
    "        lst_output.extend(yhat.tolist())\n",
    "        i=i+1\n",
    "    \n",
    "\n",
    "print(lst_output)"
   ]
  },
  {
   "cell_type": "code",
   "execution_count": 27,
   "metadata": {},
   "outputs": [],
   "source": [
    "day_new=np.arange(1,101)\n",
    "day_pred=np.arange(101,131)"
   ]
  },
  {
   "cell_type": "code",
   "execution_count": 28,
   "metadata": {},
   "outputs": [
    {
     "data": {
      "text/plain": [
       "array([[189.45282754],\n",
       "       [192.47920095],\n",
       "       [196.6748937 ],\n",
       "       [201.84857113],\n",
       "       [207.91199977],\n",
       "       [214.86554438],\n",
       "       [222.75420749],\n",
       "       [231.6343161 ],\n",
       "       [241.5516891 ],\n",
       "       [252.52687376],\n",
       "       [264.5431092 ],\n",
       "       [277.53576614],\n",
       "       [291.38430515],\n",
       "       [305.90875077],\n",
       "       [320.87384271],\n",
       "       [336.00185393],\n",
       "       [350.99442329],\n",
       "       [365.55881715],\n",
       "       [379.43429515],\n",
       "       [392.41250125],\n",
       "       [404.34906604],\n",
       "       [415.16437095],\n",
       "       [424.83687869],\n",
       "       [433.3923298 ],\n",
       "       [440.88963924],\n",
       "       [447.40922453],\n",
       "       [453.0428971 ],\n",
       "       [457.88552532],\n",
       "       [462.03051855],\n",
       "       [465.56569342]])"
      ]
     },
     "execution_count": 28,
     "metadata": {},
     "output_type": "execute_result"
    }
   ],
   "source": [
    "scaler.inverse_transform(lst_output)\n"
   ]
  },
  {
   "cell_type": "code",
   "execution_count": 29,
   "metadata": {},
   "outputs": [
    {
     "data": {
      "text/plain": [
       "1113"
      ]
     },
     "execution_count": 29,
     "metadata": {},
     "output_type": "execute_result"
    }
   ],
   "source": [
    "len(df1)"
   ]
  },
  {
   "cell_type": "code",
   "execution_count": null,
   "metadata": {},
   "outputs": [],
   "source": []
  },
  {
   "cell_type": "code",
   "execution_count": 30,
   "metadata": {
    "scrolled": true
   },
   "outputs": [
    {
     "data": {
      "image/png": "[encoded data removed]",
      "text/plain": [
       "<Figure size 432x288 with 1 Axes>"
      ]
     },
     "metadata": {},
     "output_type": "display_data"
    }
   ],
   "source": [
    "plt.plot(day_new,scaler.inverse_transform(df1[1013:]))\n",
    "plt.plot(day_pred,scaler.inverse_transform(lst_output))\n",
    "plt.savefig('30daypredict.png')"
   ]
  },
  {
   "cell_type": "code",
   "execution_count": 31,
   "metadata": {},
   "outputs": [
    {
     "data": {
      "text/plain": [
       "[<matplotlib.lines.Line2D at 0x1c1d85fc2e0>]"
      ]
     },
     "execution_count": 31,
     "metadata": {},
     "output_type": "execute_result"
    },
    {
     "data": {
      "image/png": "[encoded data removed]",
      "text/plain": [
       "<Figure size 432x288 with 1 Axes>"
      ]
     },
     "metadata": {},
     "output_type": "display_data"
    }
   ],
   "source": [
    "df3=df1.tolist()\n",
    "df3.extend(lst_output)\n",
    "plt.plot(df3[900:])"
   ]
  },
  {
   "cell_type": "code",
   "execution_count": 32,
   "metadata": {},
   "outputs": [],
   "source": [
    "df3=scaler.inverse_transform(df3).tolist()"
   ]
  },
  {
   "cell_type": "code",
   "execution_count": 33,
   "metadata": {},
   "outputs": [
    {
     "data": {
      "text/plain": [
       "[<matplotlib.lines.Line2D at 0x1c1d8676100>]"
      ]
     },
     "execution_count": 33,
     "metadata": {},
     "output_type": "execute_result"
    },
    {
     "data": {
      "image/png": "[encoded data removed]",
      "text/plain": [
       "<Figure size 432x288 with 1 Axes>"
      ]
     },
     "metadata": {},
     "output_type": "display_data"
    }
   ],
   "source": [
    "plt.plot(df3)"
   ]
  },
  {
   "cell_type": "code",
   "execution_count": null,
   "metadata": {},
   "outputs": [],
   "source": []
  }
 ],
 "metadata": {
  "kernelspec": {
   "display_name": "Python 3",
   "language": "python",
   "name": "python3"
  },
  "language_info": {
   "codemirror_mode": {
    "name": "ipython",
    "version": 3
   },
   "file_extension": ".py",
   "mimetype": "text/x-python",
   "name": "python",
   "nbconvert_exporter": "python",
   "pygments_lexer": "ipython3",
   "version": "3.8.10"
  }
 },
 "nbformat": 4,
 "nbformat_minor": 4
}
