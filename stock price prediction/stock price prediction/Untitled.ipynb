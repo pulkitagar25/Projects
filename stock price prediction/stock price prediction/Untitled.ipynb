{
 "cells": [
  {
   "cell_type": "code",
   "execution_count": 1,
   "metadata": {},
   "outputs": [],
   "source": [
    "import numpy as np\n",
    "import pandas as pd"
   ]
  },
  {
   "cell_type": "code",
   "execution_count": 2,
   "metadata": {},
   "outputs": [],
   "source": [
    "data=pd.read_csv(\"stockdata.csv\")"
   ]
  },
  {
   "cell_type": "code",
   "execution_count": 3,
   "metadata": {},
   "outputs": [
    {
     "data": {
      "text/html": [
       "<div>\n",
       "<style scoped>\n",
       "    .dataframe tbody tr th:only-of-type {\n",
       "        vertical-align: middle;\n",
       "    }\n",
       "\n",
       "    .dataframe tbody tr th {\n",
       "        vertical-align: top;\n",
       "    }\n",
       "\n",
       "    .dataframe thead th {\n",
       "        text-align: right;\n",
       "    }\n",
       "</style>\n",
       "<table border=\"1\" class=\"dataframe\">\n",
       "  <thead>\n",
       "    <tr style=\"text-align: right;\">\n",
       "      <th></th>\n",
       "      <th>Date</th>\n",
       "      <th>Price</th>\n",
       "      <th>Open</th>\n",
       "      <th>High</th>\n",
       "      <th>Low</th>\n",
       "      <th>Volume</th>\n",
       "      <th>chg %</th>\n",
       "    </tr>\n",
       "  </thead>\n",
       "  <tbody>\n",
       "    <tr>\n",
       "      <th>0</th>\n",
       "      <td>11-02-2021</td>\n",
       "      <td>229.85</td>\n",
       "      <td>228.45</td>\n",
       "      <td>234.9</td>\n",
       "      <td>228.40</td>\n",
       "      <td>63.89</td>\n",
       "      <td>3.09</td>\n",
       "    </tr>\n",
       "    <tr>\n",
       "      <th>1</th>\n",
       "      <td>10-29-2021</td>\n",
       "      <td>214.30</td>\n",
       "      <td>210.50</td>\n",
       "      <td>217.7</td>\n",
       "      <td>201.40</td>\n",
       "      <td>115.03</td>\n",
       "      <td>-1.70</td>\n",
       "    </tr>\n",
       "    <tr>\n",
       "      <th>2</th>\n",
       "      <td>10-28-2021</td>\n",
       "      <td>218.00</td>\n",
       "      <td>224.80</td>\n",
       "      <td>224.8</td>\n",
       "      <td>216.60</td>\n",
       "      <td>64.73</td>\n",
       "      <td>-2.79</td>\n",
       "    </tr>\n",
       "    <tr>\n",
       "      <th>3</th>\n",
       "      <td>10-27-2021</td>\n",
       "      <td>224.25</td>\n",
       "      <td>231.50</td>\n",
       "      <td>232.7</td>\n",
       "      <td>222.70</td>\n",
       "      <td>78.58</td>\n",
       "      <td>-0.47</td>\n",
       "    </tr>\n",
       "    <tr>\n",
       "      <th>4</th>\n",
       "      <td>10-26-2021</td>\n",
       "      <td>225.30</td>\n",
       "      <td>215.05</td>\n",
       "      <td>232.3</td>\n",
       "      <td>214.25</td>\n",
       "      <td>113.04</td>\n",
       "      <td>5.48</td>\n",
       "    </tr>\n",
       "  </tbody>\n",
       "</table>\n",
       "</div>"
      ],
      "text/plain": [
       "         Date   Price    Open   High     Low  Volume  chg %\n",
       "0  11-02-2021  229.85  228.45  234.9  228.40   63.89   3.09\n",
       "1  10-29-2021  214.30  210.50  217.7  201.40  115.03  -1.70\n",
       "2  10-28-2021  218.00  224.80  224.8  216.60   64.73  -2.79\n",
       "3  10-27-2021  224.25  231.50  232.7  222.70   78.58  -0.47\n",
       "4  10-26-2021  225.30  215.05  232.3  214.25  113.04   5.48"
      ]
     },
     "execution_count": 3,
     "metadata": {},
     "output_type": "execute_result"
    }
   ],
   "source": [
    "data.head()"
   ]
  },
  {
   "cell_type": "code",
   "execution_count": 4,
   "metadata": {},
   "outputs": [
    {
     "data": {
      "text/html": [
       "<div>\n",
       "<style scoped>\n",
       "    .dataframe tbody tr th:only-of-type {\n",
       "        vertical-align: middle;\n",
       "    }\n",
       "\n",
       "    .dataframe tbody tr th {\n",
       "        vertical-align: top;\n",
       "    }\n",
       "\n",
       "    .dataframe thead th {\n",
       "        text-align: right;\n",
       "    }\n",
       "</style>\n",
       "<table border=\"1\" class=\"dataframe\">\n",
       "  <thead>\n",
       "    <tr style=\"text-align: right;\">\n",
       "      <th></th>\n",
       "      <th>Price</th>\n",
       "      <th>Open</th>\n",
       "      <th>High</th>\n",
       "      <th>Low</th>\n",
       "      <th>Volume</th>\n",
       "      <th>chg %</th>\n",
       "    </tr>\n",
       "  </thead>\n",
       "  <tbody>\n",
       "    <tr>\n",
       "      <th>count</th>\n",
       "      <td>20.000000</td>\n",
       "      <td>20.000000</td>\n",
       "      <td>20.000000</td>\n",
       "      <td>20.000000</td>\n",
       "      <td>20.000000</td>\n",
       "      <td>20.000000</td>\n",
       "    </tr>\n",
       "    <tr>\n",
       "      <th>mean</th>\n",
       "      <td>210.185000</td>\n",
       "      <td>210.095000</td>\n",
       "      <td>218.530000</td>\n",
       "      <td>201.725000</td>\n",
       "      <td>129.013000</td>\n",
       "      <td>1.679500</td>\n",
       "    </tr>\n",
       "    <tr>\n",
       "      <th>std</th>\n",
       "      <td>24.288524</td>\n",
       "      <td>27.171201</td>\n",
       "      <td>27.961874</td>\n",
       "      <td>21.821462</td>\n",
       "      <td>74.191179</td>\n",
       "      <td>6.121906</td>\n",
       "    </tr>\n",
       "    <tr>\n",
       "      <th>min</th>\n",
       "      <td>168.800000</td>\n",
       "      <td>166.250000</td>\n",
       "      <td>172.500000</td>\n",
       "      <td>164.000000</td>\n",
       "      <td>43.370000</td>\n",
       "      <td>-10.710000</td>\n",
       "    </tr>\n",
       "    <tr>\n",
       "      <th>25%</th>\n",
       "      <td>188.475000</td>\n",
       "      <td>182.175000</td>\n",
       "      <td>191.462500</td>\n",
       "      <td>176.962500</td>\n",
       "      <td>81.437500</td>\n",
       "      <td>-1.825000</td>\n",
       "    </tr>\n",
       "    <tr>\n",
       "      <th>50%</th>\n",
       "      <td>220.000000</td>\n",
       "      <td>219.825000</td>\n",
       "      <td>228.600000</td>\n",
       "      <td>211.125000</td>\n",
       "      <td>103.090000</td>\n",
       "      <td>-0.105000</td>\n",
       "    </tr>\n",
       "    <tr>\n",
       "      <th>75%</th>\n",
       "      <td>225.512500</td>\n",
       "      <td>228.462500</td>\n",
       "      <td>234.525000</td>\n",
       "      <td>220.587500</td>\n",
       "      <td>143.002500</td>\n",
       "      <td>3.687500</td>\n",
       "    </tr>\n",
       "    <tr>\n",
       "      <th>max</th>\n",
       "      <td>257.300000</td>\n",
       "      <td>266.000000</td>\n",
       "      <td>267.850000</td>\n",
       "      <td>228.400000</td>\n",
       "      <td>305.040000</td>\n",
       "      <td>15.590000</td>\n",
       "    </tr>\n",
       "  </tbody>\n",
       "</table>\n",
       "</div>"
      ],
      "text/plain": [
       "            Price        Open        High         Low      Volume      chg %\n",
       "count   20.000000   20.000000   20.000000   20.000000   20.000000  20.000000\n",
       "mean   210.185000  210.095000  218.530000  201.725000  129.013000   1.679500\n",
       "std     24.288524   27.171201   27.961874   21.821462   74.191179   6.121906\n",
       "min    168.800000  166.250000  172.500000  164.000000   43.370000 -10.710000\n",
       "25%    188.475000  182.175000  191.462500  176.962500   81.437500  -1.825000\n",
       "50%    220.000000  219.825000  228.600000  211.125000  103.090000  -0.105000\n",
       "75%    225.512500  228.462500  234.525000  220.587500  143.002500   3.687500\n",
       "max    257.300000  266.000000  267.850000  228.400000  305.040000  15.590000"
      ]
     },
     "execution_count": 4,
     "metadata": {},
     "output_type": "execute_result"
    }
   ],
   "source": [
    "data.describe()"
   ]
  },
  {
   "cell_type": "code",
   "execution_count": 5,
   "metadata": {},
   "outputs": [
    {
     "data": {
      "text/plain": [
       "Date      0\n",
       "Price     0\n",
       "Open      0\n",
       "High      0\n",
       "Low       0\n",
       "Volume    0\n",
       "chg %     0\n",
       "dtype: int64"
      ]
     },
     "execution_count": 5,
     "metadata": {},
     "output_type": "execute_result"
    }
   ],
   "source": [
    "data.isnull().sum()"
   ]
  },
  {
   "cell_type": "code",
   "execution_count": 6,
   "metadata": {},
   "outputs": [
    {
     "name": "stdout",
     "output_type": "stream",
     "text": [
      "<class 'pandas.core.frame.DataFrame'>\n",
      "RangeIndex: 20 entries, 0 to 19\n",
      "Data columns (total 7 columns):\n",
      " #   Column  Non-Null Count  Dtype  \n",
      "---  ------  --------------  -----  \n",
      " 0   Date    20 non-null     object \n",
      " 1   Price   20 non-null     float64\n",
      " 2   Open    20 non-null     float64\n",
      " 3   High    20 non-null     float64\n",
      " 4   Low     20 non-null     float64\n",
      " 5   Volume  20 non-null     float64\n",
      " 6   chg %   20 non-null     float64\n",
      "dtypes: float64(6), object(1)\n",
      "memory usage: 1.2+ KB\n"
     ]
    }
   ],
   "source": [
    "data.info()"
   ]
  },
  {
   "cell_type": "code",
   "execution_count": 7,
   "metadata": {},
   "outputs": [],
   "source": [
    "data.set_index(pd.DatetimeIndex(data['Date']), inplace=True)"
   ]
  },
  {
   "cell_type": "code",
   "execution_count": 10,
   "metadata": {},
   "outputs": [],
   "source": [
    "df = data['Price']"
   ]
  },
  {
   "cell_type": "code",
   "execution_count": 12,
   "metadata": {},
   "outputs": [
    {
     "name": "stdout",
     "output_type": "stream",
     "text": [
      "Date\n",
      "2021-11-02    229.85\n",
      "2021-10-29    214.30\n",
      "2021-10-28    218.00\n",
      "2021-10-27    224.25\n",
      "2021-10-26    225.30\n",
      "2021-10-25    213.60\n",
      "2021-10-22    222.00\n",
      "2021-10-21    226.15\n",
      "2021-10-20    230.35\n",
      "2021-10-19    229.75\n",
      "2021-10-18    257.30\n",
      "2021-10-14    222.60\n",
      "2021-10-13    224.20\n",
      "2021-10-12    195.80\n",
      "2021-10-11    191.50\n",
      "2021-10-08    176.85\n",
      "2021-10-07    177.75\n",
      "2021-10-06    175.95\n",
      "2021-10-05    179.40\n",
      "2021-10-04    168.80\n",
      "Name: Price, dtype: float64\n"
     ]
    }
   ],
   "source": [
    "print(df)"
   ]
  },
  {
   "cell_type": "code",
   "execution_count": 18,
   "metadata": {},
   "outputs": [
    {
     "data": {
      "text/plain": [
       "[<matplotlib.lines.Line2D at 0x20ed6272cd0>]"
      ]
     },
     "execution_count": 18,
     "metadata": {},
     "output_type": "execute_result"
    },
    {
     "data": {
      "image/png": "[encoded data removed]",
      "text/plain": [
       "<Figure size 1152x360 with 1 Axes>"
      ]
     },
     "metadata": {
      "needs_background": "light"
     },
     "output_type": "display_data"
    }
   ],
   "source": [
    "plt.figure(figsize=(16,5))\n",
    "plt.plot(data['Price'], label='Price history')"
   ]
  },
  {
   "cell_type": "code",
   "execution_count": null,
   "metadata": {},
   "outputs": [],
   "source": []
  },
  {
   "cell_type": "code",
   "execution_count": null,
   "metadata": {},
   "outputs": [],
   "source": []
  },
  {
   "cell_type": "code",
   "execution_count": null,
   "metadata": {},
   "outputs": [],
   "source": []
  },
  {
   "cell_type": "code",
   "execution_count": null,
   "metadata": {},
   "outputs": [],
   "source": []
  },
  {
   "cell_type": "code",
   "execution_count": 8,
   "metadata": {},
   "outputs": [],
   "source": [
    "df1=data['Price']"
   ]
  },
  {
   "cell_type": "code",
   "execution_count": 9,
   "metadata": {},
   "outputs": [
    {
     "data": {
      "text/plain": [
       "[<matplotlib.lines.Line2D at 0x20ed62182e0>]"
      ]
     },
     "execution_count": 9,
     "metadata": {},
     "output_type": "execute_result"
    },
    {
     "data": {
      "image/png": "[encoded data removed]",
      "text/plain": [
       "<Figure size 432x288 with 1 Axes>"
      ]
     },
     "metadata": {
      "needs_background": "light"
     },
     "output_type": "display_data"
    }
   ],
   "source": [
    "import matplotlib.pyplot as plt\n",
    "plt.plot(df1)"
   ]
  },
  {
   "cell_type": "code",
   "execution_count": null,
   "metadata": {},
   "outputs": [],
   "source": []
  }
 ],
 "metadata": {
  "kernelspec": {
   "display_name": "Python 3",
   "language": "python",
   "name": "python3"
  },
  "language_info": {
   "codemirror_mode": {
    "name": "ipython",
    "version": 3
   },
   "file_extension": ".py",
   "mimetype": "text/x-python",
   "name": "python",
   "nbconvert_exporter": "python",
   "pygments_lexer": "ipython3",
   "version": "3.8.10"
  }
 },
 "nbformat": 4,
 "nbformat_minor": 4
}
